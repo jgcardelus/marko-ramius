{
  "cells": [
    {
      "cell_type": "markdown",
      "metadata": {
        "id": "xoyr7F7GNiM6"
      },
      "source": [
        "# Prueba Intertrimestral\n",
        "\n",
        "**Nombre:** Jorge\n",
        "\n",
        "**Apellidos:** González Cardelús\n",
        "\n",
        "**Tiempo de la prueba: 2 Horas**\n",
        "\n",
        "**Asignatura:** Desarrollo de Aplicaciones para la Visualización de Datos\n",
        "\n",
        "**Fecha:** 18 de octubre de 2023\n",
        "\n",
        "**Instrucciones:**\n",
        "\n",
        "- Escribe código limpio y autoexplicativo.\n",
        "\n",
        "- Se eliminará 0.5 puntos por usar Seaborn o Matplotlib.\n",
        "\n",
        "- Se pueden utilizar los materiales de clase.\n",
        "\n",
        "- Se puede utilizar internet para búsqueda de dudas y documentación.\n",
        "\n",
        "- No se puede utilizar ningún tipo de LLM.\n",
        "\n",
        "- No se puede utilizar mensajería instantánea.\n",
        "\n",
        "- Sube tus resultados a tu repositorio de Github.\n",
        "\n",
        "- Imprime una versión en PDF en A3 y Portrait del notebook.\n",
        "\n",
        "- Envialo tus resultados a dmartincorral@icai.comillas.edu adjuntando el PDF y la url del notebook subido al repositorio de Github.\n"
      ]
    },
    {
      "cell_type": "markdown",
      "metadata": {
        "id": "_yd5v77lO4fW"
      },
      "source": [
        "## Inicialización de librerías\n",
        "\n",
        "Carga aquí todas las librerías que vayas a utilizar."
      ]
    },
    {
      "cell_type": "code",
      "execution_count": 1,
      "metadata": {
        "id": "xCJ9wLIePA99"
      },
      "outputs": [],
      "source": [
        "import pandas as pd\n",
        "import numpy as np\n",
        "import plotly.graph_objects as go\n",
        "from plotly.subplots import make_subplots\n",
        "import plotly.express as px\n",
        "\n",
        "from sklearn import datasets\n",
        "from sklearn.linear_model import LinearRegression\n",
        "from sklearn.ensemble import RandomForestRegressor\n",
        "from sklearn.model_selection import train_test_split\n",
        "from statsmodels.regression.linear_model import OLS\n",
        "from sklearn.metrics import r2_score, mean_squared_error"
      ]
    },
    {
      "cell_type": "markdown",
      "metadata": {
        "id": "-DcUj8fKPD19"
      },
      "source": [
        "## Ejercicio 1 (2 puntos):\n",
        "\n",
        "a) Crea una función que calcule y devuelva el factorial de un número entero. **(0.6 puntos)**\n",
        "\n",
        "b) Crea una función que verifique si un número es primo o no. **(0.6 puntos)**\n",
        "\n",
        "c) Muestra en un dataframe los 50 primeros números positivos, si es primo y su factorial utilizando las funciones anteriores. **(0.6 puntos)**\n",
        "\n",
        "d) ¿Cómo se podría programar en una clase las tres operaciones anteriores? **(0.2 puntos)**"
      ]
    },
    {
      "cell_type": "code",
      "execution_count": null,
      "metadata": {
        "id": "IaPhSsDoSBL-"
      },
      "outputs": [],
      "source": [
        "class Operations:\n",
        "    def fact(self, n):\n",
        "        if n == 0:\n",
        "            return 1\n",
        "        \n",
        "        if n>1:\n",
        "            return self.fact(n-1)*n\n",
        "        elif n==1:\n",
        "            return 1\n",
        "        \n",
        "    def is_prime(self, n):\n",
        "        check = 2\n",
        "        while check < n:\n",
        "            if n % check == 0:\n",
        "                # Es divisble entre check, no puede ser primo\n",
        "                return False\n",
        "            else:\n",
        "                check += 1\n",
        "        return True\n",
        "\n",
        "    def create_dataframe(self, n=50):\n",
        "        data = []\n",
        "        for i in range(n):\n",
        "            data.append([i, self.fact(i), self.is_prime(i)])\n",
        "        \n",
        "        df = pd.DataFrame(data, columns=[\"number\", \"factorial\", \"is_prime\"])\n",
        "        return df\n",
        "    "
      ]
    },
    {
      "cell_type": "code",
      "execution_count": null,
      "metadata": {},
      "outputs": [
        {
          "data": {
            "text/html": [
              "<div>\n",
              "<style scoped>\n",
              "    .dataframe tbody tr th:only-of-type {\n",
              "        vertical-align: middle;\n",
              "    }\n",
              "\n",
              "    .dataframe tbody tr th {\n",
              "        vertical-align: top;\n",
              "    }\n",
              "\n",
              "    .dataframe thead th {\n",
              "        text-align: right;\n",
              "    }\n",
              "</style>\n",
              "<table border=\"1\" class=\"dataframe\">\n",
              "  <thead>\n",
              "    <tr style=\"text-align: right;\">\n",
              "      <th></th>\n",
              "      <th>number</th>\n",
              "      <th>factorial</th>\n",
              "      <th>is_prime</th>\n",
              "    </tr>\n",
              "  </thead>\n",
              "  <tbody>\n",
              "    <tr>\n",
              "      <th>0</th>\n",
              "      <td>0</td>\n",
              "      <td>1</td>\n",
              "      <td>True</td>\n",
              "    </tr>\n",
              "    <tr>\n",
              "      <th>1</th>\n",
              "      <td>1</td>\n",
              "      <td>1</td>\n",
              "      <td>True</td>\n",
              "    </tr>\n",
              "    <tr>\n",
              "      <th>2</th>\n",
              "      <td>2</td>\n",
              "      <td>2</td>\n",
              "      <td>True</td>\n",
              "    </tr>\n",
              "    <tr>\n",
              "      <th>3</th>\n",
              "      <td>3</td>\n",
              "      <td>6</td>\n",
              "      <td>True</td>\n",
              "    </tr>\n",
              "    <tr>\n",
              "      <th>4</th>\n",
              "      <td>4</td>\n",
              "      <td>24</td>\n",
              "      <td>False</td>\n",
              "    </tr>\n",
              "    <tr>\n",
              "      <th>5</th>\n",
              "      <td>5</td>\n",
              "      <td>120</td>\n",
              "      <td>True</td>\n",
              "    </tr>\n",
              "    <tr>\n",
              "      <th>6</th>\n",
              "      <td>6</td>\n",
              "      <td>720</td>\n",
              "      <td>False</td>\n",
              "    </tr>\n",
              "    <tr>\n",
              "      <th>7</th>\n",
              "      <td>7</td>\n",
              "      <td>5040</td>\n",
              "      <td>True</td>\n",
              "    </tr>\n",
              "    <tr>\n",
              "      <th>8</th>\n",
              "      <td>8</td>\n",
              "      <td>40320</td>\n",
              "      <td>False</td>\n",
              "    </tr>\n",
              "    <tr>\n",
              "      <th>9</th>\n",
              "      <td>9</td>\n",
              "      <td>362880</td>\n",
              "      <td>False</td>\n",
              "    </tr>\n",
              "    <tr>\n",
              "      <th>10</th>\n",
              "      <td>10</td>\n",
              "      <td>3628800</td>\n",
              "      <td>False</td>\n",
              "    </tr>\n",
              "    <tr>\n",
              "      <th>11</th>\n",
              "      <td>11</td>\n",
              "      <td>39916800</td>\n",
              "      <td>True</td>\n",
              "    </tr>\n",
              "    <tr>\n",
              "      <th>12</th>\n",
              "      <td>12</td>\n",
              "      <td>479001600</td>\n",
              "      <td>False</td>\n",
              "    </tr>\n",
              "    <tr>\n",
              "      <th>13</th>\n",
              "      <td>13</td>\n",
              "      <td>6227020800</td>\n",
              "      <td>True</td>\n",
              "    </tr>\n",
              "    <tr>\n",
              "      <th>14</th>\n",
              "      <td>14</td>\n",
              "      <td>87178291200</td>\n",
              "      <td>False</td>\n",
              "    </tr>\n",
              "    <tr>\n",
              "      <th>15</th>\n",
              "      <td>15</td>\n",
              "      <td>1307674368000</td>\n",
              "      <td>False</td>\n",
              "    </tr>\n",
              "    <tr>\n",
              "      <th>16</th>\n",
              "      <td>16</td>\n",
              "      <td>20922789888000</td>\n",
              "      <td>False</td>\n",
              "    </tr>\n",
              "    <tr>\n",
              "      <th>17</th>\n",
              "      <td>17</td>\n",
              "      <td>355687428096000</td>\n",
              "      <td>True</td>\n",
              "    </tr>\n",
              "    <tr>\n",
              "      <th>18</th>\n",
              "      <td>18</td>\n",
              "      <td>6402373705728000</td>\n",
              "      <td>False</td>\n",
              "    </tr>\n",
              "    <tr>\n",
              "      <th>19</th>\n",
              "      <td>19</td>\n",
              "      <td>121645100408832000</td>\n",
              "      <td>True</td>\n",
              "    </tr>\n",
              "  </tbody>\n",
              "</table>\n",
              "</div>"
            ],
            "text/plain": [
              "    number           factorial  is_prime\n",
              "0        0                   1      True\n",
              "1        1                   1      True\n",
              "2        2                   2      True\n",
              "3        3                   6      True\n",
              "4        4                  24     False\n",
              "5        5                 120      True\n",
              "6        6                 720     False\n",
              "7        7                5040      True\n",
              "8        8               40320     False\n",
              "9        9              362880     False\n",
              "10      10             3628800     False\n",
              "11      11            39916800      True\n",
              "12      12           479001600     False\n",
              "13      13          6227020800      True\n",
              "14      14         87178291200     False\n",
              "15      15       1307674368000     False\n",
              "16      16      20922789888000     False\n",
              "17      17     355687428096000      True\n",
              "18      18    6402373705728000     False\n",
              "19      19  121645100408832000      True"
            ]
          },
          "execution_count": 10,
          "metadata": {},
          "output_type": "execute_result"
        }
      ],
      "source": [
        "operations = Operations()\n",
        "operations_df = operations.create_dataframe(50)\n",
        "operations_df.head(20)"
      ]
    },
    {
      "cell_type": "markdown",
      "metadata": {
        "id": "91Zj0Qo6SEDO"
      },
      "source": [
        "## Ejercicio 2 (4 puntos):\n",
        "\n",
        "a) Extrae de sklearn el conjunto de datos __California Housing dataset__\n",
        " y transfórmalo a dataframe de pandas **(0.25 puntos)**\n",
        "\n",
        "b) Construye una función que muestra la estructura del dataset, el número de NAs, tipos de variables y estadísticas básicas de cada una de las variables. **(0.5 puntos)**\n",
        "\n",
        "c) Construye una __Regresión lineal__ y un __Random forest__ que predigan el __Median house value__ según los datos disponibles. **(0.75 puntos)**\n",
        "\n",
        "d) Visualiza cuales son las variables (coeficientes) más importantes en cada uno de los modelos. **(1.25 puntos)**\n",
        "\n",
        "e) Decide a través de las métricas que consideres oportunas, cuál de los dos modelos es mejor, por qué y explica el proceso que has realizado para responder en los puntos anteriores. **(1.25 puntos)**"
      ]
    },
    {
      "cell_type": "code",
      "execution_count": null,
      "metadata": {
        "id": "2Aiag2OvUDJF"
      },
      "outputs": [
        {
          "name": "stdout",
          "output_type": "stream",
          "text": [
            "dict_keys(['data', 'target', 'frame', 'target_names', 'feature_names', 'DESCR'])\n"
          ]
        }
      ],
      "source": [
        "housing = datasets.fetch_california_housing()\n",
        "print(housing.keys())"
      ]
    },
    {
      "cell_type": "code",
      "execution_count": null,
      "metadata": {},
      "outputs": [
        {
          "data": {
            "text/html": [
              "<div>\n",
              "<style scoped>\n",
              "    .dataframe tbody tr th:only-of-type {\n",
              "        vertical-align: middle;\n",
              "    }\n",
              "\n",
              "    .dataframe tbody tr th {\n",
              "        vertical-align: top;\n",
              "    }\n",
              "\n",
              "    .dataframe thead th {\n",
              "        text-align: right;\n",
              "    }\n",
              "</style>\n",
              "<table border=\"1\" class=\"dataframe\">\n",
              "  <thead>\n",
              "    <tr style=\"text-align: right;\">\n",
              "      <th></th>\n",
              "      <th>MedInc</th>\n",
              "      <th>HouseAge</th>\n",
              "      <th>AveRooms</th>\n",
              "      <th>AveBedrms</th>\n",
              "      <th>Population</th>\n",
              "      <th>AveOccup</th>\n",
              "      <th>Latitude</th>\n",
              "      <th>Longitude</th>\n",
              "      <th>target</th>\n",
              "    </tr>\n",
              "  </thead>\n",
              "  <tbody>\n",
              "    <tr>\n",
              "      <th>0</th>\n",
              "      <td>8.3252</td>\n",
              "      <td>41.0</td>\n",
              "      <td>6.984127</td>\n",
              "      <td>1.023810</td>\n",
              "      <td>322.0</td>\n",
              "      <td>2.555556</td>\n",
              "      <td>37.88</td>\n",
              "      <td>-122.23</td>\n",
              "      <td>4.526</td>\n",
              "    </tr>\n",
              "    <tr>\n",
              "      <th>1</th>\n",
              "      <td>8.3014</td>\n",
              "      <td>21.0</td>\n",
              "      <td>6.238137</td>\n",
              "      <td>0.971880</td>\n",
              "      <td>2401.0</td>\n",
              "      <td>2.109842</td>\n",
              "      <td>37.86</td>\n",
              "      <td>-122.22</td>\n",
              "      <td>3.585</td>\n",
              "    </tr>\n",
              "    <tr>\n",
              "      <th>2</th>\n",
              "      <td>7.2574</td>\n",
              "      <td>52.0</td>\n",
              "      <td>8.288136</td>\n",
              "      <td>1.073446</td>\n",
              "      <td>496.0</td>\n",
              "      <td>2.802260</td>\n",
              "      <td>37.85</td>\n",
              "      <td>-122.24</td>\n",
              "      <td>3.521</td>\n",
              "    </tr>\n",
              "    <tr>\n",
              "      <th>3</th>\n",
              "      <td>5.6431</td>\n",
              "      <td>52.0</td>\n",
              "      <td>5.817352</td>\n",
              "      <td>1.073059</td>\n",
              "      <td>558.0</td>\n",
              "      <td>2.547945</td>\n",
              "      <td>37.85</td>\n",
              "      <td>-122.25</td>\n",
              "      <td>3.413</td>\n",
              "    </tr>\n",
              "    <tr>\n",
              "      <th>4</th>\n",
              "      <td>3.8462</td>\n",
              "      <td>52.0</td>\n",
              "      <td>6.281853</td>\n",
              "      <td>1.081081</td>\n",
              "      <td>565.0</td>\n",
              "      <td>2.181467</td>\n",
              "      <td>37.85</td>\n",
              "      <td>-122.25</td>\n",
              "      <td>3.422</td>\n",
              "    </tr>\n",
              "  </tbody>\n",
              "</table>\n",
              "</div>"
            ],
            "text/plain": [
              "   MedInc  HouseAge  AveRooms  AveBedrms  Population  AveOccup  Latitude  \\\n",
              "0  8.3252      41.0  6.984127   1.023810       322.0  2.555556     37.88   \n",
              "1  8.3014      21.0  6.238137   0.971880      2401.0  2.109842     37.86   \n",
              "2  7.2574      52.0  8.288136   1.073446       496.0  2.802260     37.85   \n",
              "3  5.6431      52.0  5.817352   1.073059       558.0  2.547945     37.85   \n",
              "4  3.8462      52.0  6.281853   1.081081       565.0  2.181467     37.85   \n",
              "\n",
              "   Longitude  target  \n",
              "0    -122.23   4.526  \n",
              "1    -122.22   3.585  \n",
              "2    -122.24   3.521  \n",
              "3    -122.25   3.413  \n",
              "4    -122.25   3.422  "
            ]
          },
          "execution_count": 12,
          "metadata": {},
          "output_type": "execute_result"
        }
      ],
      "source": [
        "housing_dataframe=pd.DataFrame(housing[\"data\"], columns=housing[\"feature_names\"])\n",
        "housing_dataframe[\"target\"] = housing[\"target\"]\n",
        "\n",
        "housing_dataframe.head(5)"
      ]
    },
    {
      "cell_type": "code",
      "execution_count": null,
      "metadata": {},
      "outputs": [
        {
          "name": "stdout",
          "output_type": "stream",
          "text": [
            "Dataframe information:\n",
            "\n",
            "\n",
            "<class 'pandas.core.frame.DataFrame'>\n",
            "RangeIndex: 20640 entries, 0 to 20639\n",
            "Data columns (total 9 columns):\n",
            " #   Column      Non-Null Count  Dtype  \n",
            "---  ------      --------------  -----  \n",
            " 0   MedInc      20640 non-null  float64\n",
            " 1   HouseAge    20640 non-null  float64\n",
            " 2   AveRooms    20640 non-null  float64\n",
            " 3   AveBedrms   20640 non-null  float64\n",
            " 4   Population  20640 non-null  float64\n",
            " 5   AveOccup    20640 non-null  float64\n",
            " 6   Latitude    20640 non-null  float64\n",
            " 7   Longitude   20640 non-null  float64\n",
            " 8   target      20640 non-null  float64\n",
            "dtypes: float64(9)\n",
            "memory usage: 1.4 MB\n",
            "None\n",
            "\n",
            "\n",
            "Dataframe statistics:\n",
            "\n",
            "\n",
            "             MedInc      HouseAge      AveRooms     AveBedrms    Population  \\\n",
            "count  20640.000000  20640.000000  20640.000000  20640.000000  20640.000000   \n",
            "mean       3.870671     28.639486      5.429000      1.096675   1425.476744   \n",
            "std        1.899822     12.585558      2.474173      0.473911   1132.462122   \n",
            "min        0.499900      1.000000      0.846154      0.333333      3.000000   \n",
            "25%        2.563400     18.000000      4.440716      1.006079    787.000000   \n",
            "50%        3.534800     29.000000      5.229129      1.048780   1166.000000   \n",
            "75%        4.743250     37.000000      6.052381      1.099526   1725.000000   \n",
            "max       15.000100     52.000000    141.909091     34.066667  35682.000000   \n",
            "\n",
            "           AveOccup      Latitude     Longitude        target  \n",
            "count  20640.000000  20640.000000  20640.000000  20640.000000  \n",
            "mean       3.070655     35.631861   -119.569704      2.068558  \n",
            "std       10.386050      2.135952      2.003532      1.153956  \n",
            "min        0.692308     32.540000   -124.350000      0.149990  \n",
            "25%        2.429741     33.930000   -121.800000      1.196000  \n",
            "50%        2.818116     34.260000   -118.490000      1.797000  \n",
            "75%        3.282261     37.710000   -118.010000      2.647250  \n",
            "max     1243.333333     41.950000   -114.310000      5.000010  \n",
            "\n",
            "\n",
            "NAs:\n",
            "\n",
            "\n",
            "MedInc: 0\n",
            "HouseAge: 0\n",
            "AveRooms: 0\n",
            "AveBedrms: 0\n",
            "Population: 0\n",
            "AveOccup: 0\n",
            "Latitude: 0\n",
            "Longitude: 0\n",
            "target: 0\n"
          ]
        }
      ],
      "source": [
        "def describe_df(df):\n",
        "    print(\"Dataframe information:\\n\\n\")\n",
        "    print(df.info())\n",
        "    print(\"\\n\\nDataframe statistics:\\n\\n\")\n",
        "    print(df.describe())\n",
        "\n",
        "    print(\"\\n\\nNAs:\\n\\n\")\n",
        "    for column in df.columns:\n",
        "        print(column + \": \" + str(df[column].isna().sum()))\n",
        "    \n",
        "\n",
        "describe_df(housing_dataframe)"
      ]
    },
    {
      "cell_type": "markdown",
      "metadata": {},
      "source": [
        "c) Construye una __Regresión lineal__ y un __Random forest__ que predigan el __Median house value__ según los datos disponibles. **(0.75 puntos)**"
      ]
    },
    {
      "cell_type": "code",
      "execution_count": null,
      "metadata": {},
      "outputs": [],
      "source": [
        "X = housing[\"data\"]\n",
        "y = housing[\"target\"]\n",
        "\n",
        "X_train, X_test, y_train, y_test = train_test_split(X, y ,test_size = 0.2, random_state = 123)"
      ]
    },
    {
      "cell_type": "code",
      "execution_count": null,
      "metadata": {},
      "outputs": [],
      "source": [
        "lr_model = OLS(y_train, X_train)\n",
        "rf_model = RandomForestRegressor()\n",
        "\n",
        "lr_result = lr_model.fit()\n",
        "rf_result = rf_model.fit(X_train, y_train)"
      ]
    },
    {
      "cell_type": "markdown",
      "metadata": {},
      "source": [
        "d) Visualiza cuales son las variables (coeficientes) más importantes en cada uno de los modelos. **(1.25 puntos)**"
      ]
    },
    {
      "cell_type": "code",
      "execution_count": null,
      "metadata": {},
      "outputs": [
        {
          "data": {
            "text/html": [
              "<table class=\"simpletable\">\n",
              "<caption>OLS Regression Results</caption>\n",
              "<tr>\n",
              "  <th>Dep. Variable:</th>            <td>y</td>        <th>  R-squared (uncentered):</th>      <td>   0.893</td> \n",
              "</tr>\n",
              "<tr>\n",
              "  <th>Model:</th>                   <td>OLS</td>       <th>  Adj. R-squared (uncentered):</th> <td>   0.893</td> \n",
              "</tr>\n",
              "<tr>\n",
              "  <th>Method:</th>             <td>Least Squares</td>  <th>  F-statistic:       </th>          <td>1.716e+04</td>\n",
              "</tr>\n",
              "<tr>\n",
              "  <th>Date:</th>             <td>Wed, 18 Oct 2023</td> <th>  Prob (F-statistic):</th>           <td>  0.00</td>  \n",
              "</tr>\n",
              "<tr>\n",
              "  <th>Time:</th>                 <td>17:26:03</td>     <th>  Log-Likelihood:    </th>          <td> -19248.</td> \n",
              "</tr>\n",
              "<tr>\n",
              "  <th>No. Observations:</th>      <td> 16512</td>      <th>  AIC:               </th>          <td>3.851e+04</td>\n",
              "</tr>\n",
              "<tr>\n",
              "  <th>Df Residuals:</th>          <td> 16504</td>      <th>  BIC:               </th>          <td>3.857e+04</td>\n",
              "</tr>\n",
              "<tr>\n",
              "  <th>Df Model:</th>              <td>     8</td>      <th>                     </th>              <td> </td>    \n",
              "</tr>\n",
              "<tr>\n",
              "  <th>Covariance Type:</th>      <td>nonrobust</td>    <th>                     </th>              <td> </td>    \n",
              "</tr>\n",
              "</table>\n",
              "<table class=\"simpletable\">\n",
              "<tr>\n",
              "   <td></td>     <th>coef</th>     <th>std err</th>      <th>t</th>      <th>P>|t|</th>  <th>[0.025</th>    <th>0.975]</th>  \n",
              "</tr>\n",
              "<tr>\n",
              "  <th>x1</th> <td>    0.5168</td> <td>    0.005</td> <td>  107.955</td> <td> 0.000</td> <td>    0.507</td> <td>    0.526</td>\n",
              "</tr>\n",
              "<tr>\n",
              "  <th>x2</th> <td>    0.0153</td> <td>    0.001</td> <td>   29.508</td> <td> 0.000</td> <td>    0.014</td> <td>    0.016</td>\n",
              "</tr>\n",
              "<tr>\n",
              "  <th>x3</th> <td>   -0.1879</td> <td>    0.007</td> <td>  -27.171</td> <td> 0.000</td> <td>   -0.201</td> <td>   -0.174</td>\n",
              "</tr>\n",
              "<tr>\n",
              "  <th>x4</th> <td>    0.8780</td> <td>    0.033</td> <td>   26.472</td> <td> 0.000</td> <td>    0.813</td> <td>    0.943</td>\n",
              "</tr>\n",
              "<tr>\n",
              "  <th>x5</th> <td>  5.02e-06</td> <td> 5.71e-06</td> <td>    0.879</td> <td> 0.380</td> <td>-6.18e-06</td> <td> 1.62e-05</td>\n",
              "</tr>\n",
              "<tr>\n",
              "  <th>x6</th> <td>   -0.0045</td> <td>    0.001</td> <td>   -7.845</td> <td> 0.000</td> <td>   -0.006</td> <td>   -0.003</td>\n",
              "</tr>\n",
              "<tr>\n",
              "  <th>x7</th> <td>   -0.0665</td> <td>    0.004</td> <td>  -16.580</td> <td> 0.000</td> <td>   -0.074</td> <td>   -0.059</td>\n",
              "</tr>\n",
              "<tr>\n",
              "  <th>x8</th> <td>   -0.0173</td> <td>    0.001</td> <td>  -13.550</td> <td> 0.000</td> <td>   -0.020</td> <td>   -0.015</td>\n",
              "</tr>\n",
              "</table>\n",
              "<table class=\"simpletable\">\n",
              "<tr>\n",
              "  <th>Omnibus:</th>       <td>3585.633</td> <th>  Durbin-Watson:     </th> <td>   1.996</td> \n",
              "</tr>\n",
              "<tr>\n",
              "  <th>Prob(Omnibus):</th>  <td> 0.000</td>  <th>  Jarque-Bera (JB):  </th> <td>12700.311</td>\n",
              "</tr>\n",
              "<tr>\n",
              "  <th>Skew:</th>           <td> 1.070</td>  <th>  Prob(JB):          </th> <td>    0.00</td> \n",
              "</tr>\n",
              "<tr>\n",
              "  <th>Kurtosis:</th>       <td> 6.726</td>  <th>  Cond. No.          </th> <td>1.03e+04</td> \n",
              "</tr>\n",
              "</table><br/><br/>Notes:<br/>[1] R² is computed without centering (uncentered) since the model does not contain a constant.<br/>[2] Standard Errors assume that the covariance matrix of the errors is correctly specified.<br/>[3] The condition number is large, 1.03e+04. This might indicate that there are<br/>strong multicollinearity or other numerical problems."
            ],
            "text/latex": [
              "\\begin{center}\n",
              "\\begin{tabular}{lclc}\n",
              "\\toprule\n",
              "\\textbf{Dep. Variable:}    &        y         & \\textbf{  R-squared (uncentered):}      &     0.893   \\\\\n",
              "\\textbf{Model:}            &       OLS        & \\textbf{  Adj. R-squared (uncentered):} &     0.893   \\\\\n",
              "\\textbf{Method:}           &  Least Squares   & \\textbf{  F-statistic:       }          & 1.716e+04   \\\\\n",
              "\\textbf{Date:}             & Wed, 18 Oct 2023 & \\textbf{  Prob (F-statistic):}          &     0.00    \\\\\n",
              "\\textbf{Time:}             &     17:26:03     & \\textbf{  Log-Likelihood:    }          &   -19248.   \\\\\n",
              "\\textbf{No. Observations:} &       16512      & \\textbf{  AIC:               }          & 3.851e+04   \\\\\n",
              "\\textbf{Df Residuals:}     &       16504      & \\textbf{  BIC:               }          & 3.857e+04   \\\\\n",
              "\\textbf{Df Model:}         &           8      & \\textbf{                     }          &             \\\\\n",
              "\\textbf{Covariance Type:}  &    nonrobust     & \\textbf{                     }          &             \\\\\n",
              "\\bottomrule\n",
              "\\end{tabular}\n",
              "\\begin{tabular}{lcccccc}\n",
              "            & \\textbf{coef} & \\textbf{std err} & \\textbf{t} & \\textbf{P$> |$t$|$} & \\textbf{[0.025} & \\textbf{0.975]}  \\\\\n",
              "\\midrule\n",
              "\\textbf{x1} &       0.5168  &        0.005     &   107.955  &         0.000        &        0.507    &        0.526     \\\\\n",
              "\\textbf{x2} &       0.0153  &        0.001     &    29.508  &         0.000        &        0.014    &        0.016     \\\\\n",
              "\\textbf{x3} &      -0.1879  &        0.007     &   -27.171  &         0.000        &       -0.201    &       -0.174     \\\\\n",
              "\\textbf{x4} &       0.8780  &        0.033     &    26.472  &         0.000        &        0.813    &        0.943     \\\\\n",
              "\\textbf{x5} &     5.02e-06  &     5.71e-06     &     0.879  &         0.380        &    -6.18e-06    &     1.62e-05     \\\\\n",
              "\\textbf{x6} &      -0.0045  &        0.001     &    -7.845  &         0.000        &       -0.006    &       -0.003     \\\\\n",
              "\\textbf{x7} &      -0.0665  &        0.004     &   -16.580  &         0.000        &       -0.074    &       -0.059     \\\\\n",
              "\\textbf{x8} &      -0.0173  &        0.001     &   -13.550  &         0.000        &       -0.020    &       -0.015     \\\\\n",
              "\\bottomrule\n",
              "\\end{tabular}\n",
              "\\begin{tabular}{lclc}\n",
              "\\textbf{Omnibus:}       & 3585.633 & \\textbf{  Durbin-Watson:     } &     1.996  \\\\\n",
              "\\textbf{Prob(Omnibus):} &   0.000  & \\textbf{  Jarque-Bera (JB):  } & 12700.311  \\\\\n",
              "\\textbf{Skew:}          &   1.070  & \\textbf{  Prob(JB):          } &      0.00  \\\\\n",
              "\\textbf{Kurtosis:}      &   6.726  & \\textbf{  Cond. No.          } &  1.03e+04  \\\\\n",
              "\\bottomrule\n",
              "\\end{tabular}\n",
              "%\\caption{OLS Regression Results}\n",
              "\\end{center}\n",
              "\n",
              "Notes: \\newline\n",
              " [1] R² is computed without centering (uncentered) since the model does not contain a constant. \\newline\n",
              " [2] Standard Errors assume that the covariance matrix of the errors is correctly specified. \\newline\n",
              " [3] The condition number is large, 1.03e+04. This might indicate that there are \\newline\n",
              " strong multicollinearity or other numerical problems."
            ],
            "text/plain": [
              "<class 'statsmodels.iolib.summary.Summary'>\n",
              "\"\"\"\n",
              "                                 OLS Regression Results                                \n",
              "=======================================================================================\n",
              "Dep. Variable:                      y   R-squared (uncentered):                   0.893\n",
              "Model:                            OLS   Adj. R-squared (uncentered):              0.893\n",
              "Method:                 Least Squares   F-statistic:                          1.716e+04\n",
              "Date:                Wed, 18 Oct 2023   Prob (F-statistic):                        0.00\n",
              "Time:                        17:26:03   Log-Likelihood:                         -19248.\n",
              "No. Observations:               16512   AIC:                                  3.851e+04\n",
              "Df Residuals:                   16504   BIC:                                  3.857e+04\n",
              "Df Model:                           8                                                  \n",
              "Covariance Type:            nonrobust                                                  \n",
              "==============================================================================\n",
              "                 coef    std err          t      P>|t|      [0.025      0.975]\n",
              "------------------------------------------------------------------------------\n",
              "x1             0.5168      0.005    107.955      0.000       0.507       0.526\n",
              "x2             0.0153      0.001     29.508      0.000       0.014       0.016\n",
              "x3            -0.1879      0.007    -27.171      0.000      -0.201      -0.174\n",
              "x4             0.8780      0.033     26.472      0.000       0.813       0.943\n",
              "x5           5.02e-06   5.71e-06      0.879      0.380   -6.18e-06    1.62e-05\n",
              "x6            -0.0045      0.001     -7.845      0.000      -0.006      -0.003\n",
              "x7            -0.0665      0.004    -16.580      0.000      -0.074      -0.059\n",
              "x8            -0.0173      0.001    -13.550      0.000      -0.020      -0.015\n",
              "==============================================================================\n",
              "Omnibus:                     3585.633   Durbin-Watson:                   1.996\n",
              "Prob(Omnibus):                  0.000   Jarque-Bera (JB):            12700.311\n",
              "Skew:                           1.070   Prob(JB):                         0.00\n",
              "Kurtosis:                       6.726   Cond. No.                     1.03e+04\n",
              "==============================================================================\n",
              "\n",
              "Notes:\n",
              "[1] R² is computed without centering (uncentered) since the model does not contain a constant.\n",
              "[2] Standard Errors assume that the covariance matrix of the errors is correctly specified.\n",
              "[3] The condition number is large, 1.03e+04. This might indicate that there are\n",
              "strong multicollinearity or other numerical problems.\n",
              "\"\"\""
            ]
          },
          "execution_count": 30,
          "metadata": {},
          "output_type": "execute_result"
        }
      ],
      "source": [
        "lr_result.summary()"
      ]
    },
    {
      "cell_type": "code",
      "execution_count": null,
      "metadata": {},
      "outputs": [],
      "source": [
        "def plot_coeff_importance(df, title):\n",
        "    coeff_importance_figure = go.Figure()\n",
        "    feature_importance_trace = go.Bar(x=df[\"variable\"], y=df[\"weight\"], marker_color=\"blue\", width=np.repeat(0.65, len(df[:])))\n",
        "    coeff_importance_figure.add_trace(\n",
        "        feature_importance_trace\n",
        "    )\n",
        "    coeff_importance_figure.update_layout(title=title, xaxis_title=\"Variable\", yaxis_title=\"Coeff. Weight\")\n",
        "    coeff_importance_figure.show()"
      ]
    },
    {
      "cell_type": "code",
      "execution_count": null,
      "metadata": {},
      "outputs": [
        {
          "data": {
            "text/html": [
              "<div>\n",
              "<style scoped>\n",
              "    .dataframe tbody tr th:only-of-type {\n",
              "        vertical-align: middle;\n",
              "    }\n",
              "\n",
              "    .dataframe tbody tr th {\n",
              "        vertical-align: top;\n",
              "    }\n",
              "\n",
              "    .dataframe thead th {\n",
              "        text-align: right;\n",
              "    }\n",
              "</style>\n",
              "<table border=\"1\" class=\"dataframe\">\n",
              "  <thead>\n",
              "    <tr style=\"text-align: right;\">\n",
              "      <th></th>\n",
              "      <th>variable</th>\n",
              "      <th>weight</th>\n",
              "      <th>pvalue</th>\n",
              "    </tr>\n",
              "  </thead>\n",
              "  <tbody>\n",
              "    <tr>\n",
              "      <th>3</th>\n",
              "      <td>AveBedrms</td>\n",
              "      <td>0.877981</td>\n",
              "      <td>2.883904e-151</td>\n",
              "    </tr>\n",
              "    <tr>\n",
              "      <th>0</th>\n",
              "      <td>MedInc</td>\n",
              "      <td>0.516778</td>\n",
              "      <td>0.000000e+00</td>\n",
              "    </tr>\n",
              "    <tr>\n",
              "      <th>2</th>\n",
              "      <td>AveRooms</td>\n",
              "      <td>0.187936</td>\n",
              "      <td>4.479569e-159</td>\n",
              "    </tr>\n",
              "    <tr>\n",
              "      <th>6</th>\n",
              "      <td>Latitude</td>\n",
              "      <td>0.066454</td>\n",
              "      <td>3.042622e-61</td>\n",
              "    </tr>\n",
              "    <tr>\n",
              "      <th>7</th>\n",
              "      <td>Longitude</td>\n",
              "      <td>0.017265</td>\n",
              "      <td>1.314939e-41</td>\n",
              "    </tr>\n",
              "  </tbody>\n",
              "</table>\n",
              "</div>"
            ],
            "text/plain": [
              "    variable    weight         pvalue\n",
              "3  AveBedrms  0.877981  2.883904e-151\n",
              "0     MedInc  0.516778   0.000000e+00\n",
              "2   AveRooms  0.187936  4.479569e-159\n",
              "6   Latitude  0.066454   3.042622e-61\n",
              "7  Longitude  0.017265   1.314939e-41"
            ]
          },
          "execution_count": 40,
          "metadata": {},
          "output_type": "execute_result"
        }
      ],
      "source": [
        "lr_coeff_importance = pd.DataFrame()\n",
        "lr_coeff_importance[\"variable\"] = housing[\"feature_names\"]\n",
        "lr_coeff_importance[\"weight\"] = abs(lr_result.params)\n",
        "lr_coeff_importance[\"pvalue\"] = lr_result.pvalues\n",
        "\n",
        "lr_coeff_importance = lr_coeff_importance[lr_coeff_importance[\"pvalue\"] < 0.05]\n",
        "lr_coeff_importance = lr_coeff_importance.sort_values(by=\"weight\", ascending=False)\n",
        "lr_coeff_importance.head()"
      ]
    },
    {
      "cell_type": "code",
      "execution_count": null,
      "metadata": {},
      "outputs": [
        {
          "data": {
            "application/vnd.plotly.v1+json": {
              "config": {
                "plotlyServerURL": "https://plot.ly"
              },
              "data": [
                {
                  "marker": {
                    "color": "blue"
                  },
                  "type": "bar",
                  "width": [
                    0.65,
                    0.65,
                    0.65,
                    0.65,
                    0.65,
                    0.65,
                    0.65
                  ],
                  "x": [
                    "AveBedrms",
                    "MedInc",
                    "AveRooms",
                    "Latitude",
                    "Longitude",
                    "HouseAge",
                    "AveOccup"
                  ],
                  "y": [
                    0.8779805164233397,
                    0.5167781940564609,
                    0.1879363306355425,
                    0.06645423476572575,
                    0.01726506482283354,
                    0.015319083807226158,
                    0.0044800867230299956
                  ]
                }
              ],
              "layout": {
                "template": {
                  "data": {
                    "bar": [
                      {
                        "error_x": {
                          "color": "#2a3f5f"
                        },
                        "error_y": {
                          "color": "#2a3f5f"
                        },
                        "marker": {
                          "line": {
                            "color": "#E5ECF6",
                            "width": 0.5
                          },
                          "pattern": {
                            "fillmode": "overlay",
                            "size": 10,
                            "solidity": 0.2
                          }
                        },
                        "type": "bar"
                      }
                    ],
                    "barpolar": [
                      {
                        "marker": {
                          "line": {
                            "color": "#E5ECF6",
                            "width": 0.5
                          },
                          "pattern": {
                            "fillmode": "overlay",
                            "size": 10,
                            "solidity": 0.2
                          }
                        },
                        "type": "barpolar"
                      }
                    ],
                    "carpet": [
                      {
                        "aaxis": {
                          "endlinecolor": "#2a3f5f",
                          "gridcolor": "white",
                          "linecolor": "white",
                          "minorgridcolor": "white",
                          "startlinecolor": "#2a3f5f"
                        },
                        "baxis": {
                          "endlinecolor": "#2a3f5f",
                          "gridcolor": "white",
                          "linecolor": "white",
                          "minorgridcolor": "white",
                          "startlinecolor": "#2a3f5f"
                        },
                        "type": "carpet"
                      }
                    ],
                    "choropleth": [
                      {
                        "colorbar": {
                          "outlinewidth": 0,
                          "ticks": ""
                        },
                        "type": "choropleth"
                      }
                    ],
                    "contour": [
                      {
                        "colorbar": {
                          "outlinewidth": 0,
                          "ticks": ""
                        },
                        "colorscale": [
                          [
                            0,
                            "#0d0887"
                          ],
                          [
                            0.1111111111111111,
                            "#46039f"
                          ],
                          [
                            0.2222222222222222,
                            "#7201a8"
                          ],
                          [
                            0.3333333333333333,
                            "#9c179e"
                          ],
                          [
                            0.4444444444444444,
                            "#bd3786"
                          ],
                          [
                            0.5555555555555556,
                            "#d8576b"
                          ],
                          [
                            0.6666666666666666,
                            "#ed7953"
                          ],
                          [
                            0.7777777777777778,
                            "#fb9f3a"
                          ],
                          [
                            0.8888888888888888,
                            "#fdca26"
                          ],
                          [
                            1,
                            "#f0f921"
                          ]
                        ],
                        "type": "contour"
                      }
                    ],
                    "contourcarpet": [
                      {
                        "colorbar": {
                          "outlinewidth": 0,
                          "ticks": ""
                        },
                        "type": "contourcarpet"
                      }
                    ],
                    "heatmap": [
                      {
                        "colorbar": {
                          "outlinewidth": 0,
                          "ticks": ""
                        },
                        "colorscale": [
                          [
                            0,
                            "#0d0887"
                          ],
                          [
                            0.1111111111111111,
                            "#46039f"
                          ],
                          [
                            0.2222222222222222,
                            "#7201a8"
                          ],
                          [
                            0.3333333333333333,
                            "#9c179e"
                          ],
                          [
                            0.4444444444444444,
                            "#bd3786"
                          ],
                          [
                            0.5555555555555556,
                            "#d8576b"
                          ],
                          [
                            0.6666666666666666,
                            "#ed7953"
                          ],
                          [
                            0.7777777777777778,
                            "#fb9f3a"
                          ],
                          [
                            0.8888888888888888,
                            "#fdca26"
                          ],
                          [
                            1,
                            "#f0f921"
                          ]
                        ],
                        "type": "heatmap"
                      }
                    ],
                    "heatmapgl": [
                      {
                        "colorbar": {
                          "outlinewidth": 0,
                          "ticks": ""
                        },
                        "colorscale": [
                          [
                            0,
                            "#0d0887"
                          ],
                          [
                            0.1111111111111111,
                            "#46039f"
                          ],
                          [
                            0.2222222222222222,
                            "#7201a8"
                          ],
                          [
                            0.3333333333333333,
                            "#9c179e"
                          ],
                          [
                            0.4444444444444444,
                            "#bd3786"
                          ],
                          [
                            0.5555555555555556,
                            "#d8576b"
                          ],
                          [
                            0.6666666666666666,
                            "#ed7953"
                          ],
                          [
                            0.7777777777777778,
                            "#fb9f3a"
                          ],
                          [
                            0.8888888888888888,
                            "#fdca26"
                          ],
                          [
                            1,
                            "#f0f921"
                          ]
                        ],
                        "type": "heatmapgl"
                      }
                    ],
                    "histogram": [
                      {
                        "marker": {
                          "pattern": {
                            "fillmode": "overlay",
                            "size": 10,
                            "solidity": 0.2
                          }
                        },
                        "type": "histogram"
                      }
                    ],
                    "histogram2d": [
                      {
                        "colorbar": {
                          "outlinewidth": 0,
                          "ticks": ""
                        },
                        "colorscale": [
                          [
                            0,
                            "#0d0887"
                          ],
                          [
                            0.1111111111111111,
                            "#46039f"
                          ],
                          [
                            0.2222222222222222,
                            "#7201a8"
                          ],
                          [
                            0.3333333333333333,
                            "#9c179e"
                          ],
                          [
                            0.4444444444444444,
                            "#bd3786"
                          ],
                          [
                            0.5555555555555556,
                            "#d8576b"
                          ],
                          [
                            0.6666666666666666,
                            "#ed7953"
                          ],
                          [
                            0.7777777777777778,
                            "#fb9f3a"
                          ],
                          [
                            0.8888888888888888,
                            "#fdca26"
                          ],
                          [
                            1,
                            "#f0f921"
                          ]
                        ],
                        "type": "histogram2d"
                      }
                    ],
                    "histogram2dcontour": [
                      {
                        "colorbar": {
                          "outlinewidth": 0,
                          "ticks": ""
                        },
                        "colorscale": [
                          [
                            0,
                            "#0d0887"
                          ],
                          [
                            0.1111111111111111,
                            "#46039f"
                          ],
                          [
                            0.2222222222222222,
                            "#7201a8"
                          ],
                          [
                            0.3333333333333333,
                            "#9c179e"
                          ],
                          [
                            0.4444444444444444,
                            "#bd3786"
                          ],
                          [
                            0.5555555555555556,
                            "#d8576b"
                          ],
                          [
                            0.6666666666666666,
                            "#ed7953"
                          ],
                          [
                            0.7777777777777778,
                            "#fb9f3a"
                          ],
                          [
                            0.8888888888888888,
                            "#fdca26"
                          ],
                          [
                            1,
                            "#f0f921"
                          ]
                        ],
                        "type": "histogram2dcontour"
                      }
                    ],
                    "mesh3d": [
                      {
                        "colorbar": {
                          "outlinewidth": 0,
                          "ticks": ""
                        },
                        "type": "mesh3d"
                      }
                    ],
                    "parcoords": [
                      {
                        "line": {
                          "colorbar": {
                            "outlinewidth": 0,
                            "ticks": ""
                          }
                        },
                        "type": "parcoords"
                      }
                    ],
                    "pie": [
                      {
                        "automargin": true,
                        "type": "pie"
                      }
                    ],
                    "scatter": [
                      {
                        "fillpattern": {
                          "fillmode": "overlay",
                          "size": 10,
                          "solidity": 0.2
                        },
                        "type": "scatter"
                      }
                    ],
                    "scatter3d": [
                      {
                        "line": {
                          "colorbar": {
                            "outlinewidth": 0,
                            "ticks": ""
                          }
                        },
                        "marker": {
                          "colorbar": {
                            "outlinewidth": 0,
                            "ticks": ""
                          }
                        },
                        "type": "scatter3d"
                      }
                    ],
                    "scattercarpet": [
                      {
                        "marker": {
                          "colorbar": {
                            "outlinewidth": 0,
                            "ticks": ""
                          }
                        },
                        "type": "scattercarpet"
                      }
                    ],
                    "scattergeo": [
                      {
                        "marker": {
                          "colorbar": {
                            "outlinewidth": 0,
                            "ticks": ""
                          }
                        },
                        "type": "scattergeo"
                      }
                    ],
                    "scattergl": [
                      {
                        "marker": {
                          "colorbar": {
                            "outlinewidth": 0,
                            "ticks": ""
                          }
                        },
                        "type": "scattergl"
                      }
                    ],
                    "scattermapbox": [
                      {
                        "marker": {
                          "colorbar": {
                            "outlinewidth": 0,
                            "ticks": ""
                          }
                        },
                        "type": "scattermapbox"
                      }
                    ],
                    "scatterpolar": [
                      {
                        "marker": {
                          "colorbar": {
                            "outlinewidth": 0,
                            "ticks": ""
                          }
                        },
                        "type": "scatterpolar"
                      }
                    ],
                    "scatterpolargl": [
                      {
                        "marker": {
                          "colorbar": {
                            "outlinewidth": 0,
                            "ticks": ""
                          }
                        },
                        "type": "scatterpolargl"
                      }
                    ],
                    "scatterternary": [
                      {
                        "marker": {
                          "colorbar": {
                            "outlinewidth": 0,
                            "ticks": ""
                          }
                        },
                        "type": "scatterternary"
                      }
                    ],
                    "surface": [
                      {
                        "colorbar": {
                          "outlinewidth": 0,
                          "ticks": ""
                        },
                        "colorscale": [
                          [
                            0,
                            "#0d0887"
                          ],
                          [
                            0.1111111111111111,
                            "#46039f"
                          ],
                          [
                            0.2222222222222222,
                            "#7201a8"
                          ],
                          [
                            0.3333333333333333,
                            "#9c179e"
                          ],
                          [
                            0.4444444444444444,
                            "#bd3786"
                          ],
                          [
                            0.5555555555555556,
                            "#d8576b"
                          ],
                          [
                            0.6666666666666666,
                            "#ed7953"
                          ],
                          [
                            0.7777777777777778,
                            "#fb9f3a"
                          ],
                          [
                            0.8888888888888888,
                            "#fdca26"
                          ],
                          [
                            1,
                            "#f0f921"
                          ]
                        ],
                        "type": "surface"
                      }
                    ],
                    "table": [
                      {
                        "cells": {
                          "fill": {
                            "color": "#EBF0F8"
                          },
                          "line": {
                            "color": "white"
                          }
                        },
                        "header": {
                          "fill": {
                            "color": "#C8D4E3"
                          },
                          "line": {
                            "color": "white"
                          }
                        },
                        "type": "table"
                      }
                    ]
                  },
                  "layout": {
                    "annotationdefaults": {
                      "arrowcolor": "#2a3f5f",
                      "arrowhead": 0,
                      "arrowwidth": 1
                    },
                    "autotypenumbers": "strict",
                    "coloraxis": {
                      "colorbar": {
                        "outlinewidth": 0,
                        "ticks": ""
                      }
                    },
                    "colorscale": {
                      "diverging": [
                        [
                          0,
                          "#8e0152"
                        ],
                        [
                          0.1,
                          "#c51b7d"
                        ],
                        [
                          0.2,
                          "#de77ae"
                        ],
                        [
                          0.3,
                          "#f1b6da"
                        ],
                        [
                          0.4,
                          "#fde0ef"
                        ],
                        [
                          0.5,
                          "#f7f7f7"
                        ],
                        [
                          0.6,
                          "#e6f5d0"
                        ],
                        [
                          0.7,
                          "#b8e186"
                        ],
                        [
                          0.8,
                          "#7fbc41"
                        ],
                        [
                          0.9,
                          "#4d9221"
                        ],
                        [
                          1,
                          "#276419"
                        ]
                      ],
                      "sequential": [
                        [
                          0,
                          "#0d0887"
                        ],
                        [
                          0.1111111111111111,
                          "#46039f"
                        ],
                        [
                          0.2222222222222222,
                          "#7201a8"
                        ],
                        [
                          0.3333333333333333,
                          "#9c179e"
                        ],
                        [
                          0.4444444444444444,
                          "#bd3786"
                        ],
                        [
                          0.5555555555555556,
                          "#d8576b"
                        ],
                        [
                          0.6666666666666666,
                          "#ed7953"
                        ],
                        [
                          0.7777777777777778,
                          "#fb9f3a"
                        ],
                        [
                          0.8888888888888888,
                          "#fdca26"
                        ],
                        [
                          1,
                          "#f0f921"
                        ]
                      ],
                      "sequentialminus": [
                        [
                          0,
                          "#0d0887"
                        ],
                        [
                          0.1111111111111111,
                          "#46039f"
                        ],
                        [
                          0.2222222222222222,
                          "#7201a8"
                        ],
                        [
                          0.3333333333333333,
                          "#9c179e"
                        ],
                        [
                          0.4444444444444444,
                          "#bd3786"
                        ],
                        [
                          0.5555555555555556,
                          "#d8576b"
                        ],
                        [
                          0.6666666666666666,
                          "#ed7953"
                        ],
                        [
                          0.7777777777777778,
                          "#fb9f3a"
                        ],
                        [
                          0.8888888888888888,
                          "#fdca26"
                        ],
                        [
                          1,
                          "#f0f921"
                        ]
                      ]
                    },
                    "colorway": [
                      "#636efa",
                      "#EF553B",
                      "#00cc96",
                      "#ab63fa",
                      "#FFA15A",
                      "#19d3f3",
                      "#FF6692",
                      "#B6E880",
                      "#FF97FF",
                      "#FECB52"
                    ],
                    "font": {
                      "color": "#2a3f5f"
                    },
                    "geo": {
                      "bgcolor": "white",
                      "lakecolor": "white",
                      "landcolor": "#E5ECF6",
                      "showlakes": true,
                      "showland": true,
                      "subunitcolor": "white"
                    },
                    "hoverlabel": {
                      "align": "left"
                    },
                    "hovermode": "closest",
                    "mapbox": {
                      "style": "light"
                    },
                    "paper_bgcolor": "white",
                    "plot_bgcolor": "#E5ECF6",
                    "polar": {
                      "angularaxis": {
                        "gridcolor": "white",
                        "linecolor": "white",
                        "ticks": ""
                      },
                      "bgcolor": "#E5ECF6",
                      "radialaxis": {
                        "gridcolor": "white",
                        "linecolor": "white",
                        "ticks": ""
                      }
                    },
                    "scene": {
                      "xaxis": {
                        "backgroundcolor": "#E5ECF6",
                        "gridcolor": "white",
                        "gridwidth": 2,
                        "linecolor": "white",
                        "showbackground": true,
                        "ticks": "",
                        "zerolinecolor": "white"
                      },
                      "yaxis": {
                        "backgroundcolor": "#E5ECF6",
                        "gridcolor": "white",
                        "gridwidth": 2,
                        "linecolor": "white",
                        "showbackground": true,
                        "ticks": "",
                        "zerolinecolor": "white"
                      },
                      "zaxis": {
                        "backgroundcolor": "#E5ECF6",
                        "gridcolor": "white",
                        "gridwidth": 2,
                        "linecolor": "white",
                        "showbackground": true,
                        "ticks": "",
                        "zerolinecolor": "white"
                      }
                    },
                    "shapedefaults": {
                      "line": {
                        "color": "#2a3f5f"
                      }
                    },
                    "ternary": {
                      "aaxis": {
                        "gridcolor": "white",
                        "linecolor": "white",
                        "ticks": ""
                      },
                      "baxis": {
                        "gridcolor": "white",
                        "linecolor": "white",
                        "ticks": ""
                      },
                      "bgcolor": "#E5ECF6",
                      "caxis": {
                        "gridcolor": "white",
                        "linecolor": "white",
                        "ticks": ""
                      }
                    },
                    "title": {
                      "x": 0.05
                    },
                    "xaxis": {
                      "automargin": true,
                      "gridcolor": "white",
                      "linecolor": "white",
                      "ticks": "",
                      "title": {
                        "standoff": 15
                      },
                      "zerolinecolor": "white",
                      "zerolinewidth": 2
                    },
                    "yaxis": {
                      "automargin": true,
                      "gridcolor": "white",
                      "linecolor": "white",
                      "ticks": "",
                      "title": {
                        "standoff": 15
                      },
                      "zerolinecolor": "white",
                      "zerolinewidth": 2
                    }
                  }
                },
                "title": {
                  "text": "Variable importance in Linear Regression model<br><sup>Ignores coeffs. with p-value > 0.05</sup>"
                },
                "xaxis": {
                  "title": {
                    "text": "Variable"
                  }
                },
                "yaxis": {
                  "title": {
                    "text": "Coeff. Weight"
                  }
                }
              }
            }
          },
          "metadata": {},
          "output_type": "display_data"
        }
      ],
      "source": [
        "plot_coeff_importance(\n",
        "    lr_coeff_importance, \n",
        "    \"Variable importance in Linear Regression model<br><sup>Ignores coeffs. with p-value > 0.05</sup>\"\n",
        ")"
      ]
    },
    {
      "cell_type": "code",
      "execution_count": null,
      "metadata": {},
      "outputs": [
        {
          "data": {
            "text/html": [
              "<div>\n",
              "<style scoped>\n",
              "    .dataframe tbody tr th:only-of-type {\n",
              "        vertical-align: middle;\n",
              "    }\n",
              "\n",
              "    .dataframe tbody tr th {\n",
              "        vertical-align: top;\n",
              "    }\n",
              "\n",
              "    .dataframe thead th {\n",
              "        text-align: right;\n",
              "    }\n",
              "</style>\n",
              "<table border=\"1\" class=\"dataframe\">\n",
              "  <thead>\n",
              "    <tr style=\"text-align: right;\">\n",
              "      <th></th>\n",
              "      <th>variable</th>\n",
              "      <th>weight</th>\n",
              "    </tr>\n",
              "  </thead>\n",
              "  <tbody>\n",
              "    <tr>\n",
              "      <th>0</th>\n",
              "      <td>MedInc</td>\n",
              "      <td>0.522822</td>\n",
              "    </tr>\n",
              "    <tr>\n",
              "      <th>5</th>\n",
              "      <td>AveOccup</td>\n",
              "      <td>0.133800</td>\n",
              "    </tr>\n",
              "    <tr>\n",
              "      <th>6</th>\n",
              "      <td>Latitude</td>\n",
              "      <td>0.091029</td>\n",
              "    </tr>\n",
              "    <tr>\n",
              "      <th>7</th>\n",
              "      <td>Longitude</td>\n",
              "      <td>0.089952</td>\n",
              "    </tr>\n",
              "    <tr>\n",
              "      <th>1</th>\n",
              "      <td>HouseAge</td>\n",
              "      <td>0.051747</td>\n",
              "    </tr>\n",
              "  </tbody>\n",
              "</table>\n",
              "</div>"
            ],
            "text/plain": [
              "    variable    weight\n",
              "0     MedInc  0.522822\n",
              "5   AveOccup  0.133800\n",
              "6   Latitude  0.091029\n",
              "7  Longitude  0.089952\n",
              "1   HouseAge  0.051747"
            ]
          },
          "execution_count": 42,
          "metadata": {},
          "output_type": "execute_result"
        }
      ],
      "source": [
        "rf_coeff_importance = pd.DataFrame()\n",
        "rf_coeff_importance[\"variable\"] = housing[\"feature_names\"]\n",
        "rf_coeff_importance[\"weight\"] = rf_model.feature_importances_\n",
        "rf_coeff_importance = rf_coeff_importance.sort_values(by=\"weight\", ascending=False)\n",
        "rf_coeff_importance.head()"
      ]
    },
    {
      "cell_type": "code",
      "execution_count": null,
      "metadata": {},
      "outputs": [
        {
          "data": {
            "application/vnd.plotly.v1+json": {
              "config": {
                "plotlyServerURL": "https://plot.ly"
              },
              "data": [
                {
                  "marker": {
                    "color": "blue"
                  },
                  "type": "bar",
                  "width": [
                    0.65,
                    0.65,
                    0.65,
                    0.65,
                    0.65,
                    0.65,
                    0.65,
                    0.65
                  ],
                  "x": [
                    "MedInc",
                    "AveOccup",
                    "Latitude",
                    "Longitude",
                    "HouseAge",
                    "AveRooms",
                    "Population",
                    "AveBedrms"
                  ],
                  "y": [
                    0.5228217889092069,
                    0.13380045955586006,
                    0.09102903123947201,
                    0.08995223599585328,
                    0.051746554608366,
                    0.048860522649019085,
                    0.03155678004974872,
                    0.03023262699247392
                  ]
                }
              ],
              "layout": {
                "template": {
                  "data": {
                    "bar": [
                      {
                        "error_x": {
                          "color": "#2a3f5f"
                        },
                        "error_y": {
                          "color": "#2a3f5f"
                        },
                        "marker": {
                          "line": {
                            "color": "#E5ECF6",
                            "width": 0.5
                          },
                          "pattern": {
                            "fillmode": "overlay",
                            "size": 10,
                            "solidity": 0.2
                          }
                        },
                        "type": "bar"
                      }
                    ],
                    "barpolar": [
                      {
                        "marker": {
                          "line": {
                            "color": "#E5ECF6",
                            "width": 0.5
                          },
                          "pattern": {
                            "fillmode": "overlay",
                            "size": 10,
                            "solidity": 0.2
                          }
                        },
                        "type": "barpolar"
                      }
                    ],
                    "carpet": [
                      {
                        "aaxis": {
                          "endlinecolor": "#2a3f5f",
                          "gridcolor": "white",
                          "linecolor": "white",
                          "minorgridcolor": "white",
                          "startlinecolor": "#2a3f5f"
                        },
                        "baxis": {
                          "endlinecolor": "#2a3f5f",
                          "gridcolor": "white",
                          "linecolor": "white",
                          "minorgridcolor": "white",
                          "startlinecolor": "#2a3f5f"
                        },
                        "type": "carpet"
                      }
                    ],
                    "choropleth": [
                      {
                        "colorbar": {
                          "outlinewidth": 0,
                          "ticks": ""
                        },
                        "type": "choropleth"
                      }
                    ],
                    "contour": [
                      {
                        "colorbar": {
                          "outlinewidth": 0,
                          "ticks": ""
                        },
                        "colorscale": [
                          [
                            0,
                            "#0d0887"
                          ],
                          [
                            0.1111111111111111,
                            "#46039f"
                          ],
                          [
                            0.2222222222222222,
                            "#7201a8"
                          ],
                          [
                            0.3333333333333333,
                            "#9c179e"
                          ],
                          [
                            0.4444444444444444,
                            "#bd3786"
                          ],
                          [
                            0.5555555555555556,
                            "#d8576b"
                          ],
                          [
                            0.6666666666666666,
                            "#ed7953"
                          ],
                          [
                            0.7777777777777778,
                            "#fb9f3a"
                          ],
                          [
                            0.8888888888888888,
                            "#fdca26"
                          ],
                          [
                            1,
                            "#f0f921"
                          ]
                        ],
                        "type": "contour"
                      }
                    ],
                    "contourcarpet": [
                      {
                        "colorbar": {
                          "outlinewidth": 0,
                          "ticks": ""
                        },
                        "type": "contourcarpet"
                      }
                    ],
                    "heatmap": [
                      {
                        "colorbar": {
                          "outlinewidth": 0,
                          "ticks": ""
                        },
                        "colorscale": [
                          [
                            0,
                            "#0d0887"
                          ],
                          [
                            0.1111111111111111,
                            "#46039f"
                          ],
                          [
                            0.2222222222222222,
                            "#7201a8"
                          ],
                          [
                            0.3333333333333333,
                            "#9c179e"
                          ],
                          [
                            0.4444444444444444,
                            "#bd3786"
                          ],
                          [
                            0.5555555555555556,
                            "#d8576b"
                          ],
                          [
                            0.6666666666666666,
                            "#ed7953"
                          ],
                          [
                            0.7777777777777778,
                            "#fb9f3a"
                          ],
                          [
                            0.8888888888888888,
                            "#fdca26"
                          ],
                          [
                            1,
                            "#f0f921"
                          ]
                        ],
                        "type": "heatmap"
                      }
                    ],
                    "heatmapgl": [
                      {
                        "colorbar": {
                          "outlinewidth": 0,
                          "ticks": ""
                        },
                        "colorscale": [
                          [
                            0,
                            "#0d0887"
                          ],
                          [
                            0.1111111111111111,
                            "#46039f"
                          ],
                          [
                            0.2222222222222222,
                            "#7201a8"
                          ],
                          [
                            0.3333333333333333,
                            "#9c179e"
                          ],
                          [
                            0.4444444444444444,
                            "#bd3786"
                          ],
                          [
                            0.5555555555555556,
                            "#d8576b"
                          ],
                          [
                            0.6666666666666666,
                            "#ed7953"
                          ],
                          [
                            0.7777777777777778,
                            "#fb9f3a"
                          ],
                          [
                            0.8888888888888888,
                            "#fdca26"
                          ],
                          [
                            1,
                            "#f0f921"
                          ]
                        ],
                        "type": "heatmapgl"
                      }
                    ],
                    "histogram": [
                      {
                        "marker": {
                          "pattern": {
                            "fillmode": "overlay",
                            "size": 10,
                            "solidity": 0.2
                          }
                        },
                        "type": "histogram"
                      }
                    ],
                    "histogram2d": [
                      {
                        "colorbar": {
                          "outlinewidth": 0,
                          "ticks": ""
                        },
                        "colorscale": [
                          [
                            0,
                            "#0d0887"
                          ],
                          [
                            0.1111111111111111,
                            "#46039f"
                          ],
                          [
                            0.2222222222222222,
                            "#7201a8"
                          ],
                          [
                            0.3333333333333333,
                            "#9c179e"
                          ],
                          [
                            0.4444444444444444,
                            "#bd3786"
                          ],
                          [
                            0.5555555555555556,
                            "#d8576b"
                          ],
                          [
                            0.6666666666666666,
                            "#ed7953"
                          ],
                          [
                            0.7777777777777778,
                            "#fb9f3a"
                          ],
                          [
                            0.8888888888888888,
                            "#fdca26"
                          ],
                          [
                            1,
                            "#f0f921"
                          ]
                        ],
                        "type": "histogram2d"
                      }
                    ],
                    "histogram2dcontour": [
                      {
                        "colorbar": {
                          "outlinewidth": 0,
                          "ticks": ""
                        },
                        "colorscale": [
                          [
                            0,
                            "#0d0887"
                          ],
                          [
                            0.1111111111111111,
                            "#46039f"
                          ],
                          [
                            0.2222222222222222,
                            "#7201a8"
                          ],
                          [
                            0.3333333333333333,
                            "#9c179e"
                          ],
                          [
                            0.4444444444444444,
                            "#bd3786"
                          ],
                          [
                            0.5555555555555556,
                            "#d8576b"
                          ],
                          [
                            0.6666666666666666,
                            "#ed7953"
                          ],
                          [
                            0.7777777777777778,
                            "#fb9f3a"
                          ],
                          [
                            0.8888888888888888,
                            "#fdca26"
                          ],
                          [
                            1,
                            "#f0f921"
                          ]
                        ],
                        "type": "histogram2dcontour"
                      }
                    ],
                    "mesh3d": [
                      {
                        "colorbar": {
                          "outlinewidth": 0,
                          "ticks": ""
                        },
                        "type": "mesh3d"
                      }
                    ],
                    "parcoords": [
                      {
                        "line": {
                          "colorbar": {
                            "outlinewidth": 0,
                            "ticks": ""
                          }
                        },
                        "type": "parcoords"
                      }
                    ],
                    "pie": [
                      {
                        "automargin": true,
                        "type": "pie"
                      }
                    ],
                    "scatter": [
                      {
                        "fillpattern": {
                          "fillmode": "overlay",
                          "size": 10,
                          "solidity": 0.2
                        },
                        "type": "scatter"
                      }
                    ],
                    "scatter3d": [
                      {
                        "line": {
                          "colorbar": {
                            "outlinewidth": 0,
                            "ticks": ""
                          }
                        },
                        "marker": {
                          "colorbar": {
                            "outlinewidth": 0,
                            "ticks": ""
                          }
                        },
                        "type": "scatter3d"
                      }
                    ],
                    "scattercarpet": [
                      {
                        "marker": {
                          "colorbar": {
                            "outlinewidth": 0,
                            "ticks": ""
                          }
                        },
                        "type": "scattercarpet"
                      }
                    ],
                    "scattergeo": [
                      {
                        "marker": {
                          "colorbar": {
                            "outlinewidth": 0,
                            "ticks": ""
                          }
                        },
                        "type": "scattergeo"
                      }
                    ],
                    "scattergl": [
                      {
                        "marker": {
                          "colorbar": {
                            "outlinewidth": 0,
                            "ticks": ""
                          }
                        },
                        "type": "scattergl"
                      }
                    ],
                    "scattermapbox": [
                      {
                        "marker": {
                          "colorbar": {
                            "outlinewidth": 0,
                            "ticks": ""
                          }
                        },
                        "type": "scattermapbox"
                      }
                    ],
                    "scatterpolar": [
                      {
                        "marker": {
                          "colorbar": {
                            "outlinewidth": 0,
                            "ticks": ""
                          }
                        },
                        "type": "scatterpolar"
                      }
                    ],
                    "scatterpolargl": [
                      {
                        "marker": {
                          "colorbar": {
                            "outlinewidth": 0,
                            "ticks": ""
                          }
                        },
                        "type": "scatterpolargl"
                      }
                    ],
                    "scatterternary": [
                      {
                        "marker": {
                          "colorbar": {
                            "outlinewidth": 0,
                            "ticks": ""
                          }
                        },
                        "type": "scatterternary"
                      }
                    ],
                    "surface": [
                      {
                        "colorbar": {
                          "outlinewidth": 0,
                          "ticks": ""
                        },
                        "colorscale": [
                          [
                            0,
                            "#0d0887"
                          ],
                          [
                            0.1111111111111111,
                            "#46039f"
                          ],
                          [
                            0.2222222222222222,
                            "#7201a8"
                          ],
                          [
                            0.3333333333333333,
                            "#9c179e"
                          ],
                          [
                            0.4444444444444444,
                            "#bd3786"
                          ],
                          [
                            0.5555555555555556,
                            "#d8576b"
                          ],
                          [
                            0.6666666666666666,
                            "#ed7953"
                          ],
                          [
                            0.7777777777777778,
                            "#fb9f3a"
                          ],
                          [
                            0.8888888888888888,
                            "#fdca26"
                          ],
                          [
                            1,
                            "#f0f921"
                          ]
                        ],
                        "type": "surface"
                      }
                    ],
                    "table": [
                      {
                        "cells": {
                          "fill": {
                            "color": "#EBF0F8"
                          },
                          "line": {
                            "color": "white"
                          }
                        },
                        "header": {
                          "fill": {
                            "color": "#C8D4E3"
                          },
                          "line": {
                            "color": "white"
                          }
                        },
                        "type": "table"
                      }
                    ]
                  },
                  "layout": {
                    "annotationdefaults": {
                      "arrowcolor": "#2a3f5f",
                      "arrowhead": 0,
                      "arrowwidth": 1
                    },
                    "autotypenumbers": "strict",
                    "coloraxis": {
                      "colorbar": {
                        "outlinewidth": 0,
                        "ticks": ""
                      }
                    },
                    "colorscale": {
                      "diverging": [
                        [
                          0,
                          "#8e0152"
                        ],
                        [
                          0.1,
                          "#c51b7d"
                        ],
                        [
                          0.2,
                          "#de77ae"
                        ],
                        [
                          0.3,
                          "#f1b6da"
                        ],
                        [
                          0.4,
                          "#fde0ef"
                        ],
                        [
                          0.5,
                          "#f7f7f7"
                        ],
                        [
                          0.6,
                          "#e6f5d0"
                        ],
                        [
                          0.7,
                          "#b8e186"
                        ],
                        [
                          0.8,
                          "#7fbc41"
                        ],
                        [
                          0.9,
                          "#4d9221"
                        ],
                        [
                          1,
                          "#276419"
                        ]
                      ],
                      "sequential": [
                        [
                          0,
                          "#0d0887"
                        ],
                        [
                          0.1111111111111111,
                          "#46039f"
                        ],
                        [
                          0.2222222222222222,
                          "#7201a8"
                        ],
                        [
                          0.3333333333333333,
                          "#9c179e"
                        ],
                        [
                          0.4444444444444444,
                          "#bd3786"
                        ],
                        [
                          0.5555555555555556,
                          "#d8576b"
                        ],
                        [
                          0.6666666666666666,
                          "#ed7953"
                        ],
                        [
                          0.7777777777777778,
                          "#fb9f3a"
                        ],
                        [
                          0.8888888888888888,
                          "#fdca26"
                        ],
                        [
                          1,
                          "#f0f921"
                        ]
                      ],
                      "sequentialminus": [
                        [
                          0,
                          "#0d0887"
                        ],
                        [
                          0.1111111111111111,
                          "#46039f"
                        ],
                        [
                          0.2222222222222222,
                          "#7201a8"
                        ],
                        [
                          0.3333333333333333,
                          "#9c179e"
                        ],
                        [
                          0.4444444444444444,
                          "#bd3786"
                        ],
                        [
                          0.5555555555555556,
                          "#d8576b"
                        ],
                        [
                          0.6666666666666666,
                          "#ed7953"
                        ],
                        [
                          0.7777777777777778,
                          "#fb9f3a"
                        ],
                        [
                          0.8888888888888888,
                          "#fdca26"
                        ],
                        [
                          1,
                          "#f0f921"
                        ]
                      ]
                    },
                    "colorway": [
                      "#636efa",
                      "#EF553B",
                      "#00cc96",
                      "#ab63fa",
                      "#FFA15A",
                      "#19d3f3",
                      "#FF6692",
                      "#B6E880",
                      "#FF97FF",
                      "#FECB52"
                    ],
                    "font": {
                      "color": "#2a3f5f"
                    },
                    "geo": {
                      "bgcolor": "white",
                      "lakecolor": "white",
                      "landcolor": "#E5ECF6",
                      "showlakes": true,
                      "showland": true,
                      "subunitcolor": "white"
                    },
                    "hoverlabel": {
                      "align": "left"
                    },
                    "hovermode": "closest",
                    "mapbox": {
                      "style": "light"
                    },
                    "paper_bgcolor": "white",
                    "plot_bgcolor": "#E5ECF6",
                    "polar": {
                      "angularaxis": {
                        "gridcolor": "white",
                        "linecolor": "white",
                        "ticks": ""
                      },
                      "bgcolor": "#E5ECF6",
                      "radialaxis": {
                        "gridcolor": "white",
                        "linecolor": "white",
                        "ticks": ""
                      }
                    },
                    "scene": {
                      "xaxis": {
                        "backgroundcolor": "#E5ECF6",
                        "gridcolor": "white",
                        "gridwidth": 2,
                        "linecolor": "white",
                        "showbackground": true,
                        "ticks": "",
                        "zerolinecolor": "white"
                      },
                      "yaxis": {
                        "backgroundcolor": "#E5ECF6",
                        "gridcolor": "white",
                        "gridwidth": 2,
                        "linecolor": "white",
                        "showbackground": true,
                        "ticks": "",
                        "zerolinecolor": "white"
                      },
                      "zaxis": {
                        "backgroundcolor": "#E5ECF6",
                        "gridcolor": "white",
                        "gridwidth": 2,
                        "linecolor": "white",
                        "showbackground": true,
                        "ticks": "",
                        "zerolinecolor": "white"
                      }
                    },
                    "shapedefaults": {
                      "line": {
                        "color": "#2a3f5f"
                      }
                    },
                    "ternary": {
                      "aaxis": {
                        "gridcolor": "white",
                        "linecolor": "white",
                        "ticks": ""
                      },
                      "baxis": {
                        "gridcolor": "white",
                        "linecolor": "white",
                        "ticks": ""
                      },
                      "bgcolor": "#E5ECF6",
                      "caxis": {
                        "gridcolor": "white",
                        "linecolor": "white",
                        "ticks": ""
                      }
                    },
                    "title": {
                      "x": 0.05
                    },
                    "xaxis": {
                      "automargin": true,
                      "gridcolor": "white",
                      "linecolor": "white",
                      "ticks": "",
                      "title": {
                        "standoff": 15
                      },
                      "zerolinecolor": "white",
                      "zerolinewidth": 2
                    },
                    "yaxis": {
                      "automargin": true,
                      "gridcolor": "white",
                      "linecolor": "white",
                      "ticks": "",
                      "title": {
                        "standoff": 15
                      },
                      "zerolinecolor": "white",
                      "zerolinewidth": 2
                    }
                  }
                },
                "title": {
                  "text": "Variable importance in Random Forest model"
                },
                "xaxis": {
                  "title": {
                    "text": "Variable"
                  }
                },
                "yaxis": {
                  "title": {
                    "text": "Coeff. Weight"
                  }
                }
              }
            }
          },
          "metadata": {},
          "output_type": "display_data"
        }
      ],
      "source": [
        "plot_coeff_importance(rf_coeff_importance, \"Variable importance in Random Forest model\")"
      ]
    },
    {
      "cell_type": "markdown",
      "metadata": {},
      "source": [
        "e) Decide a través de las métricas que consideres oportunas, cuál de los dos modelos es mejor, por qué y explica el proceso que has realizado para responder en los puntos anteriores. **(1.25 puntos)**"
      ]
    },
    {
      "cell_type": "code",
      "execution_count": null,
      "metadata": {},
      "outputs": [],
      "source": [
        "lr_predictions = lr_result.predict(X_test)\n",
        "rf_predictions = rf_model.predict(X_test)"
      ]
    },
    {
      "cell_type": "code",
      "execution_count": null,
      "metadata": {},
      "outputs": [
        {
          "data": {
            "application/vnd.plotly.v1+json": {
              "config": {
                "plotlyServerURL": "https://plot.ly"
              },
              "data": [
                {
                  "alignmentgroup": "True",
                  "hovertemplate": "Variable=R2<br>Models=%{x}<br>Metric=%{y}<extra></extra>",
                  "legendgroup": "R2",
                  "marker": {
                    "color": "#636efa",
                    "pattern": {
                      "shape": ""
                    }
                  },
                  "name": "R2",
                  "offsetgroup": "R2",
                  "orientation": "v",
                  "showlegend": true,
                  "textposition": "auto",
                  "type": "bar",
                  "x": [
                    "Linear Regression",
                    "Random Forest"
                  ],
                  "xaxis": "x",
                  "y": [
                    0.5405053854445345,
                    0.8121197531201367
                  ],
                  "yaxis": "y"
                },
                {
                  "alignmentgroup": "True",
                  "hovertemplate": "Variable=MSE<br>Models=%{x}<br>Metric=%{y}<extra></extra>",
                  "legendgroup": "MSE",
                  "marker": {
                    "color": "#EF553B",
                    "pattern": {
                      "shape": ""
                    }
                  },
                  "name": "MSE",
                  "offsetgroup": "MSE",
                  "orientation": "v",
                  "showlegend": true,
                  "textposition": "auto",
                  "type": "bar",
                  "x": [
                    "Linear Regression",
                    "Random Forest"
                  ],
                  "xaxis": "x",
                  "y": [
                    0.6110424397207563,
                    0.24984581057576652
                  ],
                  "yaxis": "y"
                }
              ],
              "layout": {
                "barmode": "group",
                "legend": {
                  "title": {
                    "text": "Variable"
                  },
                  "tracegroupgap": 0
                },
                "template": {
                  "data": {
                    "bar": [
                      {
                        "error_x": {
                          "color": "#2a3f5f"
                        },
                        "error_y": {
                          "color": "#2a3f5f"
                        },
                        "marker": {
                          "line": {
                            "color": "#E5ECF6",
                            "width": 0.5
                          },
                          "pattern": {
                            "fillmode": "overlay",
                            "size": 10,
                            "solidity": 0.2
                          }
                        },
                        "type": "bar"
                      }
                    ],
                    "barpolar": [
                      {
                        "marker": {
                          "line": {
                            "color": "#E5ECF6",
                            "width": 0.5
                          },
                          "pattern": {
                            "fillmode": "overlay",
                            "size": 10,
                            "solidity": 0.2
                          }
                        },
                        "type": "barpolar"
                      }
                    ],
                    "carpet": [
                      {
                        "aaxis": {
                          "endlinecolor": "#2a3f5f",
                          "gridcolor": "white",
                          "linecolor": "white",
                          "minorgridcolor": "white",
                          "startlinecolor": "#2a3f5f"
                        },
                        "baxis": {
                          "endlinecolor": "#2a3f5f",
                          "gridcolor": "white",
                          "linecolor": "white",
                          "minorgridcolor": "white",
                          "startlinecolor": "#2a3f5f"
                        },
                        "type": "carpet"
                      }
                    ],
                    "choropleth": [
                      {
                        "colorbar": {
                          "outlinewidth": 0,
                          "ticks": ""
                        },
                        "type": "choropleth"
                      }
                    ],
                    "contour": [
                      {
                        "colorbar": {
                          "outlinewidth": 0,
                          "ticks": ""
                        },
                        "colorscale": [
                          [
                            0,
                            "#0d0887"
                          ],
                          [
                            0.1111111111111111,
                            "#46039f"
                          ],
                          [
                            0.2222222222222222,
                            "#7201a8"
                          ],
                          [
                            0.3333333333333333,
                            "#9c179e"
                          ],
                          [
                            0.4444444444444444,
                            "#bd3786"
                          ],
                          [
                            0.5555555555555556,
                            "#d8576b"
                          ],
                          [
                            0.6666666666666666,
                            "#ed7953"
                          ],
                          [
                            0.7777777777777778,
                            "#fb9f3a"
                          ],
                          [
                            0.8888888888888888,
                            "#fdca26"
                          ],
                          [
                            1,
                            "#f0f921"
                          ]
                        ],
                        "type": "contour"
                      }
                    ],
                    "contourcarpet": [
                      {
                        "colorbar": {
                          "outlinewidth": 0,
                          "ticks": ""
                        },
                        "type": "contourcarpet"
                      }
                    ],
                    "heatmap": [
                      {
                        "colorbar": {
                          "outlinewidth": 0,
                          "ticks": ""
                        },
                        "colorscale": [
                          [
                            0,
                            "#0d0887"
                          ],
                          [
                            0.1111111111111111,
                            "#46039f"
                          ],
                          [
                            0.2222222222222222,
                            "#7201a8"
                          ],
                          [
                            0.3333333333333333,
                            "#9c179e"
                          ],
                          [
                            0.4444444444444444,
                            "#bd3786"
                          ],
                          [
                            0.5555555555555556,
                            "#d8576b"
                          ],
                          [
                            0.6666666666666666,
                            "#ed7953"
                          ],
                          [
                            0.7777777777777778,
                            "#fb9f3a"
                          ],
                          [
                            0.8888888888888888,
                            "#fdca26"
                          ],
                          [
                            1,
                            "#f0f921"
                          ]
                        ],
                        "type": "heatmap"
                      }
                    ],
                    "heatmapgl": [
                      {
                        "colorbar": {
                          "outlinewidth": 0,
                          "ticks": ""
                        },
                        "colorscale": [
                          [
                            0,
                            "#0d0887"
                          ],
                          [
                            0.1111111111111111,
                            "#46039f"
                          ],
                          [
                            0.2222222222222222,
                            "#7201a8"
                          ],
                          [
                            0.3333333333333333,
                            "#9c179e"
                          ],
                          [
                            0.4444444444444444,
                            "#bd3786"
                          ],
                          [
                            0.5555555555555556,
                            "#d8576b"
                          ],
                          [
                            0.6666666666666666,
                            "#ed7953"
                          ],
                          [
                            0.7777777777777778,
                            "#fb9f3a"
                          ],
                          [
                            0.8888888888888888,
                            "#fdca26"
                          ],
                          [
                            1,
                            "#f0f921"
                          ]
                        ],
                        "type": "heatmapgl"
                      }
                    ],
                    "histogram": [
                      {
                        "marker": {
                          "pattern": {
                            "fillmode": "overlay",
                            "size": 10,
                            "solidity": 0.2
                          }
                        },
                        "type": "histogram"
                      }
                    ],
                    "histogram2d": [
                      {
                        "colorbar": {
                          "outlinewidth": 0,
                          "ticks": ""
                        },
                        "colorscale": [
                          [
                            0,
                            "#0d0887"
                          ],
                          [
                            0.1111111111111111,
                            "#46039f"
                          ],
                          [
                            0.2222222222222222,
                            "#7201a8"
                          ],
                          [
                            0.3333333333333333,
                            "#9c179e"
                          ],
                          [
                            0.4444444444444444,
                            "#bd3786"
                          ],
                          [
                            0.5555555555555556,
                            "#d8576b"
                          ],
                          [
                            0.6666666666666666,
                            "#ed7953"
                          ],
                          [
                            0.7777777777777778,
                            "#fb9f3a"
                          ],
                          [
                            0.8888888888888888,
                            "#fdca26"
                          ],
                          [
                            1,
                            "#f0f921"
                          ]
                        ],
                        "type": "histogram2d"
                      }
                    ],
                    "histogram2dcontour": [
                      {
                        "colorbar": {
                          "outlinewidth": 0,
                          "ticks": ""
                        },
                        "colorscale": [
                          [
                            0,
                            "#0d0887"
                          ],
                          [
                            0.1111111111111111,
                            "#46039f"
                          ],
                          [
                            0.2222222222222222,
                            "#7201a8"
                          ],
                          [
                            0.3333333333333333,
                            "#9c179e"
                          ],
                          [
                            0.4444444444444444,
                            "#bd3786"
                          ],
                          [
                            0.5555555555555556,
                            "#d8576b"
                          ],
                          [
                            0.6666666666666666,
                            "#ed7953"
                          ],
                          [
                            0.7777777777777778,
                            "#fb9f3a"
                          ],
                          [
                            0.8888888888888888,
                            "#fdca26"
                          ],
                          [
                            1,
                            "#f0f921"
                          ]
                        ],
                        "type": "histogram2dcontour"
                      }
                    ],
                    "mesh3d": [
                      {
                        "colorbar": {
                          "outlinewidth": 0,
                          "ticks": ""
                        },
                        "type": "mesh3d"
                      }
                    ],
                    "parcoords": [
                      {
                        "line": {
                          "colorbar": {
                            "outlinewidth": 0,
                            "ticks": ""
                          }
                        },
                        "type": "parcoords"
                      }
                    ],
                    "pie": [
                      {
                        "automargin": true,
                        "type": "pie"
                      }
                    ],
                    "scatter": [
                      {
                        "fillpattern": {
                          "fillmode": "overlay",
                          "size": 10,
                          "solidity": 0.2
                        },
                        "type": "scatter"
                      }
                    ],
                    "scatter3d": [
                      {
                        "line": {
                          "colorbar": {
                            "outlinewidth": 0,
                            "ticks": ""
                          }
                        },
                        "marker": {
                          "colorbar": {
                            "outlinewidth": 0,
                            "ticks": ""
                          }
                        },
                        "type": "scatter3d"
                      }
                    ],
                    "scattercarpet": [
                      {
                        "marker": {
                          "colorbar": {
                            "outlinewidth": 0,
                            "ticks": ""
                          }
                        },
                        "type": "scattercarpet"
                      }
                    ],
                    "scattergeo": [
                      {
                        "marker": {
                          "colorbar": {
                            "outlinewidth": 0,
                            "ticks": ""
                          }
                        },
                        "type": "scattergeo"
                      }
                    ],
                    "scattergl": [
                      {
                        "marker": {
                          "colorbar": {
                            "outlinewidth": 0,
                            "ticks": ""
                          }
                        },
                        "type": "scattergl"
                      }
                    ],
                    "scattermapbox": [
                      {
                        "marker": {
                          "colorbar": {
                            "outlinewidth": 0,
                            "ticks": ""
                          }
                        },
                        "type": "scattermapbox"
                      }
                    ],
                    "scatterpolar": [
                      {
                        "marker": {
                          "colorbar": {
                            "outlinewidth": 0,
                            "ticks": ""
                          }
                        },
                        "type": "scatterpolar"
                      }
                    ],
                    "scatterpolargl": [
                      {
                        "marker": {
                          "colorbar": {
                            "outlinewidth": 0,
                            "ticks": ""
                          }
                        },
                        "type": "scatterpolargl"
                      }
                    ],
                    "scatterternary": [
                      {
                        "marker": {
                          "colorbar": {
                            "outlinewidth": 0,
                            "ticks": ""
                          }
                        },
                        "type": "scatterternary"
                      }
                    ],
                    "surface": [
                      {
                        "colorbar": {
                          "outlinewidth": 0,
                          "ticks": ""
                        },
                        "colorscale": [
                          [
                            0,
                            "#0d0887"
                          ],
                          [
                            0.1111111111111111,
                            "#46039f"
                          ],
                          [
                            0.2222222222222222,
                            "#7201a8"
                          ],
                          [
                            0.3333333333333333,
                            "#9c179e"
                          ],
                          [
                            0.4444444444444444,
                            "#bd3786"
                          ],
                          [
                            0.5555555555555556,
                            "#d8576b"
                          ],
                          [
                            0.6666666666666666,
                            "#ed7953"
                          ],
                          [
                            0.7777777777777778,
                            "#fb9f3a"
                          ],
                          [
                            0.8888888888888888,
                            "#fdca26"
                          ],
                          [
                            1,
                            "#f0f921"
                          ]
                        ],
                        "type": "surface"
                      }
                    ],
                    "table": [
                      {
                        "cells": {
                          "fill": {
                            "color": "#EBF0F8"
                          },
                          "line": {
                            "color": "white"
                          }
                        },
                        "header": {
                          "fill": {
                            "color": "#C8D4E3"
                          },
                          "line": {
                            "color": "white"
                          }
                        },
                        "type": "table"
                      }
                    ]
                  },
                  "layout": {
                    "annotationdefaults": {
                      "arrowcolor": "#2a3f5f",
                      "arrowhead": 0,
                      "arrowwidth": 1
                    },
                    "autotypenumbers": "strict",
                    "coloraxis": {
                      "colorbar": {
                        "outlinewidth": 0,
                        "ticks": ""
                      }
                    },
                    "colorscale": {
                      "diverging": [
                        [
                          0,
                          "#8e0152"
                        ],
                        [
                          0.1,
                          "#c51b7d"
                        ],
                        [
                          0.2,
                          "#de77ae"
                        ],
                        [
                          0.3,
                          "#f1b6da"
                        ],
                        [
                          0.4,
                          "#fde0ef"
                        ],
                        [
                          0.5,
                          "#f7f7f7"
                        ],
                        [
                          0.6,
                          "#e6f5d0"
                        ],
                        [
                          0.7,
                          "#b8e186"
                        ],
                        [
                          0.8,
                          "#7fbc41"
                        ],
                        [
                          0.9,
                          "#4d9221"
                        ],
                        [
                          1,
                          "#276419"
                        ]
                      ],
                      "sequential": [
                        [
                          0,
                          "#0d0887"
                        ],
                        [
                          0.1111111111111111,
                          "#46039f"
                        ],
                        [
                          0.2222222222222222,
                          "#7201a8"
                        ],
                        [
                          0.3333333333333333,
                          "#9c179e"
                        ],
                        [
                          0.4444444444444444,
                          "#bd3786"
                        ],
                        [
                          0.5555555555555556,
                          "#d8576b"
                        ],
                        [
                          0.6666666666666666,
                          "#ed7953"
                        ],
                        [
                          0.7777777777777778,
                          "#fb9f3a"
                        ],
                        [
                          0.8888888888888888,
                          "#fdca26"
                        ],
                        [
                          1,
                          "#f0f921"
                        ]
                      ],
                      "sequentialminus": [
                        [
                          0,
                          "#0d0887"
                        ],
                        [
                          0.1111111111111111,
                          "#46039f"
                        ],
                        [
                          0.2222222222222222,
                          "#7201a8"
                        ],
                        [
                          0.3333333333333333,
                          "#9c179e"
                        ],
                        [
                          0.4444444444444444,
                          "#bd3786"
                        ],
                        [
                          0.5555555555555556,
                          "#d8576b"
                        ],
                        [
                          0.6666666666666666,
                          "#ed7953"
                        ],
                        [
                          0.7777777777777778,
                          "#fb9f3a"
                        ],
                        [
                          0.8888888888888888,
                          "#fdca26"
                        ],
                        [
                          1,
                          "#f0f921"
                        ]
                      ]
                    },
                    "colorway": [
                      "#636efa",
                      "#EF553B",
                      "#00cc96",
                      "#ab63fa",
                      "#FFA15A",
                      "#19d3f3",
                      "#FF6692",
                      "#B6E880",
                      "#FF97FF",
                      "#FECB52"
                    ],
                    "font": {
                      "color": "#2a3f5f"
                    },
                    "geo": {
                      "bgcolor": "white",
                      "lakecolor": "white",
                      "landcolor": "#E5ECF6",
                      "showlakes": true,
                      "showland": true,
                      "subunitcolor": "white"
                    },
                    "hoverlabel": {
                      "align": "left"
                    },
                    "hovermode": "closest",
                    "mapbox": {
                      "style": "light"
                    },
                    "paper_bgcolor": "white",
                    "plot_bgcolor": "#E5ECF6",
                    "polar": {
                      "angularaxis": {
                        "gridcolor": "white",
                        "linecolor": "white",
                        "ticks": ""
                      },
                      "bgcolor": "#E5ECF6",
                      "radialaxis": {
                        "gridcolor": "white",
                        "linecolor": "white",
                        "ticks": ""
                      }
                    },
                    "scene": {
                      "xaxis": {
                        "backgroundcolor": "#E5ECF6",
                        "gridcolor": "white",
                        "gridwidth": 2,
                        "linecolor": "white",
                        "showbackground": true,
                        "ticks": "",
                        "zerolinecolor": "white"
                      },
                      "yaxis": {
                        "backgroundcolor": "#E5ECF6",
                        "gridcolor": "white",
                        "gridwidth": 2,
                        "linecolor": "white",
                        "showbackground": true,
                        "ticks": "",
                        "zerolinecolor": "white"
                      },
                      "zaxis": {
                        "backgroundcolor": "#E5ECF6",
                        "gridcolor": "white",
                        "gridwidth": 2,
                        "linecolor": "white",
                        "showbackground": true,
                        "ticks": "",
                        "zerolinecolor": "white"
                      }
                    },
                    "shapedefaults": {
                      "line": {
                        "color": "#2a3f5f"
                      }
                    },
                    "ternary": {
                      "aaxis": {
                        "gridcolor": "white",
                        "linecolor": "white",
                        "ticks": ""
                      },
                      "baxis": {
                        "gridcolor": "white",
                        "linecolor": "white",
                        "ticks": ""
                      },
                      "bgcolor": "#E5ECF6",
                      "caxis": {
                        "gridcolor": "white",
                        "linecolor": "white",
                        "ticks": ""
                      }
                    },
                    "title": {
                      "x": 0.05
                    },
                    "xaxis": {
                      "automargin": true,
                      "gridcolor": "white",
                      "linecolor": "white",
                      "ticks": "",
                      "title": {
                        "standoff": 15
                      },
                      "zerolinecolor": "white",
                      "zerolinewidth": 2
                    },
                    "yaxis": {
                      "automargin": true,
                      "gridcolor": "white",
                      "linecolor": "white",
                      "ticks": "",
                      "title": {
                        "standoff": 15
                      },
                      "zerolinecolor": "white",
                      "zerolinewidth": 2
                    }
                  }
                },
                "title": {
                  "text": "Permformance Linear Regression vs. Random Forest"
                },
                "xaxis": {
                  "anchor": "y",
                  "domain": [
                    0,
                    1
                  ],
                  "title": {
                    "text": "Models"
                  }
                },
                "yaxis": {
                  "anchor": "x",
                  "domain": [
                    0,
                    1
                  ],
                  "title": {
                    "text": "Metric"
                  }
                }
              }
            }
          },
          "metadata": {},
          "output_type": "display_data"
        }
      ],
      "source": [
        "lr_r2 = r2_score(y_test, lr_predictions)\n",
        "rf_r2 = r2_score(y_test, rf_predictions)\n",
        "\n",
        "lr_mse = mean_squared_error(y_test, lr_predictions)\n",
        "rf_mse = mean_squared_error(y_test, rf_predictions)\n",
        "\n",
        "df_metrics = pd.DataFrame()\n",
        "df_metrics[\"R2\"] = [lr_r2, rf_r2]\n",
        "df_metrics[\"MSE\"] = [lr_mse, rf_mse]\n",
        "\n",
        "df_metrics.index = [\"Linear Regression\", \"Random Forest\"]\n",
        "\n",
        "fig = px.bar(\n",
        "    df_metrics, \n",
        "    barmode=\"group\", \n",
        "    title=\"Permformance Linear Regression vs. Random Forest\",\n",
        "    labels={\n",
        "        \"value\": \"Metric\",\n",
        "        \"index\": \"Models\",\n",
        "        \"variable\": \"Variable\"\n",
        "    }    \n",
        ")\n",
        "fig.show()"
      ]
    },
    {
      "cell_type": "markdown",
      "metadata": {},
      "source": [
        "En el Random Forest el R2 es mayory el MSE es menor que en el modelo de Linear Regression, lo que lo hace un modelo superior."
      ]
    },
    {
      "cell_type": "markdown",
      "metadata": {
        "id": "YhuImkegUE5a"
      },
      "source": [
        "## Ejercicio 3 (4 puntos):\n"
      ]
    },
    {
      "cell_type": "markdown",
      "metadata": {
        "id": "kUZlJzRKU1p0"
      },
      "source": [
        "*Consideremos* el dataset que contiene __The Most Streamed Spotify Songs 2023__ que se encuentra en el respositorio.\n",
        "\n",
        "Información de las variables:\n",
        "\n",
        "- track_name: Name of the song\n",
        "- artist(s)_name: Name of the artist(s) of the song\n",
        "- vartist_count: Number of artists contributing to the song\n",
        "- released_year: Year when the song was released\n",
        "- released_month: Month when the song was released\n",
        "- release_day: Day of the month when the song was released\n",
        "- in_spotify_playlists: Number of Spotify playlists the song is included in\n",
        "- in_spotify_charts: Presence and rank of the song on Spotify charts\n",
        "- streams: Total number of streams on Spotify\n",
        "- in_apple_playlists: Number of Apple Music playlists the song is included in\n",
        "- in_apple_charts: Presence and rank of the song on Apple Music charts\n",
        "- in_deezer_playlists: Number of Deezer playlists the song is included in\n",
        "- in_deezer_charts: Presence and rank of the song on Deezer charts\n",
        "- in_shazam_charts: Presence and rank of the song on Shazam charts\n",
        "- bpm: Beats per minute, a measure of song tempo\n",
        "- key: Key of the song\n",
        "- mode: Mode of the song (major or minor)\n",
        "- danceability_%: Percentage indicating how suitable the song is for dancing\n",
        "- valence_%: Positivity of the song's musical content\n",
        "- energy_%: Perceived energy level of the song\n",
        "- acousticness_%: Amount of acoustic sound in the song\n",
        "- instrumentalness_%: Amount of instrumental content in the song\n",
        "- liveness_%: Presence of live performance elements\n",
        "- speechiness_%: Amount of spoken words in the song\n",
        "\n",
        "Para las respuestas b, c, d, e, f y g es imperativo acompañarlas respuestas con una visualización.\n",
        "\n",
        "a) Lee el fichero en formato dataframe, aplica la función del ejercicio 2.b, elimina NAs y convierte a integer si fuera necesario. **(0.25 puntos)**\n",
        "\n",
        "b) ¿Cuántos artistas únicos hay? **(0.25 puntos)**\n",
        "\n",
        "c) ¿Cuál es la distribución de reproducciones? **(0.5 puntos)**\n",
        "\n",
        "d) ¿Existe una diferencia signitificativa en las reproducciones entre las canciones de un solo artista y las de más de uno? **(0.5 puntos)**\n",
        "\n",
        "e) ¿Cuáles son las propiedades de una canción que mejor correlan con el número de reproducciones de una canción? **(0.5 puntos)**\n",
        "\n",
        "f) ¿Cuáles son las variables que mejor predicen las canciones que están por encima el percentil 50? **(1 puntos)**\n",
        "\n",
        "*Nota: Crea una variable binaria (Hit/No Hit) en base a 3.c, crea una regresión logística y visualiza sus coeficientes.*\n",
        "\n",
        "g) Agrupa los 4 gráficos realizados en uno solo y haz una recomendación a un sello discográfico para producir un nuevo hit. **(1 puntos)**\n"
      ]
    },
    {
      "cell_type": "code",
      "execution_count": null,
      "metadata": {
        "id": "nN73ExlTmNE_"
      },
      "outputs": [
        {
          "name": "stdout",
          "output_type": "stream",
          "text": [
            "Dataframe information:\n",
            "\n",
            "\n",
            "<class 'pandas.core.frame.DataFrame'>\n",
            "Index: 748 entries, 0 to 952\n",
            "Data columns (total 24 columns):\n",
            " #   Column                Non-Null Count  Dtype  \n",
            "---  ------                --------------  -----  \n",
            " 0   track_name            748 non-null    object \n",
            " 1   artist(s)_name        748 non-null    object \n",
            " 2   artist_count          748 non-null    int64  \n",
            " 3   released_year         748 non-null    int64  \n",
            " 4   released_month        748 non-null    int64  \n",
            " 5   released_day          748 non-null    int64  \n",
            " 6   in_spotify_playlists  748 non-null    int64  \n",
            " 7   in_spotify_charts     748 non-null    int64  \n",
            " 8   streams               748 non-null    float64\n",
            " 9   in_apple_playlists    748 non-null    int64  \n",
            " 10  in_apple_charts       748 non-null    int64  \n",
            " 11  in_deezer_playlists   748 non-null    float64\n",
            " 12  in_deezer_charts      748 non-null    int64  \n",
            " 13  in_shazam_charts      748 non-null    float64\n",
            " 14  bpm                   748 non-null    int64  \n",
            " 15  key                   748 non-null    object \n",
            " 16  mode                  748 non-null    object \n",
            " 17  danceability_%        748 non-null    int64  \n",
            " 18  valence_%             748 non-null    int64  \n",
            " 19  energy_%              748 non-null    int64  \n",
            " 20  acousticness_%        748 non-null    int64  \n",
            " 21  instrumentalness_%    748 non-null    int64  \n",
            " 22  liveness_%            748 non-null    int64  \n",
            " 23  speechiness_%         748 non-null    int64  \n",
            "dtypes: float64(3), int64(17), object(4)\n",
            "memory usage: 146.1+ KB\n",
            "None\n",
            "\n",
            "\n",
            "Dataframe statistics:\n",
            "\n",
            "\n",
            "       artist_count  released_year  released_month  released_day  \\\n",
            "count    748.000000     748.000000      748.000000    748.000000   \n",
            "mean       1.584225    2019.462567        6.153743     13.947861   \n",
            "std        0.893000      10.248581        3.513470      9.110284   \n",
            "min        1.000000    1930.000000        1.000000      1.000000   \n",
            "25%        1.000000    2021.000000        3.000000      6.000000   \n",
            "50%        1.000000    2022.000000        5.000000     13.000000   \n",
            "75%        2.000000    2022.000000       10.000000     22.000000   \n",
            "max        8.000000    2023.000000       12.000000     31.000000   \n",
            "\n",
            "       in_spotify_playlists  in_spotify_charts       streams  \\\n",
            "count            748.000000         748.000000  7.480000e+02   \n",
            "mean            3065.844920          10.875668  3.675354e+08   \n",
            "std             3715.184068          17.915667  3.639181e+08   \n",
            "min               31.000000           0.000000  2.762000e+03   \n",
            "25%              792.500000           0.000000  1.263808e+08   \n",
            "50%             1785.500000           2.000000  2.408440e+08   \n",
            "75%             3771.500000          15.000000  4.809446e+08   \n",
            "max            29499.000000         147.000000  2.808097e+09   \n",
            "\n",
            "       in_apple_playlists  in_apple_charts  in_deezer_playlists  \\\n",
            "count          748.000000       748.000000           748.000000   \n",
            "mean            48.965241        46.905080            93.549465   \n",
            "std             57.452117        48.617958           155.906011   \n",
            "min              0.000000         0.000000             0.000000   \n",
            "25%             11.000000         6.000000            12.000000   \n",
            "50%             27.000000        29.000000            32.000000   \n",
            "75%             67.000000        79.250000            99.000000   \n",
            "max            492.000000       275.000000           964.000000   \n",
            "\n",
            "       in_deezer_charts  in_shazam_charts         bpm  danceability_%  \\\n",
            "count        748.000000        748.000000  748.000000      748.000000   \n",
            "mean           2.368984         48.909091  123.143048       67.592246   \n",
            "std            5.316258        124.329225   28.333491       14.585603   \n",
            "min            0.000000          0.000000   65.000000       23.000000   \n",
            "25%            0.000000          0.000000  100.000000       58.000000   \n",
            "50%            0.000000          2.000000  121.000000       70.000000   \n",
            "75%            1.000000         33.000000  142.000000       79.000000   \n",
            "max           45.000000        953.000000  206.000000       96.000000   \n",
            "\n",
            "        valence_%    energy_%  acousticness_%  instrumentalness_%  liveness_%  \\\n",
            "count  748.000000  748.000000      748.000000          748.000000  748.000000   \n",
            "mean    51.129679   64.137701       26.700535            1.681818   18.304813   \n",
            "std     23.607864   15.933631       25.190809            8.838448   13.722069   \n",
            "min      4.000000   14.000000        0.000000            0.000000    3.000000   \n",
            "25%     32.000000   53.000000        6.000000            0.000000   10.000000   \n",
            "50%     51.000000   65.000000       18.000000            0.000000   12.000000   \n",
            "75%     70.000000   76.000000       41.250000            0.000000   24.000000   \n",
            "max     97.000000   97.000000       97.000000           91.000000   97.000000   \n",
            "\n",
            "       speechiness_%  \n",
            "count     748.000000  \n",
            "mean       10.711230  \n",
            "std        10.332208  \n",
            "min         2.000000  \n",
            "25%         4.000000  \n",
            "50%         6.000000  \n",
            "75%        12.000000  \n",
            "max        64.000000  \n",
            "\n",
            "\n",
            "NAs:\n",
            "\n",
            "\n",
            "track_name: 0\n",
            "artist(s)_name: 0\n",
            "artist_count: 0\n",
            "released_year: 0\n",
            "released_month: 0\n",
            "released_day: 0\n",
            "in_spotify_playlists: 0\n",
            "in_spotify_charts: 0\n",
            "streams: 0\n",
            "in_apple_playlists: 0\n",
            "in_apple_charts: 0\n",
            "in_deezer_playlists: 0\n",
            "in_deezer_charts: 0\n",
            "in_shazam_charts: 0\n",
            "bpm: 0\n",
            "key: 0\n",
            "mode: 0\n",
            "danceability_%: 0\n",
            "valence_%: 0\n",
            "energy_%: 0\n",
            "acousticness_%: 0\n",
            "instrumentalness_%: 0\n",
            "liveness_%: 0\n",
            "speechiness_%: 0\n"
          ]
        }
      ],
      "source": [
        "spotify = pd.read_csv(\"./spotify-2023.csv\", encoding=\"ISO-8859-1\")\n",
        "spotify[\"streams\"] = pd.to_numeric(spotify[\"streams\"], errors=\"coerce\")\n",
        "spotify[\"in_deezer_playlists\"] = pd.to_numeric(spotify[\"in_deezer_playlists\"], errors=\"coerce\")\n",
        "spotify[\"in_shazam_charts\"] = pd.to_numeric(spotify[\"in_shazam_charts\"], errors=\"coerce\")\n",
        "spotify = spotify.dropna()\n",
        "describe_df(spotify)"
      ]
    },
    {
      "cell_type": "markdown",
      "metadata": {},
      "source": [
        "b) ¿Cuántos artistas únicos hay? **(0.25 puntos)**\n",
        "\n",
        "c) ¿Cuál es la distribución de reproducciones? **(0.5 puntos)**"
      ]
    },
    {
      "cell_type": "code",
      "execution_count": null,
      "metadata": {},
      "outputs": [
        {
          "name": "stdout",
          "output_type": "stream",
          "text": [
            "Number of unique artists: 531\n"
          ]
        }
      ],
      "source": [
        "unique_artists = len(spotify[\"artist(s)_name\"].unique())\n",
        "print(\"Number of unique artists: \" + str(unique_artists))"
      ]
    },
    {
      "cell_type": "code",
      "execution_count": null,
      "metadata": {},
      "outputs": [
        {
          "data": {
            "application/vnd.plotly.v1+json": {
              "config": {
                "plotlyServerURL": "https://plot.ly"
              },
              "data": [
                {
                  "type": "box",
                  "y": [
                    141381703,
                    133716286,
                    140003974,
                    800840817,
                    303236322,
                    183706234,
                    725980112,
                    58149378,
                    95217315,
                    553634067,
                    505671438,
                    58255150,
                    1163093654,
                    496795686,
                    335222234,
                    363369738,
                    86444842,
                    52135248,
                    200647221,
                    78300654,
                    899183384,
                    61245289,
                    429829812,
                    127408954,
                    22581161,
                    52294266,
                    843957510,
                    999748277,
                    618990393,
                    188933502,
                    1355959075,
                    786181836,
                    176553476,
                    354495408,
                    2808096550,
                    1109433169,
                    1047101291,
                    570515054,
                    1647990401,
                    518745108,
                    107753850,
                    177740666,
                    153372011,
                    57876440,
                    256483385,
                    1214083358,
                    111947664,
                    156338624,
                    720434240,
                    357925728,
                    674072710,
                    404562836,
                    373199958,
                    14780425,
                    39578178,
                    54266102,
                    751134527,
                    1356565093,
                    635412045,
                    1230675890,
                    585695368,
                    43857627,
                    600976848,
                    39709092,
                    39228929,
                    2665343922,
                    223633238,
                    1440757818,
                    157058870,
                    95131998,
                    250305248,
                    685032533,
                    38411956,
                    144565150,
                    127567540,
                    399686758,
                    118482347,
                    882831184,
                    286400165,
                    172825906,
                    29562220,
                    77309611,
                    1116995633,
                    838079900,
                    1093605526,
                    179659294,
                    39058561,
                    36912123,
                    1791000570,
                    201660859,
                    248088961,
                    90839753,
                    607123776,
                    55842345,
                    211050784,
                    342897938,
                    2762,
                    601863821,
                    66902503,
                    96273746,
                    430977451,
                    284819874,
                    721975598,
                    276259178,
                    54225632,
                    681583126,
                    81102253,
                    11956641,
                    611700552,
                    1133865788,
                    411747614,
                    255932395,
                    31873544,
                    233801632,
                    1481349984,
                    142095275,
                    436027885,
                    621660989,
                    950906471,
                    1593270737,
                    1410088830,
                    1374581173,
                    94186466,
                    143573775,
                    684675814,
                    265882712,
                    841749534,
                    47956378,
                    806397070,
                    367316268,
                    350381515,
                    1264310836,
                    30343206,
                    405136812,
                    540654286,
                    57312735,
                    397582059,
                    86773632,
                    133753727,
                    123124076,
                    463564958,
                    64533040,
                    65496046,
                    68616963,
                    161460990,
                    70106975,
                    113509496,
                    89933133,
                    71007139,
                    43522589,
                    232896922,
                    37126685,
                    195576623,
                    532336353,
                    538115192,
                    46142772,
                    401036314,
                    127026613,
                    345031710,
                    288101651,
                    60350538,
                    335074782,
                    76767396,
                    46065667,
                    459276435,
                    39666245,
                    138517666,
                    822633917,
                    595900742,
                    51985779,
                    57945987,
                    115010040,
                    175097833,
                    57089066,
                    488386797,
                    32761689,
                    1047480053,
                    153454328,
                    217672943,
                    457184829,
                    726434358,
                    573633020,
                    1406111294,
                    71573339,
                    24975653,
                    145458418,
                    231332117,
                    415932686,
                    988515741,
                    50847624,
                    39893489,
                    92035115,
                    118810253,
                    77233241,
                    117747907,
                    266624541,
                    293186992,
                    139681964,
                    123132751,
                    103762518,
                    162887075,
                    91221625,
                    190490915,
                    96180277,
                    185240616,
                    885093467,
                    104992946,
                    147290338,
                    158950978,
                    76910644,
                    137123880,
                    782369383,
                    502574952,
                    207033255,
                    381161027,
                    466231982,
                    357580552,
                    61105704,
                    198275403,
                    705469769,
                    34502215,
                    304118600,
                    1449799467,
                    173627354,
                    90025258,
                    652704649,
                    146409671,
                    95816024,
                    117206995,
                    100409613,
                    80758350,
                    325592432,
                    58473276,
                    52722996,
                    191945597,
                    77377503,
                    743693613,
                    267789608,
                    449701773,
                    67070410,
                    116334601,
                    165584767,
                    367814306,
                    477033549,
                    156214700,
                    448843705,
                    294352144,
                    972164968,
                    920045682,
                    244658767,
                    68216992,
                    223582566,
                    471819764,
                    116599790,
                    148469433,
                    497225336,
                    88791109,
                    125917280,
                    105062254,
                    95623148,
                    144584800,
                    298063749,
                    166570053,
                    83021468,
                    139836056,
                    303216294,
                    221409663,
                    58890931,
                    81419389,
                    156777415,
                    284908316,
                    93438910,
                    363472647,
                    372476382,
                    56533272,
                    175399345,
                    203221468,
                    134294498,
                    70069745,
                    609293408,
                    671365962,
                    93587665,
                    1223481149,
                    1022258230,
                    263453310,
                    1435127549,
                    236857112,
                    147538971,
                    698086140,
                    723894473,
                    403097450,
                    309483971,
                    319566866,
                    909001996,
                    1061966512,
                    124988687,
                    134255790,
                    301051721,
                    156338624,
                    309653982,
                    297328960,
                    332506354,
                    480507035,
                    1065580332,
                    122763672,
                    1365184,
                    184308753,
                    606361689,
                    120972253,
                    338564981,
                    1301799902,
                    140187018,
                    107642809,
                    556585270,
                    646886885,
                    872137015,
                    571386359,
                    174006928,
                    284785823,
                    163284000,
                    246390068,
                    482257456,
                    168684524,
                    78489819,
                    195516622,
                    1260594497,
                    428685680,
                    1024858327,
                    838586769,
                    199386237,
                    972509632,
                    213438580,
                    210038833,
                    227918678,
                    826623384,
                    1802514301,
                    181831132,
                    462791599,
                    348647203,
                    90598517,
                    807561936,
                    663832097,
                    446390129,
                    485285717,
                    520034544,
                    476244795,
                    629173063,
                    404664135,
                    98709329,
                    110849052,
                    460492795,
                    94005786,
                    389771964,
                    403939487,
                    110073250,
                    351636786,
                    473248298,
                    73981293,
                    155653938,
                    395591396,
                    429504768,
                    242767149,
                    65362788,
                    67540165,
                    62019074,
                    295998468,
                    136689549,
                    135611421,
                    356709897,
                    110649992,
                    301869854,
                    127027715,
                    57144458,
                    56870689,
                    323437194,
                    317726339,
                    116144341,
                    328207708,
                    608228647,
                    180577478,
                    809306935,
                    49262961,
                    614555082,
                    245350949,
                    178660459,
                    51641685,
                    78139948,
                    322336177,
                    391251368,
                    349585590,
                    674772936,
                    119238316,
                    116903579,
                    888046992,
                    130655803,
                    88103848,
                    101114984,
                    1575467011,
                    91656026,
                    53933526,
                    267758538,
                    74601456,
                    920797189,
                    539595276,
                    1367810478,
                    578207856,
                    775542072,
                    656013912,
                    240684449,
                    63803529,
                    466214729,
                    236940480,
                    41924466,
                    225259194,
                    393230256,
                    287201015,
                    599770206,
                    342779426,
                    673801126,
                    1168642797,
                    383550148,
                    530511203,
                    510876816,
                    1763363713,
                    374191487,
                    108809090,
                    436695353,
                    354065229,
                    1143647827,
                    311395144,
                    672656250,
                    1256880657,
                    245095641,
                    686734357,
                    261414174,
                    610045621,
                    1115880852,
                    594482982,
                    566954746,
                    184937148,
                    31959571,
                    824420218,
                    363467642,
                    1127468248,
                    60680939,
                    247737946,
                    154797871,
                    124407432,
                    850608354,
                    376333030,
                    516784627,
                    1608045237,
                    506778838,
                    513643924,
                    261286503,
                    783706581,
                    422691058,
                    1062345656,
                    851070493,
                    263894529,
                    345903614,
                    427486004,
                    156658366,
                    624515457,
                    777765388,
                    1138474110,
                    355219175,
                    290228626,
                    1062956628,
                    1180094974,
                    432702334,
                    489945871,
                    465959382,
                    1223481149,
                    2288695111,
                    720825549,
                    593917618,
                    200972675,
                    71014967,
                    560222750,
                    77337771,
                    528544703,
                    865640097,
                    211372494,
                    651732901,
                    608334048,
                    863756573,
                    797402345,
                    223319934,
                    54937991,
                    258316038,
                    596152090,
                    177129919,
                    716591492,
                    246376690,
                    496311364,
                    500340342,
                    107255472,
                    135079152,
                    822239726,
                    343197054,
                    240769997,
                    426204830,
                    421135627,
                    554875730,
                    327498031,
                    185408548,
                    245400167,
                    252871192,
                    231996128,
                    1180896317,
                    498960285,
                    258714692,
                    143139338,
                    209768491,
                    64714573,
                    50746620,
                    154119539,
                    181328253,
                    370068639,
                    563902868,
                    317622165,
                    203680270,
                    81350745,
                    282883169,
                    64787943,
                    461437791,
                    1439191367,
                    759208783,
                    299634472,
                    756907987,
                    682475162,
                    546191065,
                    229473310,
                    202677468,
                    208166039,
                    527033089,
                    94616487,
                    394030335,
                    193443895,
                    299648208,
                    319757142,
                    153240879,
                    346127840,
                    312622938,
                    1200808494,
                    797196073,
                    665765558,
                    263779030,
                    339473453,
                    135444283,
                    236872197,
                    694525298,
                    421365166,
                    349746291,
                    255120451,
                    190981339,
                    924193303,
                    305771063,
                    273005485,
                    89566512,
                    677389855,
                    75476209,
                    408843328,
                    187772591,
                    178512385,
                    101780047,
                    146363130,
                    126443991,
                    157990698,
                    176290831,
                    1023187129,
                    106933107,
                    139193812,
                    212234990,
                    197643795,
                    807015863,
                    499710590,
                    120847157,
                    53909146,
                    301242089,
                    723894473,
                    237351106,
                    461558540,
                    156898322,
                    127309180,
                    173702135,
                    305650299,
                    123216717,
                    479655659,
                    126191104,
                    344055883,
                    338422004,
                    68895644,
                    86176890,
                    403231558,
                    319546754,
                    61739839,
                    283359161,
                    76831876,
                    283332261,
                    307752576,
                    279737940,
                    212351890,
                    1304313953,
                    150500965,
                    246127838,
                    582863434,
                    58687425,
                    212109195,
                    382199619,
                    41210087,
                    231657891,
                    53729194,
                    244741137,
                    42485571,
                    37778188,
                    254218729,
                    53603447,
                    160035717,
                    37091576,
                    284249832,
                    33381454,
                    184622518,
                    300983101,
                    121077868,
                    106919680,
                    136996305,
                    65719930,
                    229497852,
                    185550869,
                    54682594,
                    240580042,
                    1284942608,
                    71423324,
                    244891912,
                    132171975,
                    184706613,
                    184826429,
                    302006641,
                    330881149,
                    334733572,
                    366214458,
                    114546317,
                    448500832,
                    136676504,
                    190625045,
                    79095270,
                    273194684,
                    333146475,
                    194902696,
                    195918494,
                    248511839,
                    233671263,
                    199587884,
                    91781263,
                    383835984,
                    236060709,
                    189236868,
                    160845341,
                    588955257,
                    238350348,
                    187703102,
                    138334433,
                    445590495,
                    286739476,
                    1122364376,
                    157136970,
                    183273246,
                    164856284,
                    704171068,
                    354614964,
                    279717388,
                    195628667,
                    221752937,
                    263280370,
                    213505179,
                    130419412,
                    155795783,
                    293466523,
                    191448892,
                    85924992,
                    176103902,
                    121189256,
                    131746175,
                    244790012,
                    129314708,
                    331511413,
                    170732845,
                    179061440,
                    185236961,
                    171788484,
                    387080183,
                    264717480,
                    244928911,
                    97610446,
                    287278853,
                    123473120,
                    323455692,
                    240918092,
                    191873381,
                    239411309,
                    703301727,
                    189476119,
                    277132266,
                    278920007,
                    222410722,
                    185392587,
                    202452860,
                    624101957,
                    148461629,
                    47093942,
                    380319238,
                    209106362,
                    53987404,
                    115331792,
                    225093344,
                    84697729,
                    159240673,
                    170709584,
                    154356956,
                    723043854,
                    247689123,
                    176474912,
                    235549288,
                    85559365,
                    146223492,
                    187701588,
                    154863153,
                    191333656,
                    253650850,
                    223064273,
                    170413877,
                    218320587,
                    141720999,
                    198365537,
                    177503916,
                    71095708,
                    112436403,
                    203436468,
                    93367537,
                    106249219,
                    181382590,
                    91473363,
                    121871870,
                    73513683,
                    133895612,
                    96007391
                  ]
                }
              ],
              "layout": {
                "template": {
                  "data": {
                    "bar": [
                      {
                        "error_x": {
                          "color": "#2a3f5f"
                        },
                        "error_y": {
                          "color": "#2a3f5f"
                        },
                        "marker": {
                          "line": {
                            "color": "#E5ECF6",
                            "width": 0.5
                          },
                          "pattern": {
                            "fillmode": "overlay",
                            "size": 10,
                            "solidity": 0.2
                          }
                        },
                        "type": "bar"
                      }
                    ],
                    "barpolar": [
                      {
                        "marker": {
                          "line": {
                            "color": "#E5ECF6",
                            "width": 0.5
                          },
                          "pattern": {
                            "fillmode": "overlay",
                            "size": 10,
                            "solidity": 0.2
                          }
                        },
                        "type": "barpolar"
                      }
                    ],
                    "carpet": [
                      {
                        "aaxis": {
                          "endlinecolor": "#2a3f5f",
                          "gridcolor": "white",
                          "linecolor": "white",
                          "minorgridcolor": "white",
                          "startlinecolor": "#2a3f5f"
                        },
                        "baxis": {
                          "endlinecolor": "#2a3f5f",
                          "gridcolor": "white",
                          "linecolor": "white",
                          "minorgridcolor": "white",
                          "startlinecolor": "#2a3f5f"
                        },
                        "type": "carpet"
                      }
                    ],
                    "choropleth": [
                      {
                        "colorbar": {
                          "outlinewidth": 0,
                          "ticks": ""
                        },
                        "type": "choropleth"
                      }
                    ],
                    "contour": [
                      {
                        "colorbar": {
                          "outlinewidth": 0,
                          "ticks": ""
                        },
                        "colorscale": [
                          [
                            0,
                            "#0d0887"
                          ],
                          [
                            0.1111111111111111,
                            "#46039f"
                          ],
                          [
                            0.2222222222222222,
                            "#7201a8"
                          ],
                          [
                            0.3333333333333333,
                            "#9c179e"
                          ],
                          [
                            0.4444444444444444,
                            "#bd3786"
                          ],
                          [
                            0.5555555555555556,
                            "#d8576b"
                          ],
                          [
                            0.6666666666666666,
                            "#ed7953"
                          ],
                          [
                            0.7777777777777778,
                            "#fb9f3a"
                          ],
                          [
                            0.8888888888888888,
                            "#fdca26"
                          ],
                          [
                            1,
                            "#f0f921"
                          ]
                        ],
                        "type": "contour"
                      }
                    ],
                    "contourcarpet": [
                      {
                        "colorbar": {
                          "outlinewidth": 0,
                          "ticks": ""
                        },
                        "type": "contourcarpet"
                      }
                    ],
                    "heatmap": [
                      {
                        "colorbar": {
                          "outlinewidth": 0,
                          "ticks": ""
                        },
                        "colorscale": [
                          [
                            0,
                            "#0d0887"
                          ],
                          [
                            0.1111111111111111,
                            "#46039f"
                          ],
                          [
                            0.2222222222222222,
                            "#7201a8"
                          ],
                          [
                            0.3333333333333333,
                            "#9c179e"
                          ],
                          [
                            0.4444444444444444,
                            "#bd3786"
                          ],
                          [
                            0.5555555555555556,
                            "#d8576b"
                          ],
                          [
                            0.6666666666666666,
                            "#ed7953"
                          ],
                          [
                            0.7777777777777778,
                            "#fb9f3a"
                          ],
                          [
                            0.8888888888888888,
                            "#fdca26"
                          ],
                          [
                            1,
                            "#f0f921"
                          ]
                        ],
                        "type": "heatmap"
                      }
                    ],
                    "heatmapgl": [
                      {
                        "colorbar": {
                          "outlinewidth": 0,
                          "ticks": ""
                        },
                        "colorscale": [
                          [
                            0,
                            "#0d0887"
                          ],
                          [
                            0.1111111111111111,
                            "#46039f"
                          ],
                          [
                            0.2222222222222222,
                            "#7201a8"
                          ],
                          [
                            0.3333333333333333,
                            "#9c179e"
                          ],
                          [
                            0.4444444444444444,
                            "#bd3786"
                          ],
                          [
                            0.5555555555555556,
                            "#d8576b"
                          ],
                          [
                            0.6666666666666666,
                            "#ed7953"
                          ],
                          [
                            0.7777777777777778,
                            "#fb9f3a"
                          ],
                          [
                            0.8888888888888888,
                            "#fdca26"
                          ],
                          [
                            1,
                            "#f0f921"
                          ]
                        ],
                        "type": "heatmapgl"
                      }
                    ],
                    "histogram": [
                      {
                        "marker": {
                          "pattern": {
                            "fillmode": "overlay",
                            "size": 10,
                            "solidity": 0.2
                          }
                        },
                        "type": "histogram"
                      }
                    ],
                    "histogram2d": [
                      {
                        "colorbar": {
                          "outlinewidth": 0,
                          "ticks": ""
                        },
                        "colorscale": [
                          [
                            0,
                            "#0d0887"
                          ],
                          [
                            0.1111111111111111,
                            "#46039f"
                          ],
                          [
                            0.2222222222222222,
                            "#7201a8"
                          ],
                          [
                            0.3333333333333333,
                            "#9c179e"
                          ],
                          [
                            0.4444444444444444,
                            "#bd3786"
                          ],
                          [
                            0.5555555555555556,
                            "#d8576b"
                          ],
                          [
                            0.6666666666666666,
                            "#ed7953"
                          ],
                          [
                            0.7777777777777778,
                            "#fb9f3a"
                          ],
                          [
                            0.8888888888888888,
                            "#fdca26"
                          ],
                          [
                            1,
                            "#f0f921"
                          ]
                        ],
                        "type": "histogram2d"
                      }
                    ],
                    "histogram2dcontour": [
                      {
                        "colorbar": {
                          "outlinewidth": 0,
                          "ticks": ""
                        },
                        "colorscale": [
                          [
                            0,
                            "#0d0887"
                          ],
                          [
                            0.1111111111111111,
                            "#46039f"
                          ],
                          [
                            0.2222222222222222,
                            "#7201a8"
                          ],
                          [
                            0.3333333333333333,
                            "#9c179e"
                          ],
                          [
                            0.4444444444444444,
                            "#bd3786"
                          ],
                          [
                            0.5555555555555556,
                            "#d8576b"
                          ],
                          [
                            0.6666666666666666,
                            "#ed7953"
                          ],
                          [
                            0.7777777777777778,
                            "#fb9f3a"
                          ],
                          [
                            0.8888888888888888,
                            "#fdca26"
                          ],
                          [
                            1,
                            "#f0f921"
                          ]
                        ],
                        "type": "histogram2dcontour"
                      }
                    ],
                    "mesh3d": [
                      {
                        "colorbar": {
                          "outlinewidth": 0,
                          "ticks": ""
                        },
                        "type": "mesh3d"
                      }
                    ],
                    "parcoords": [
                      {
                        "line": {
                          "colorbar": {
                            "outlinewidth": 0,
                            "ticks": ""
                          }
                        },
                        "type": "parcoords"
                      }
                    ],
                    "pie": [
                      {
                        "automargin": true,
                        "type": "pie"
                      }
                    ],
                    "scatter": [
                      {
                        "fillpattern": {
                          "fillmode": "overlay",
                          "size": 10,
                          "solidity": 0.2
                        },
                        "type": "scatter"
                      }
                    ],
                    "scatter3d": [
                      {
                        "line": {
                          "colorbar": {
                            "outlinewidth": 0,
                            "ticks": ""
                          }
                        },
                        "marker": {
                          "colorbar": {
                            "outlinewidth": 0,
                            "ticks": ""
                          }
                        },
                        "type": "scatter3d"
                      }
                    ],
                    "scattercarpet": [
                      {
                        "marker": {
                          "colorbar": {
                            "outlinewidth": 0,
                            "ticks": ""
                          }
                        },
                        "type": "scattercarpet"
                      }
                    ],
                    "scattergeo": [
                      {
                        "marker": {
                          "colorbar": {
                            "outlinewidth": 0,
                            "ticks": ""
                          }
                        },
                        "type": "scattergeo"
                      }
                    ],
                    "scattergl": [
                      {
                        "marker": {
                          "colorbar": {
                            "outlinewidth": 0,
                            "ticks": ""
                          }
                        },
                        "type": "scattergl"
                      }
                    ],
                    "scattermapbox": [
                      {
                        "marker": {
                          "colorbar": {
                            "outlinewidth": 0,
                            "ticks": ""
                          }
                        },
                        "type": "scattermapbox"
                      }
                    ],
                    "scatterpolar": [
                      {
                        "marker": {
                          "colorbar": {
                            "outlinewidth": 0,
                            "ticks": ""
                          }
                        },
                        "type": "scatterpolar"
                      }
                    ],
                    "scatterpolargl": [
                      {
                        "marker": {
                          "colorbar": {
                            "outlinewidth": 0,
                            "ticks": ""
                          }
                        },
                        "type": "scatterpolargl"
                      }
                    ],
                    "scatterternary": [
                      {
                        "marker": {
                          "colorbar": {
                            "outlinewidth": 0,
                            "ticks": ""
                          }
                        },
                        "type": "scatterternary"
                      }
                    ],
                    "surface": [
                      {
                        "colorbar": {
                          "outlinewidth": 0,
                          "ticks": ""
                        },
                        "colorscale": [
                          [
                            0,
                            "#0d0887"
                          ],
                          [
                            0.1111111111111111,
                            "#46039f"
                          ],
                          [
                            0.2222222222222222,
                            "#7201a8"
                          ],
                          [
                            0.3333333333333333,
                            "#9c179e"
                          ],
                          [
                            0.4444444444444444,
                            "#bd3786"
                          ],
                          [
                            0.5555555555555556,
                            "#d8576b"
                          ],
                          [
                            0.6666666666666666,
                            "#ed7953"
                          ],
                          [
                            0.7777777777777778,
                            "#fb9f3a"
                          ],
                          [
                            0.8888888888888888,
                            "#fdca26"
                          ],
                          [
                            1,
                            "#f0f921"
                          ]
                        ],
                        "type": "surface"
                      }
                    ],
                    "table": [
                      {
                        "cells": {
                          "fill": {
                            "color": "#EBF0F8"
                          },
                          "line": {
                            "color": "white"
                          }
                        },
                        "header": {
                          "fill": {
                            "color": "#C8D4E3"
                          },
                          "line": {
                            "color": "white"
                          }
                        },
                        "type": "table"
                      }
                    ]
                  },
                  "layout": {
                    "annotationdefaults": {
                      "arrowcolor": "#2a3f5f",
                      "arrowhead": 0,
                      "arrowwidth": 1
                    },
                    "autotypenumbers": "strict",
                    "coloraxis": {
                      "colorbar": {
                        "outlinewidth": 0,
                        "ticks": ""
                      }
                    },
                    "colorscale": {
                      "diverging": [
                        [
                          0,
                          "#8e0152"
                        ],
                        [
                          0.1,
                          "#c51b7d"
                        ],
                        [
                          0.2,
                          "#de77ae"
                        ],
                        [
                          0.3,
                          "#f1b6da"
                        ],
                        [
                          0.4,
                          "#fde0ef"
                        ],
                        [
                          0.5,
                          "#f7f7f7"
                        ],
                        [
                          0.6,
                          "#e6f5d0"
                        ],
                        [
                          0.7,
                          "#b8e186"
                        ],
                        [
                          0.8,
                          "#7fbc41"
                        ],
                        [
                          0.9,
                          "#4d9221"
                        ],
                        [
                          1,
                          "#276419"
                        ]
                      ],
                      "sequential": [
                        [
                          0,
                          "#0d0887"
                        ],
                        [
                          0.1111111111111111,
                          "#46039f"
                        ],
                        [
                          0.2222222222222222,
                          "#7201a8"
                        ],
                        [
                          0.3333333333333333,
                          "#9c179e"
                        ],
                        [
                          0.4444444444444444,
                          "#bd3786"
                        ],
                        [
                          0.5555555555555556,
                          "#d8576b"
                        ],
                        [
                          0.6666666666666666,
                          "#ed7953"
                        ],
                        [
                          0.7777777777777778,
                          "#fb9f3a"
                        ],
                        [
                          0.8888888888888888,
                          "#fdca26"
                        ],
                        [
                          1,
                          "#f0f921"
                        ]
                      ],
                      "sequentialminus": [
                        [
                          0,
                          "#0d0887"
                        ],
                        [
                          0.1111111111111111,
                          "#46039f"
                        ],
                        [
                          0.2222222222222222,
                          "#7201a8"
                        ],
                        [
                          0.3333333333333333,
                          "#9c179e"
                        ],
                        [
                          0.4444444444444444,
                          "#bd3786"
                        ],
                        [
                          0.5555555555555556,
                          "#d8576b"
                        ],
                        [
                          0.6666666666666666,
                          "#ed7953"
                        ],
                        [
                          0.7777777777777778,
                          "#fb9f3a"
                        ],
                        [
                          0.8888888888888888,
                          "#fdca26"
                        ],
                        [
                          1,
                          "#f0f921"
                        ]
                      ]
                    },
                    "colorway": [
                      "#636efa",
                      "#EF553B",
                      "#00cc96",
                      "#ab63fa",
                      "#FFA15A",
                      "#19d3f3",
                      "#FF6692",
                      "#B6E880",
                      "#FF97FF",
                      "#FECB52"
                    ],
                    "font": {
                      "color": "#2a3f5f"
                    },
                    "geo": {
                      "bgcolor": "white",
                      "lakecolor": "white",
                      "landcolor": "#E5ECF6",
                      "showlakes": true,
                      "showland": true,
                      "subunitcolor": "white"
                    },
                    "hoverlabel": {
                      "align": "left"
                    },
                    "hovermode": "closest",
                    "mapbox": {
                      "style": "light"
                    },
                    "paper_bgcolor": "white",
                    "plot_bgcolor": "#E5ECF6",
                    "polar": {
                      "angularaxis": {
                        "gridcolor": "white",
                        "linecolor": "white",
                        "ticks": ""
                      },
                      "bgcolor": "#E5ECF6",
                      "radialaxis": {
                        "gridcolor": "white",
                        "linecolor": "white",
                        "ticks": ""
                      }
                    },
                    "scene": {
                      "xaxis": {
                        "backgroundcolor": "#E5ECF6",
                        "gridcolor": "white",
                        "gridwidth": 2,
                        "linecolor": "white",
                        "showbackground": true,
                        "ticks": "",
                        "zerolinecolor": "white"
                      },
                      "yaxis": {
                        "backgroundcolor": "#E5ECF6",
                        "gridcolor": "white",
                        "gridwidth": 2,
                        "linecolor": "white",
                        "showbackground": true,
                        "ticks": "",
                        "zerolinecolor": "white"
                      },
                      "zaxis": {
                        "backgroundcolor": "#E5ECF6",
                        "gridcolor": "white",
                        "gridwidth": 2,
                        "linecolor": "white",
                        "showbackground": true,
                        "ticks": "",
                        "zerolinecolor": "white"
                      }
                    },
                    "shapedefaults": {
                      "line": {
                        "color": "#2a3f5f"
                      }
                    },
                    "ternary": {
                      "aaxis": {
                        "gridcolor": "white",
                        "linecolor": "white",
                        "ticks": ""
                      },
                      "baxis": {
                        "gridcolor": "white",
                        "linecolor": "white",
                        "ticks": ""
                      },
                      "bgcolor": "#E5ECF6",
                      "caxis": {
                        "gridcolor": "white",
                        "linecolor": "white",
                        "ticks": ""
                      }
                    },
                    "title": {
                      "x": 0.05
                    },
                    "xaxis": {
                      "automargin": true,
                      "gridcolor": "white",
                      "linecolor": "white",
                      "ticks": "",
                      "title": {
                        "standoff": 15
                      },
                      "zerolinecolor": "white",
                      "zerolinewidth": 2
                    },
                    "yaxis": {
                      "automargin": true,
                      "gridcolor": "white",
                      "linecolor": "white",
                      "ticks": "",
                      "title": {
                        "standoff": 15
                      },
                      "zerolinecolor": "white",
                      "zerolinewidth": 2
                    }
                  }
                },
                "title": {
                  "text": "Distribution of streams"
                },
                "xaxis": {
                  "title": {
                    "text": "Variable"
                  }
                },
                "yaxis": {
                  "title": {
                    "text": "Streams"
                  }
                }
              }
            }
          },
          "metadata": {},
          "output_type": "display_data"
        }
      ],
      "source": [
        "\n",
        "reproduction_distribution_trace = go.Box(\n",
        "        y=spotify[\"streams\"], \n",
        "    )\n",
        "reproduction_distribution = go.Figure(\n",
        "    reproduction_distribution_trace\n",
        "    \n",
        ")\n",
        "reproduction_distribution.update_layout(title=\"Distribution of streams\", xaxis_title=\"Variable\", yaxis_title=\"Streams\")\n",
        "reproduction_distribution.show()"
      ]
    },
    {
      "cell_type": "markdown",
      "metadata": {},
      "source": [
        "d) ¿Existe una diferencia signitificativa en las reproducciones entre las canciones de un solo artista y las de más de uno? **(0.5 puntos)**"
      ]
    },
    {
      "cell_type": "code",
      "execution_count": null,
      "metadata": {},
      "outputs": [
        {
          "data": {
            "application/vnd.plotly.v1+json": {
              "config": {
                "plotlyServerURL": "https://plot.ly"
              },
              "data": [
                {
                  "name": "One song",
                  "type": "histogram",
                  "x": [
                    133716286,
                    140003974,
                    800840817,
                    303236322,
                    58149378,
                    95217315,
                    58255150,
                    1163093654,
                    496795686,
                    363369738,
                    52135248,
                    78300654,
                    429829812,
                    127408954,
                    22581161,
                    999748277,
                    1355959075,
                    786181836,
                    176553476,
                    570515054,
                    1647990401,
                    153372011,
                    57876440,
                    256483385,
                    1214083358,
                    404562836,
                    373199958,
                    14780425,
                    39578178,
                    751134527,
                    635412045,
                    43857627,
                    39228929,
                    157058870,
                    95131998,
                    685032533,
                    38411956,
                    127567540,
                    399686758,
                    118482347,
                    882831184,
                    172825906,
                    29562220,
                    77309611,
                    1116995633,
                    838079900,
                    179659294,
                    36912123,
                    1791000570,
                    201660859,
                    607123776,
                    342897938,
                    601863821,
                    96273746,
                    430977451,
                    284819874,
                    681583126,
                    411747614,
                    255932395,
                    31873544,
                    1481349984,
                    621660989,
                    950906471,
                    1593270737,
                    1410088830,
                    1374581173,
                    143573775,
                    684675814,
                    265882712,
                    841749534,
                    47956378,
                    806397070,
                    350381515,
                    1264310836,
                    30343206,
                    405136812,
                    540654286,
                    397582059,
                    123124076,
                    65496046,
                    68616963,
                    232896922,
                    195576623,
                    345031710,
                    335074782,
                    76767396,
                    459276435,
                    822633917,
                    595900742,
                    175097833,
                    488386797,
                    1047480053,
                    153454328,
                    217672943,
                    457184829,
                    726434358,
                    1406111294,
                    145458418,
                    415932686,
                    988515741,
                    39893489,
                    118810253,
                    117747907,
                    293186992,
                    139681964,
                    123132751,
                    103762518,
                    91221625,
                    190490915,
                    185240616,
                    885093467,
                    137123880,
                    782369383,
                    502574952,
                    381161027,
                    466231982,
                    357580552,
                    1449799467,
                    173627354,
                    117206995,
                    52722996,
                    191945597,
                    743693613,
                    267789608,
                    449701773,
                    67070410,
                    165584767,
                    367814306,
                    156214700,
                    448843705,
                    972164968,
                    920045682,
                    244658767,
                    68216992,
                    148469433,
                    88791109,
                    125917280,
                    95623148,
                    144584800,
                    298063749,
                    166570053,
                    83021468,
                    303216294,
                    81419389,
                    156777415,
                    284908316,
                    363472647,
                    372476382,
                    56533272,
                    175399345,
                    203221468,
                    134294498,
                    70069745,
                    671365962,
                    1022258230,
                    147538971,
                    698086140,
                    723894473,
                    403097450,
                    319566866,
                    909001996,
                    124988687,
                    134255790,
                    301051721,
                    156338624,
                    309653982,
                    297328960,
                    332506354,
                    480507035,
                    122763672,
                    338564981,
                    1301799902,
                    107642809,
                    646886885,
                    872137015,
                    571386359,
                    284785823,
                    163284000,
                    246390068,
                    482257456,
                    168684524,
                    1260594497,
                    428685680,
                    1024858327,
                    838586769,
                    199386237,
                    210038833,
                    227918678,
                    826623384,
                    181831132,
                    348647203,
                    807561936,
                    663832097,
                    446390129,
                    485285717,
                    520034544,
                    476244795,
                    629173063,
                    404664135,
                    98709329,
                    110849052,
                    389771964,
                    403939487,
                    351636786,
                    73981293,
                    429504768,
                    242767149,
                    65362788,
                    67540165,
                    62019074,
                    135611421,
                    356709897,
                    301869854,
                    127027715,
                    57144458,
                    56870689,
                    317726339,
                    328207708,
                    49262961,
                    245350949,
                    178660459,
                    51641685,
                    391251368,
                    119238316,
                    116903579,
                    888046992,
                    130655803,
                    101114984,
                    53933526,
                    267758538,
                    74601456,
                    920797189,
                    1367810478,
                    63803529,
                    466214729,
                    41924466,
                    225259194,
                    287201015,
                    599770206,
                    342779426,
                    1168642797,
                    510876816,
                    108809090,
                    1143647827,
                    1256880657,
                    245095641,
                    31959571,
                    824420218,
                    363467642,
                    1127468248,
                    247737946,
                    124407432,
                    850608354,
                    376333030,
                    516784627,
                    1608045237,
                    506778838,
                    513643924,
                    783706581,
                    1062345656,
                    851070493,
                    345903614,
                    156658366,
                    624515457,
                    777765388,
                    1138474110,
                    290228626,
                    1062956628,
                    1180094974,
                    432702334,
                    465959382,
                    2288695111,
                    71014967,
                    77337771,
                    865640097,
                    211372494,
                    608334048,
                    797402345,
                    246376690,
                    496311364,
                    500340342,
                    822239726,
                    343197054,
                    240769997,
                    421135627,
                    554875730,
                    185408548,
                    231996128,
                    498960285,
                    258714692,
                    50746620,
                    154119539,
                    181328253,
                    370068639,
                    563902868,
                    317622165,
                    203680270,
                    282883169,
                    1439191367,
                    682475162,
                    546191065,
                    229473310,
                    202677468,
                    527033089,
                    394030335,
                    193443895,
                    299648208,
                    319757142,
                    346127840,
                    312622938,
                    1200808494,
                    797196073,
                    665765558,
                    263779030,
                    339473453,
                    135444283,
                    694525298,
                    421365166,
                    255120451,
                    190981339,
                    924193303,
                    305771063,
                    89566512,
                    677389855,
                    408843328,
                    101780047,
                    146363130,
                    126443991,
                    157990698,
                    1023187129,
                    139193812,
                    212234990,
                    807015863,
                    499710590,
                    53909146,
                    301242089,
                    723894473,
                    461558540,
                    156898322,
                    173702135,
                    305650299,
                    126191104,
                    338422004,
                    403231558,
                    61739839,
                    283359161,
                    283332261,
                    279737940,
                    212351890,
                    150500965,
                    246127838,
                    582863434,
                    382199619,
                    41210087,
                    231657891,
                    53729194,
                    244741137,
                    42485571,
                    37778188,
                    254218729,
                    53603447,
                    160035717,
                    37091576,
                    136996305,
                    65719930,
                    229497852,
                    185550869,
                    54682594,
                    1284942608,
                    71423324,
                    244891912,
                    132171975,
                    184706613,
                    184826429,
                    302006641,
                    330881149,
                    334733572,
                    366214458,
                    114546317,
                    448500832,
                    79095270,
                    273194684,
                    195918494,
                    233671263,
                    199587884,
                    91781263,
                    236060709,
                    189236868,
                    588955257,
                    238350348,
                    187703102,
                    445590495,
                    1122364376,
                    157136970,
                    183273246,
                    164856284,
                    704171068,
                    354614964,
                    195628667,
                    221752937,
                    263280370,
                    213505179,
                    155795783,
                    293466523,
                    191448892,
                    131746175,
                    244790012,
                    331511413,
                    179061440,
                    185236961,
                    171788484,
                    387080183,
                    264717480,
                    244928911,
                    97610446,
                    239411309,
                    703301727,
                    189476119,
                    277132266,
                    278920007,
                    222410722,
                    185392587,
                    202452860,
                    624101957,
                    148461629,
                    380319238,
                    53987404,
                    115331792,
                    225093344,
                    170709584,
                    154356956,
                    723043854,
                    247689123,
                    176474912,
                    235549288,
                    85559365,
                    253650850,
                    223064273,
                    218320587,
                    177503916,
                    203436468,
                    93367537,
                    181382590,
                    91473363,
                    121871870,
                    96007391
                  ]
                },
                {
                  "name": "Multiple songs",
                  "type": "histogram",
                  "x": [
                    133716286,
                    140003974,
                    800840817,
                    303236322,
                    58149378,
                    95217315,
                    58255150,
                    1163093654,
                    496795686,
                    363369738,
                    52135248,
                    78300654,
                    429829812,
                    127408954,
                    22581161,
                    999748277,
                    1355959075,
                    786181836,
                    176553476,
                    570515054,
                    1647990401,
                    153372011,
                    57876440,
                    256483385,
                    1214083358,
                    404562836,
                    373199958,
                    14780425,
                    39578178,
                    751134527,
                    635412045,
                    43857627,
                    39228929,
                    157058870,
                    95131998,
                    685032533,
                    38411956,
                    127567540,
                    399686758,
                    118482347,
                    882831184,
                    172825906,
                    29562220,
                    77309611,
                    1116995633,
                    838079900,
                    179659294,
                    36912123,
                    1791000570,
                    201660859,
                    607123776,
                    342897938,
                    601863821,
                    96273746,
                    430977451,
                    284819874,
                    681583126,
                    411747614,
                    255932395,
                    31873544,
                    1481349984,
                    621660989,
                    950906471,
                    1593270737,
                    1410088830,
                    1374581173,
                    143573775,
                    684675814,
                    265882712,
                    841749534,
                    47956378,
                    806397070,
                    350381515,
                    1264310836,
                    30343206,
                    405136812,
                    540654286,
                    397582059,
                    123124076,
                    65496046,
                    68616963,
                    232896922,
                    195576623,
                    345031710,
                    335074782,
                    76767396,
                    459276435,
                    822633917,
                    595900742,
                    175097833,
                    488386797,
                    1047480053,
                    153454328,
                    217672943,
                    457184829,
                    726434358,
                    1406111294,
                    145458418,
                    415932686,
                    988515741,
                    39893489,
                    118810253,
                    117747907,
                    293186992,
                    139681964,
                    123132751,
                    103762518,
                    91221625,
                    190490915,
                    185240616,
                    885093467,
                    137123880,
                    782369383,
                    502574952,
                    381161027,
                    466231982,
                    357580552,
                    1449799467,
                    173627354,
                    117206995,
                    52722996,
                    191945597,
                    743693613,
                    267789608,
                    449701773,
                    67070410,
                    165584767,
                    367814306,
                    156214700,
                    448843705,
                    972164968,
                    920045682,
                    244658767,
                    68216992,
                    148469433,
                    88791109,
                    125917280,
                    95623148,
                    144584800,
                    298063749,
                    166570053,
                    83021468,
                    303216294,
                    81419389,
                    156777415,
                    284908316,
                    363472647,
                    372476382,
                    56533272,
                    175399345,
                    203221468,
                    134294498,
                    70069745,
                    671365962,
                    1022258230,
                    147538971,
                    698086140,
                    723894473,
                    403097450,
                    319566866,
                    909001996,
                    124988687,
                    134255790,
                    301051721,
                    156338624,
                    309653982,
                    297328960,
                    332506354,
                    480507035,
                    122763672,
                    338564981,
                    1301799902,
                    107642809,
                    646886885,
                    872137015,
                    571386359,
                    284785823,
                    163284000,
                    246390068,
                    482257456,
                    168684524,
                    1260594497,
                    428685680,
                    1024858327,
                    838586769,
                    199386237,
                    210038833,
                    227918678,
                    826623384,
                    181831132,
                    348647203,
                    807561936,
                    663832097,
                    446390129,
                    485285717,
                    520034544,
                    476244795,
                    629173063,
                    404664135,
                    98709329,
                    110849052,
                    389771964,
                    403939487,
                    351636786,
                    73981293,
                    429504768,
                    242767149,
                    65362788,
                    67540165,
                    62019074,
                    135611421,
                    356709897,
                    301869854,
                    127027715,
                    57144458,
                    56870689,
                    317726339,
                    328207708,
                    49262961,
                    245350949,
                    178660459,
                    51641685,
                    391251368,
                    119238316,
                    116903579,
                    888046992,
                    130655803,
                    101114984,
                    53933526,
                    267758538,
                    74601456,
                    920797189,
                    1367810478,
                    63803529,
                    466214729,
                    41924466,
                    225259194,
                    287201015,
                    599770206,
                    342779426,
                    1168642797,
                    510876816,
                    108809090,
                    1143647827,
                    1256880657,
                    245095641,
                    31959571,
                    824420218,
                    363467642,
                    1127468248,
                    247737946,
                    124407432,
                    850608354,
                    376333030,
                    516784627,
                    1608045237,
                    506778838,
                    513643924,
                    783706581,
                    1062345656,
                    851070493,
                    345903614,
                    156658366,
                    624515457,
                    777765388,
                    1138474110,
                    290228626,
                    1062956628,
                    1180094974,
                    432702334,
                    465959382,
                    2288695111,
                    71014967,
                    77337771,
                    865640097,
                    211372494,
                    608334048,
                    797402345,
                    246376690,
                    496311364,
                    500340342,
                    822239726,
                    343197054,
                    240769997,
                    421135627,
                    554875730,
                    185408548,
                    231996128,
                    498960285,
                    258714692,
                    50746620,
                    154119539,
                    181328253,
                    370068639,
                    563902868,
                    317622165,
                    203680270,
                    282883169,
                    1439191367,
                    682475162,
                    546191065,
                    229473310,
                    202677468,
                    527033089,
                    394030335,
                    193443895,
                    299648208,
                    319757142,
                    346127840,
                    312622938,
                    1200808494,
                    797196073,
                    665765558,
                    263779030,
                    339473453,
                    135444283,
                    694525298,
                    421365166,
                    255120451,
                    190981339,
                    924193303,
                    305771063,
                    89566512,
                    677389855,
                    408843328,
                    101780047,
                    146363130,
                    126443991,
                    157990698,
                    1023187129,
                    139193812,
                    212234990,
                    807015863,
                    499710590,
                    53909146,
                    301242089,
                    723894473,
                    461558540,
                    156898322,
                    173702135,
                    305650299,
                    126191104,
                    338422004,
                    403231558,
                    61739839,
                    283359161,
                    283332261,
                    279737940,
                    212351890,
                    150500965,
                    246127838,
                    582863434,
                    382199619,
                    41210087,
                    231657891,
                    53729194,
                    244741137,
                    42485571,
                    37778188,
                    254218729,
                    53603447,
                    160035717,
                    37091576,
                    136996305,
                    65719930,
                    229497852,
                    185550869,
                    54682594,
                    1284942608,
                    71423324,
                    244891912,
                    132171975,
                    184706613,
                    184826429,
                    302006641,
                    330881149,
                    334733572,
                    366214458,
                    114546317,
                    448500832,
                    79095270,
                    273194684,
                    195918494,
                    233671263,
                    199587884,
                    91781263,
                    236060709,
                    189236868,
                    588955257,
                    238350348,
                    187703102,
                    445590495,
                    1122364376,
                    157136970,
                    183273246,
                    164856284,
                    704171068,
                    354614964,
                    195628667,
                    221752937,
                    263280370,
                    213505179,
                    155795783,
                    293466523,
                    191448892,
                    131746175,
                    244790012,
                    331511413,
                    179061440,
                    185236961,
                    171788484,
                    387080183,
                    264717480,
                    244928911,
                    97610446,
                    239411309,
                    703301727,
                    189476119,
                    277132266,
                    278920007,
                    222410722,
                    185392587,
                    202452860,
                    624101957,
                    148461629,
                    380319238,
                    53987404,
                    115331792,
                    225093344,
                    170709584,
                    154356956,
                    723043854,
                    247689123,
                    176474912,
                    235549288,
                    85559365,
                    253650850,
                    223064273,
                    218320587,
                    177503916,
                    203436468,
                    93367537,
                    181382590,
                    91473363,
                    121871870,
                    96007391
                  ]
                }
              ],
              "layout": {
                "barmode": "stack",
                "template": {
                  "data": {
                    "bar": [
                      {
                        "error_x": {
                          "color": "#2a3f5f"
                        },
                        "error_y": {
                          "color": "#2a3f5f"
                        },
                        "marker": {
                          "line": {
                            "color": "#E5ECF6",
                            "width": 0.5
                          },
                          "pattern": {
                            "fillmode": "overlay",
                            "size": 10,
                            "solidity": 0.2
                          }
                        },
                        "type": "bar"
                      }
                    ],
                    "barpolar": [
                      {
                        "marker": {
                          "line": {
                            "color": "#E5ECF6",
                            "width": 0.5
                          },
                          "pattern": {
                            "fillmode": "overlay",
                            "size": 10,
                            "solidity": 0.2
                          }
                        },
                        "type": "barpolar"
                      }
                    ],
                    "carpet": [
                      {
                        "aaxis": {
                          "endlinecolor": "#2a3f5f",
                          "gridcolor": "white",
                          "linecolor": "white",
                          "minorgridcolor": "white",
                          "startlinecolor": "#2a3f5f"
                        },
                        "baxis": {
                          "endlinecolor": "#2a3f5f",
                          "gridcolor": "white",
                          "linecolor": "white",
                          "minorgridcolor": "white",
                          "startlinecolor": "#2a3f5f"
                        },
                        "type": "carpet"
                      }
                    ],
                    "choropleth": [
                      {
                        "colorbar": {
                          "outlinewidth": 0,
                          "ticks": ""
                        },
                        "type": "choropleth"
                      }
                    ],
                    "contour": [
                      {
                        "colorbar": {
                          "outlinewidth": 0,
                          "ticks": ""
                        },
                        "colorscale": [
                          [
                            0,
                            "#0d0887"
                          ],
                          [
                            0.1111111111111111,
                            "#46039f"
                          ],
                          [
                            0.2222222222222222,
                            "#7201a8"
                          ],
                          [
                            0.3333333333333333,
                            "#9c179e"
                          ],
                          [
                            0.4444444444444444,
                            "#bd3786"
                          ],
                          [
                            0.5555555555555556,
                            "#d8576b"
                          ],
                          [
                            0.6666666666666666,
                            "#ed7953"
                          ],
                          [
                            0.7777777777777778,
                            "#fb9f3a"
                          ],
                          [
                            0.8888888888888888,
                            "#fdca26"
                          ],
                          [
                            1,
                            "#f0f921"
                          ]
                        ],
                        "type": "contour"
                      }
                    ],
                    "contourcarpet": [
                      {
                        "colorbar": {
                          "outlinewidth": 0,
                          "ticks": ""
                        },
                        "type": "contourcarpet"
                      }
                    ],
                    "heatmap": [
                      {
                        "colorbar": {
                          "outlinewidth": 0,
                          "ticks": ""
                        },
                        "colorscale": [
                          [
                            0,
                            "#0d0887"
                          ],
                          [
                            0.1111111111111111,
                            "#46039f"
                          ],
                          [
                            0.2222222222222222,
                            "#7201a8"
                          ],
                          [
                            0.3333333333333333,
                            "#9c179e"
                          ],
                          [
                            0.4444444444444444,
                            "#bd3786"
                          ],
                          [
                            0.5555555555555556,
                            "#d8576b"
                          ],
                          [
                            0.6666666666666666,
                            "#ed7953"
                          ],
                          [
                            0.7777777777777778,
                            "#fb9f3a"
                          ],
                          [
                            0.8888888888888888,
                            "#fdca26"
                          ],
                          [
                            1,
                            "#f0f921"
                          ]
                        ],
                        "type": "heatmap"
                      }
                    ],
                    "heatmapgl": [
                      {
                        "colorbar": {
                          "outlinewidth": 0,
                          "ticks": ""
                        },
                        "colorscale": [
                          [
                            0,
                            "#0d0887"
                          ],
                          [
                            0.1111111111111111,
                            "#46039f"
                          ],
                          [
                            0.2222222222222222,
                            "#7201a8"
                          ],
                          [
                            0.3333333333333333,
                            "#9c179e"
                          ],
                          [
                            0.4444444444444444,
                            "#bd3786"
                          ],
                          [
                            0.5555555555555556,
                            "#d8576b"
                          ],
                          [
                            0.6666666666666666,
                            "#ed7953"
                          ],
                          [
                            0.7777777777777778,
                            "#fb9f3a"
                          ],
                          [
                            0.8888888888888888,
                            "#fdca26"
                          ],
                          [
                            1,
                            "#f0f921"
                          ]
                        ],
                        "type": "heatmapgl"
                      }
                    ],
                    "histogram": [
                      {
                        "marker": {
                          "pattern": {
                            "fillmode": "overlay",
                            "size": 10,
                            "solidity": 0.2
                          }
                        },
                        "type": "histogram"
                      }
                    ],
                    "histogram2d": [
                      {
                        "colorbar": {
                          "outlinewidth": 0,
                          "ticks": ""
                        },
                        "colorscale": [
                          [
                            0,
                            "#0d0887"
                          ],
                          [
                            0.1111111111111111,
                            "#46039f"
                          ],
                          [
                            0.2222222222222222,
                            "#7201a8"
                          ],
                          [
                            0.3333333333333333,
                            "#9c179e"
                          ],
                          [
                            0.4444444444444444,
                            "#bd3786"
                          ],
                          [
                            0.5555555555555556,
                            "#d8576b"
                          ],
                          [
                            0.6666666666666666,
                            "#ed7953"
                          ],
                          [
                            0.7777777777777778,
                            "#fb9f3a"
                          ],
                          [
                            0.8888888888888888,
                            "#fdca26"
                          ],
                          [
                            1,
                            "#f0f921"
                          ]
                        ],
                        "type": "histogram2d"
                      }
                    ],
                    "histogram2dcontour": [
                      {
                        "colorbar": {
                          "outlinewidth": 0,
                          "ticks": ""
                        },
                        "colorscale": [
                          [
                            0,
                            "#0d0887"
                          ],
                          [
                            0.1111111111111111,
                            "#46039f"
                          ],
                          [
                            0.2222222222222222,
                            "#7201a8"
                          ],
                          [
                            0.3333333333333333,
                            "#9c179e"
                          ],
                          [
                            0.4444444444444444,
                            "#bd3786"
                          ],
                          [
                            0.5555555555555556,
                            "#d8576b"
                          ],
                          [
                            0.6666666666666666,
                            "#ed7953"
                          ],
                          [
                            0.7777777777777778,
                            "#fb9f3a"
                          ],
                          [
                            0.8888888888888888,
                            "#fdca26"
                          ],
                          [
                            1,
                            "#f0f921"
                          ]
                        ],
                        "type": "histogram2dcontour"
                      }
                    ],
                    "mesh3d": [
                      {
                        "colorbar": {
                          "outlinewidth": 0,
                          "ticks": ""
                        },
                        "type": "mesh3d"
                      }
                    ],
                    "parcoords": [
                      {
                        "line": {
                          "colorbar": {
                            "outlinewidth": 0,
                            "ticks": ""
                          }
                        },
                        "type": "parcoords"
                      }
                    ],
                    "pie": [
                      {
                        "automargin": true,
                        "type": "pie"
                      }
                    ],
                    "scatter": [
                      {
                        "fillpattern": {
                          "fillmode": "overlay",
                          "size": 10,
                          "solidity": 0.2
                        },
                        "type": "scatter"
                      }
                    ],
                    "scatter3d": [
                      {
                        "line": {
                          "colorbar": {
                            "outlinewidth": 0,
                            "ticks": ""
                          }
                        },
                        "marker": {
                          "colorbar": {
                            "outlinewidth": 0,
                            "ticks": ""
                          }
                        },
                        "type": "scatter3d"
                      }
                    ],
                    "scattercarpet": [
                      {
                        "marker": {
                          "colorbar": {
                            "outlinewidth": 0,
                            "ticks": ""
                          }
                        },
                        "type": "scattercarpet"
                      }
                    ],
                    "scattergeo": [
                      {
                        "marker": {
                          "colorbar": {
                            "outlinewidth": 0,
                            "ticks": ""
                          }
                        },
                        "type": "scattergeo"
                      }
                    ],
                    "scattergl": [
                      {
                        "marker": {
                          "colorbar": {
                            "outlinewidth": 0,
                            "ticks": ""
                          }
                        },
                        "type": "scattergl"
                      }
                    ],
                    "scattermapbox": [
                      {
                        "marker": {
                          "colorbar": {
                            "outlinewidth": 0,
                            "ticks": ""
                          }
                        },
                        "type": "scattermapbox"
                      }
                    ],
                    "scatterpolar": [
                      {
                        "marker": {
                          "colorbar": {
                            "outlinewidth": 0,
                            "ticks": ""
                          }
                        },
                        "type": "scatterpolar"
                      }
                    ],
                    "scatterpolargl": [
                      {
                        "marker": {
                          "colorbar": {
                            "outlinewidth": 0,
                            "ticks": ""
                          }
                        },
                        "type": "scatterpolargl"
                      }
                    ],
                    "scatterternary": [
                      {
                        "marker": {
                          "colorbar": {
                            "outlinewidth": 0,
                            "ticks": ""
                          }
                        },
                        "type": "scatterternary"
                      }
                    ],
                    "surface": [
                      {
                        "colorbar": {
                          "outlinewidth": 0,
                          "ticks": ""
                        },
                        "colorscale": [
                          [
                            0,
                            "#0d0887"
                          ],
                          [
                            0.1111111111111111,
                            "#46039f"
                          ],
                          [
                            0.2222222222222222,
                            "#7201a8"
                          ],
                          [
                            0.3333333333333333,
                            "#9c179e"
                          ],
                          [
                            0.4444444444444444,
                            "#bd3786"
                          ],
                          [
                            0.5555555555555556,
                            "#d8576b"
                          ],
                          [
                            0.6666666666666666,
                            "#ed7953"
                          ],
                          [
                            0.7777777777777778,
                            "#fb9f3a"
                          ],
                          [
                            0.8888888888888888,
                            "#fdca26"
                          ],
                          [
                            1,
                            "#f0f921"
                          ]
                        ],
                        "type": "surface"
                      }
                    ],
                    "table": [
                      {
                        "cells": {
                          "fill": {
                            "color": "#EBF0F8"
                          },
                          "line": {
                            "color": "white"
                          }
                        },
                        "header": {
                          "fill": {
                            "color": "#C8D4E3"
                          },
                          "line": {
                            "color": "white"
                          }
                        },
                        "type": "table"
                      }
                    ]
                  },
                  "layout": {
                    "annotationdefaults": {
                      "arrowcolor": "#2a3f5f",
                      "arrowhead": 0,
                      "arrowwidth": 1
                    },
                    "autotypenumbers": "strict",
                    "coloraxis": {
                      "colorbar": {
                        "outlinewidth": 0,
                        "ticks": ""
                      }
                    },
                    "colorscale": {
                      "diverging": [
                        [
                          0,
                          "#8e0152"
                        ],
                        [
                          0.1,
                          "#c51b7d"
                        ],
                        [
                          0.2,
                          "#de77ae"
                        ],
                        [
                          0.3,
                          "#f1b6da"
                        ],
                        [
                          0.4,
                          "#fde0ef"
                        ],
                        [
                          0.5,
                          "#f7f7f7"
                        ],
                        [
                          0.6,
                          "#e6f5d0"
                        ],
                        [
                          0.7,
                          "#b8e186"
                        ],
                        [
                          0.8,
                          "#7fbc41"
                        ],
                        [
                          0.9,
                          "#4d9221"
                        ],
                        [
                          1,
                          "#276419"
                        ]
                      ],
                      "sequential": [
                        [
                          0,
                          "#0d0887"
                        ],
                        [
                          0.1111111111111111,
                          "#46039f"
                        ],
                        [
                          0.2222222222222222,
                          "#7201a8"
                        ],
                        [
                          0.3333333333333333,
                          "#9c179e"
                        ],
                        [
                          0.4444444444444444,
                          "#bd3786"
                        ],
                        [
                          0.5555555555555556,
                          "#d8576b"
                        ],
                        [
                          0.6666666666666666,
                          "#ed7953"
                        ],
                        [
                          0.7777777777777778,
                          "#fb9f3a"
                        ],
                        [
                          0.8888888888888888,
                          "#fdca26"
                        ],
                        [
                          1,
                          "#f0f921"
                        ]
                      ],
                      "sequentialminus": [
                        [
                          0,
                          "#0d0887"
                        ],
                        [
                          0.1111111111111111,
                          "#46039f"
                        ],
                        [
                          0.2222222222222222,
                          "#7201a8"
                        ],
                        [
                          0.3333333333333333,
                          "#9c179e"
                        ],
                        [
                          0.4444444444444444,
                          "#bd3786"
                        ],
                        [
                          0.5555555555555556,
                          "#d8576b"
                        ],
                        [
                          0.6666666666666666,
                          "#ed7953"
                        ],
                        [
                          0.7777777777777778,
                          "#fb9f3a"
                        ],
                        [
                          0.8888888888888888,
                          "#fdca26"
                        ],
                        [
                          1,
                          "#f0f921"
                        ]
                      ]
                    },
                    "colorway": [
                      "#636efa",
                      "#EF553B",
                      "#00cc96",
                      "#ab63fa",
                      "#FFA15A",
                      "#19d3f3",
                      "#FF6692",
                      "#B6E880",
                      "#FF97FF",
                      "#FECB52"
                    ],
                    "font": {
                      "color": "#2a3f5f"
                    },
                    "geo": {
                      "bgcolor": "white",
                      "lakecolor": "white",
                      "landcolor": "#E5ECF6",
                      "showlakes": true,
                      "showland": true,
                      "subunitcolor": "white"
                    },
                    "hoverlabel": {
                      "align": "left"
                    },
                    "hovermode": "closest",
                    "mapbox": {
                      "style": "light"
                    },
                    "paper_bgcolor": "white",
                    "plot_bgcolor": "#E5ECF6",
                    "polar": {
                      "angularaxis": {
                        "gridcolor": "white",
                        "linecolor": "white",
                        "ticks": ""
                      },
                      "bgcolor": "#E5ECF6",
                      "radialaxis": {
                        "gridcolor": "white",
                        "linecolor": "white",
                        "ticks": ""
                      }
                    },
                    "scene": {
                      "xaxis": {
                        "backgroundcolor": "#E5ECF6",
                        "gridcolor": "white",
                        "gridwidth": 2,
                        "linecolor": "white",
                        "showbackground": true,
                        "ticks": "",
                        "zerolinecolor": "white"
                      },
                      "yaxis": {
                        "backgroundcolor": "#E5ECF6",
                        "gridcolor": "white",
                        "gridwidth": 2,
                        "linecolor": "white",
                        "showbackground": true,
                        "ticks": "",
                        "zerolinecolor": "white"
                      },
                      "zaxis": {
                        "backgroundcolor": "#E5ECF6",
                        "gridcolor": "white",
                        "gridwidth": 2,
                        "linecolor": "white",
                        "showbackground": true,
                        "ticks": "",
                        "zerolinecolor": "white"
                      }
                    },
                    "shapedefaults": {
                      "line": {
                        "color": "#2a3f5f"
                      }
                    },
                    "ternary": {
                      "aaxis": {
                        "gridcolor": "white",
                        "linecolor": "white",
                        "ticks": ""
                      },
                      "baxis": {
                        "gridcolor": "white",
                        "linecolor": "white",
                        "ticks": ""
                      },
                      "bgcolor": "#E5ECF6",
                      "caxis": {
                        "gridcolor": "white",
                        "linecolor": "white",
                        "ticks": ""
                      }
                    },
                    "title": {
                      "x": 0.05
                    },
                    "xaxis": {
                      "automargin": true,
                      "gridcolor": "white",
                      "linecolor": "white",
                      "ticks": "",
                      "title": {
                        "standoff": 15
                      },
                      "zerolinecolor": "white",
                      "zerolinewidth": 2
                    },
                    "yaxis": {
                      "automargin": true,
                      "gridcolor": "white",
                      "linecolor": "white",
                      "ticks": "",
                      "title": {
                        "standoff": 15
                      },
                      "zerolinecolor": "white",
                      "zerolinewidth": 2
                    }
                  }
                },
                "title": {
                  "text": "Distribuciones de artistas con 1 canción vs. múltiples canciones"
                },
                "xaxis": {
                  "title": {
                    "text": "Streams"
                  }
                },
                "yaxis": {
                  "title": {
                    "text": "Number of artists"
                  }
                }
              }
            }
          },
          "metadata": {},
          "output_type": "display_data"
        }
      ],
      "source": [
        "one_songs = spotify[spotify[\"artist_count\"] == 1]\n",
        "multiple_songs = spotify[spotify[\"artist_count\"] == 1]\n",
        "\n",
        "fig = go.Figure(\n",
        "    \n",
        ")\n",
        "song_count_traces = [\n",
        "    go.Histogram(\n",
        "        x=one_songs[\"streams\"],\n",
        "        name=\"One song\",\n",
        "    ),\n",
        "    go.Histogram(\n",
        "        x=multiple_songs[\"streams\"],\n",
        "        name=\"Multiple songs\",\n",
        "    ),\n",
        "]\n",
        "fig.add_traces(song_count_traces)\n",
        "fig.update_layout(title=\"Distribuciones de artistas con 1 canción vs. múltiples canciones\",barmode='stack', yaxis_title=\"Number of artists\", xaxis_title=\"Streams\")\n",
        "fig.show()"
      ]
    },
    {
      "cell_type": "markdown",
      "metadata": {},
      "source": [
        "No hay una diferencia signficativa entre ambas"
      ]
    },
    {
      "cell_type": "markdown",
      "metadata": {},
      "source": [
        "e) ¿Cuáles son las propiedades de una canción que mejor correlan con el número de reproducciones de una canción? **(0.5 puntos)**"
      ]
    },
    {
      "cell_type": "code",
      "execution_count": null,
      "metadata": {},
      "outputs": [
        {
          "data": {
            "text/html": [
              "<div>\n",
              "<style scoped>\n",
              "    .dataframe tbody tr th:only-of-type {\n",
              "        vertical-align: middle;\n",
              "    }\n",
              "\n",
              "    .dataframe tbody tr th {\n",
              "        vertical-align: top;\n",
              "    }\n",
              "\n",
              "    .dataframe thead th {\n",
              "        text-align: right;\n",
              "    }\n",
              "</style>\n",
              "<table border=\"1\" class=\"dataframe\">\n",
              "  <thead>\n",
              "    <tr style=\"text-align: right;\">\n",
              "      <th></th>\n",
              "      <th>artist_count</th>\n",
              "      <th>released_year</th>\n",
              "      <th>released_month</th>\n",
              "      <th>released_day</th>\n",
              "      <th>in_spotify_playlists</th>\n",
              "      <th>in_spotify_charts</th>\n",
              "      <th>streams</th>\n",
              "      <th>in_apple_playlists</th>\n",
              "      <th>in_apple_charts</th>\n",
              "      <th>in_deezer_playlists</th>\n",
              "      <th>in_deezer_charts</th>\n",
              "      <th>in_shazam_charts</th>\n",
              "      <th>bpm</th>\n",
              "      <th>danceability_%</th>\n",
              "      <th>valence_%</th>\n",
              "      <th>energy_%</th>\n",
              "      <th>acousticness_%</th>\n",
              "      <th>instrumentalness_%</th>\n",
              "      <th>liveness_%</th>\n",
              "      <th>speechiness_%</th>\n",
              "    </tr>\n",
              "  </thead>\n",
              "  <tbody>\n",
              "    <tr>\n",
              "      <th>artist_count</th>\n",
              "      <td>1.000000</td>\n",
              "      <td>0.049273</td>\n",
              "      <td>0.010587</td>\n",
              "      <td>-0.033933</td>\n",
              "      <td>-0.062198</td>\n",
              "      <td>-0.007252</td>\n",
              "      <td>-0.092410</td>\n",
              "      <td>-0.004405</td>\n",
              "      <td>-0.077996</td>\n",
              "      <td>-0.067636</td>\n",
              "      <td>0.016568</td>\n",
              "      <td>-0.046388</td>\n",
              "      <td>-0.066057</td>\n",
              "      <td>0.205269</td>\n",
              "      <td>0.116733</td>\n",
              "      <td>0.137345</td>\n",
              "      <td>-0.091950</td>\n",
              "      <td>-0.059186</td>\n",
              "      <td>0.027180</td>\n",
              "      <td>0.131189</td>\n",
              "    </tr>\n",
              "    <tr>\n",
              "      <th>released_year</th>\n",
              "      <td>0.049273</td>\n",
              "      <td>1.000000</td>\n",
              "      <td>0.035869</td>\n",
              "      <td>0.151509</td>\n",
              "      <td>-0.303424</td>\n",
              "      <td>0.112835</td>\n",
              "      <td>-0.134154</td>\n",
              "      <td>-0.143913</td>\n",
              "      <td>0.022576</td>\n",
              "      <td>-0.240627</td>\n",
              "      <td>0.102442</td>\n",
              "      <td>0.071573</td>\n",
              "      <td>-0.041701</td>\n",
              "      <td>0.213554</td>\n",
              "      <td>-0.056657</td>\n",
              "      <td>0.138162</td>\n",
              "      <td>-0.196328</td>\n",
              "      <td>-0.020586</td>\n",
              "      <td>-0.000795</td>\n",
              "      <td>0.127786</td>\n",
              "    </tr>\n",
              "    <tr>\n",
              "      <th>released_month</th>\n",
              "      <td>0.010587</td>\n",
              "      <td>0.035869</td>\n",
              "      <td>1.000000</td>\n",
              "      <td>-0.025010</td>\n",
              "      <td>-0.018559</td>\n",
              "      <td>-0.018390</td>\n",
              "      <td>0.048771</td>\n",
              "      <td>-0.002945</td>\n",
              "      <td>-0.005455</td>\n",
              "      <td>-0.044833</td>\n",
              "      <td>0.003624</td>\n",
              "      <td>-0.085975</td>\n",
              "      <td>-0.055908</td>\n",
              "      <td>-0.058126</td>\n",
              "      <td>-0.119543</td>\n",
              "      <td>-0.079577</td>\n",
              "      <td>0.023995</td>\n",
              "      <td>0.028779</td>\n",
              "      <td>-0.006055</td>\n",
              "      <td>0.035778</td>\n",
              "    </tr>\n",
              "    <tr>\n",
              "      <th>released_day</th>\n",
              "      <td>-0.033933</td>\n",
              "      <td>0.151509</td>\n",
              "      <td>-0.025010</td>\n",
              "      <td>1.000000</td>\n",
              "      <td>-0.036490</td>\n",
              "      <td>0.062861</td>\n",
              "      <td>0.035451</td>\n",
              "      <td>0.008841</td>\n",
              "      <td>0.012937</td>\n",
              "      <td>-0.027903</td>\n",
              "      <td>0.066624</td>\n",
              "      <td>0.058932</td>\n",
              "      <td>-0.045241</td>\n",
              "      <td>0.081645</td>\n",
              "      <td>0.075800</td>\n",
              "      <td>0.055484</td>\n",
              "      <td>-0.011116</td>\n",
              "      <td>0.007475</td>\n",
              "      <td>-0.020412</td>\n",
              "      <td>-0.015719</td>\n",
              "    </tr>\n",
              "    <tr>\n",
              "      <th>in_spotify_playlists</th>\n",
              "      <td>-0.062198</td>\n",
              "      <td>-0.303424</td>\n",
              "      <td>-0.018559</td>\n",
              "      <td>-0.036490</td>\n",
              "      <td>1.000000</td>\n",
              "      <td>0.154775</td>\n",
              "      <td>0.759829</td>\n",
              "      <td>0.707300</td>\n",
              "      <td>0.199831</td>\n",
              "      <td>0.788452</td>\n",
              "      <td>0.206760</td>\n",
              "      <td>0.086992</td>\n",
              "      <td>0.015421</td>\n",
              "      <td>-0.109064</td>\n",
              "      <td>-0.075462</td>\n",
              "      <td>-0.074269</td>\n",
              "      <td>0.031512</td>\n",
              "      <td>0.010580</td>\n",
              "      <td>-0.023879</td>\n",
              "      <td>-0.069639</td>\n",
              "    </tr>\n",
              "  </tbody>\n",
              "</table>\n",
              "</div>"
            ],
            "text/plain": [
              "                      artist_count  released_year  released_month  \\\n",
              "artist_count              1.000000       0.049273        0.010587   \n",
              "released_year             0.049273       1.000000        0.035869   \n",
              "released_month            0.010587       0.035869        1.000000   \n",
              "released_day             -0.033933       0.151509       -0.025010   \n",
              "in_spotify_playlists     -0.062198      -0.303424       -0.018559   \n",
              "\n",
              "                      released_day  in_spotify_playlists  in_spotify_charts  \\\n",
              "artist_count             -0.033933             -0.062198          -0.007252   \n",
              "released_year             0.151509             -0.303424           0.112835   \n",
              "released_month           -0.025010             -0.018559          -0.018390   \n",
              "released_day              1.000000             -0.036490           0.062861   \n",
              "in_spotify_playlists     -0.036490              1.000000           0.154775   \n",
              "\n",
              "                       streams  in_apple_playlists  in_apple_charts  \\\n",
              "artist_count         -0.092410           -0.004405        -0.077996   \n",
              "released_year        -0.134154           -0.143913         0.022576   \n",
              "released_month        0.048771           -0.002945        -0.005455   \n",
              "released_day          0.035451            0.008841         0.012937   \n",
              "in_spotify_playlists  0.759829            0.707300         0.199831   \n",
              "\n",
              "                      in_deezer_playlists  in_deezer_charts  in_shazam_charts  \\\n",
              "artist_count                    -0.067636          0.016568         -0.046388   \n",
              "released_year                   -0.240627          0.102442          0.071573   \n",
              "released_month                  -0.044833          0.003624         -0.085975   \n",
              "released_day                    -0.027903          0.066624          0.058932   \n",
              "in_spotify_playlists             0.788452          0.206760          0.086992   \n",
              "\n",
              "                           bpm  danceability_%  valence_%  energy_%  \\\n",
              "artist_count         -0.066057        0.205269   0.116733  0.137345   \n",
              "released_year        -0.041701        0.213554  -0.056657  0.138162   \n",
              "released_month       -0.055908       -0.058126  -0.119543 -0.079577   \n",
              "released_day         -0.045241        0.081645   0.075800  0.055484   \n",
              "in_spotify_playlists  0.015421       -0.109064  -0.075462 -0.074269   \n",
              "\n",
              "                      acousticness_%  instrumentalness_%  liveness_%  \\\n",
              "artist_count               -0.091950           -0.059186    0.027180   \n",
              "released_year              -0.196328           -0.020586   -0.000795   \n",
              "released_month              0.023995            0.028779   -0.006055   \n",
              "released_day               -0.011116            0.007475   -0.020412   \n",
              "in_spotify_playlists        0.031512            0.010580   -0.023879   \n",
              "\n",
              "                      speechiness_%  \n",
              "artist_count               0.131189  \n",
              "released_year              0.127786  \n",
              "released_month             0.035778  \n",
              "released_day              -0.015719  \n",
              "in_spotify_playlists      -0.069639  "
            ]
          },
          "execution_count": 182,
          "metadata": {},
          "output_type": "execute_result"
        }
      ],
      "source": [
        "spotify_numbers = spotify.select_dtypes(include='number')\n",
        "\n",
        "stream_corr = spotify_numbers[spotify_numbers.columns].corr()\n",
        "stream_corr.head()"
      ]
    },
    {
      "cell_type": "code",
      "execution_count": null,
      "metadata": {},
      "outputs": [
        {
          "data": {
            "application/vnd.plotly.v1+json": {
              "config": {
                "plotlyServerURL": "https://plot.ly"
              },
              "data": [
                {
                  "colorscale": [
                    [
                      0,
                      "rgb(103,0,31)"
                    ],
                    [
                      0.1,
                      "rgb(178,24,43)"
                    ],
                    [
                      0.2,
                      "rgb(214,96,77)"
                    ],
                    [
                      0.3,
                      "rgb(244,165,130)"
                    ],
                    [
                      0.4,
                      "rgb(253,219,199)"
                    ],
                    [
                      0.5,
                      "rgb(247,247,247)"
                    ],
                    [
                      0.6,
                      "rgb(209,229,240)"
                    ],
                    [
                      0.7,
                      "rgb(146,197,222)"
                    ],
                    [
                      0.8,
                      "rgb(67,147,195)"
                    ],
                    [
                      0.9,
                      "rgb(33,102,172)"
                    ],
                    [
                      1,
                      "rgb(5,48,97)"
                    ]
                  ],
                  "type": "heatmap",
                  "x": [
                    "artist_count",
                    "released_year",
                    "released_month",
                    "released_day",
                    "in_spotify_playlists",
                    "in_spotify_charts",
                    "streams",
                    "in_apple_playlists",
                    "in_apple_charts",
                    "in_deezer_playlists",
                    "in_deezer_charts",
                    "in_shazam_charts",
                    "bpm",
                    "danceability_%",
                    "valence_%",
                    "energy_%",
                    "acousticness_%",
                    "instrumentalness_%",
                    "liveness_%",
                    "speechiness_%"
                  ],
                  "y": [
                    "artist_count",
                    "released_year",
                    "released_month",
                    "released_day",
                    "in_spotify_playlists",
                    "in_spotify_charts",
                    "streams",
                    "in_apple_playlists",
                    "in_apple_charts",
                    "in_deezer_playlists",
                    "in_deezer_charts",
                    "in_shazam_charts",
                    "bpm",
                    "danceability_%",
                    "valence_%",
                    "energy_%",
                    "acousticness_%",
                    "instrumentalness_%",
                    "liveness_%",
                    "speechiness_%"
                  ],
                  "z": [
                    [
                      null,
                      null,
                      null,
                      null,
                      null,
                      null,
                      null,
                      null,
                      null,
                      null,
                      null,
                      null,
                      null,
                      null,
                      null,
                      null,
                      null,
                      null,
                      null,
                      null
                    ],
                    [
                      0.04927330132590414,
                      null,
                      null,
                      null,
                      null,
                      null,
                      null,
                      null,
                      null,
                      null,
                      null,
                      null,
                      null,
                      null,
                      null,
                      null,
                      null,
                      null,
                      null,
                      null
                    ],
                    [
                      0.010587457482149723,
                      0.03586897011822529,
                      null,
                      null,
                      null,
                      null,
                      null,
                      null,
                      null,
                      null,
                      null,
                      null,
                      null,
                      null,
                      null,
                      null,
                      null,
                      null,
                      null,
                      null
                    ],
                    [
                      -0.03393258734811065,
                      0.15150853952147902,
                      -0.025010094698227146,
                      null,
                      null,
                      null,
                      null,
                      null,
                      null,
                      null,
                      null,
                      null,
                      null,
                      null,
                      null,
                      null,
                      null,
                      null,
                      null,
                      null
                    ],
                    [
                      -0.06219780774954578,
                      -0.3034243886005868,
                      -0.018559241072928626,
                      -0.036490092334225344,
                      null,
                      null,
                      null,
                      null,
                      null,
                      null,
                      null,
                      null,
                      null,
                      null,
                      null,
                      null,
                      null,
                      null,
                      null,
                      null
                    ],
                    [
                      -0.007251861126875962,
                      0.11283450767508821,
                      -0.018389781723823276,
                      0.06286060290062824,
                      0.15477455469517742,
                      null,
                      null,
                      null,
                      null,
                      null,
                      null,
                      null,
                      null,
                      null,
                      null,
                      null,
                      null,
                      null,
                      null,
                      null
                    ],
                    [
                      -0.09241030972193223,
                      -0.13415398574444404,
                      0.04877051169493186,
                      0.0354508696549114,
                      0.7598291067974515,
                      0.2312271926144386,
                      null,
                      null,
                      null,
                      null,
                      null,
                      null,
                      null,
                      null,
                      null,
                      null,
                      null,
                      null,
                      null,
                      null
                    ],
                    [
                      -0.004404744126791882,
                      -0.14391280786324884,
                      -0.0029445756136009405,
                      0.008840893068736987,
                      0.7073001176991558,
                      0.2243267411586285,
                      0.6680790861339868,
                      null,
                      null,
                      null,
                      null,
                      null,
                      null,
                      null,
                      null,
                      null,
                      null,
                      null,
                      null,
                      null
                    ],
                    [
                      -0.07799550128032726,
                      0.022575905407705488,
                      -0.005455169400152868,
                      0.012936737893709424,
                      0.1998311330647551,
                      0.5771884895410746,
                      0.24112080995693724,
                      0.3227586068901916,
                      null,
                      null,
                      null,
                      null,
                      null,
                      null,
                      null,
                      null,
                      null,
                      null,
                      null,
                      null
                    ],
                    [
                      -0.0676355188265989,
                      -0.2406273512225325,
                      -0.044833483297026994,
                      -0.02790345965146843,
                      0.7884516749137768,
                      0.12054168369459194,
                      0.7131194631249653,
                      0.6681673939726611,
                      0.1943661045870029,
                      null,
                      null,
                      null,
                      null,
                      null,
                      null,
                      null,
                      null,
                      null,
                      null,
                      null
                    ],
                    [
                      0.016567600777165903,
                      0.10244153439138168,
                      0.0036241234518512282,
                      0.06662371111843347,
                      0.20676023430528834,
                      0.5687384241735521,
                      0.27271599647990563,
                      0.41517392782715784,
                      0.3675133361351976,
                      0.22560671698302026,
                      null,
                      null,
                      null,
                      null,
                      null,
                      null,
                      null,
                      null,
                      null,
                      null
                    ],
                    [
                      -0.046388239334160676,
                      0.07157343619469841,
                      -0.0859751960654631,
                      0.0589315551325305,
                      0.08699190641247644,
                      0.6086949290722791,
                      0.034056615606229884,
                      0.1857194609559955,
                      0.4595669754514973,
                      0.10541968921773259,
                      0.38805931471874755,
                      null,
                      null,
                      null,
                      null,
                      null,
                      null,
                      null,
                      null,
                      null
                    ],
                    [
                      -0.06605729382931702,
                      -0.04170113799542078,
                      -0.05590751121885043,
                      -0.04524121058580666,
                      0.015421034926179626,
                      0.02407070473844378,
                      0.0188674040858074,
                      0.035253613824552596,
                      0.04338187284786724,
                      0.03315480645055639,
                      0.02174311726608373,
                      0.08702896129433778,
                      null,
                      null,
                      null,
                      null,
                      null,
                      null,
                      null,
                      null
                    ],
                    [
                      0.20526874103597448,
                      0.21355431460544597,
                      -0.05812593286623915,
                      0.08164465473927977,
                      -0.10906362853093574,
                      0.07732142907009905,
                      -0.07976166564027487,
                      0.0011876011244758965,
                      -0.02340686403037293,
                      -0.10698364308428703,
                      0.08513958923296229,
                      -0.016690798613944742,
                      -0.14030297359583768,
                      null,
                      null,
                      null,
                      null,
                      null,
                      null,
                      null
                    ],
                    [
                      0.1167333583795344,
                      -0.05665697650607287,
                      -0.11954288359956639,
                      0.07579993058792887,
                      -0.07546167781444904,
                      0.05379767856217997,
                      -0.0779795674035139,
                      0.03241933311444209,
                      0.04725926230054969,
                      -0.05171730978002559,
                      0.0637444560770262,
                      -0.01983310802220615,
                      0.046311442198768205,
                      0.38083058829731276,
                      null,
                      null,
                      null,
                      null,
                      null,
                      null
                    ],
                    [
                      0.1373454036053918,
                      0.13816158193750636,
                      -0.07957749321296284,
                      0.055483936508630614,
                      -0.07426901767324698,
                      0.11236552040340725,
                      -0.06313417469133051,
                      0.05263316748994974,
                      0.1503059658754129,
                      -0.040265256179873615,
                      0.11136854209797327,
                      0.08761907017331357,
                      0.0011068353418498683,
                      0.15810118027163025,
                      0.3427929067822419,
                      null,
                      null,
                      null,
                      null,
                      null
                    ],
                    [
                      -0.09195007430742558,
                      -0.19632767784518368,
                      0.02399519519945034,
                      -0.011116168897395065,
                      0.031512462046702515,
                      -0.07545442228712342,
                      0.016240317569408223,
                      -0.0725291500826974,
                      -0.1051485474148398,
                      0.04192121980980569,
                      -0.03623939133073688,
                      -0.06415725865847562,
                      -0.0014216146128300203,
                      -0.24269512387380665,
                      -0.04911503735231236,
                      -0.5382625556436526,
                      null,
                      null,
                      null,
                      null
                    ],
                    [
                      -0.05918627001082179,
                      -0.02058554757714588,
                      0.028779122537547247,
                      0.00747461736276578,
                      0.010579918041114699,
                      -0.01277077481329308,
                      0.00628695469171519,
                      -0.05372091343402297,
                      -0.00660949533827521,
                      0.028701623441587568,
                      -0.01826747533437727,
                      -0.010862535253449868,
                      -0.0024641172880645002,
                      -0.10869338135762842,
                      -0.14631821682315307,
                      -0.04101017482879475,
                      0.03131791701851305,
                      null,
                      null,
                      null
                    ],
                    [
                      0.027180241399187618,
                      -0.0007945143101329903,
                      -0.006054615541745565,
                      -0.020411567195803337,
                      -0.023879128631461684,
                      -0.02421908002386251,
                      -0.035098843308234956,
                      -0.05510905795122231,
                      0.00035445111034150133,
                      0.014455146046564267,
                      0.004842242101590784,
                      -0.04193057820878333,
                      -0.008703032718461122,
                      -0.11286369982167246,
                      0.0048367063577689365,
                      0.109478090916373,
                      -0.031166686694612717,
                      -0.04832864375175978,
                      null,
                      null
                    ],
                    [
                      0.13118854446286557,
                      0.12778624349342443,
                      0.035777923416387455,
                      -0.015718807349087233,
                      -0.06963921576714292,
                      -0.09901109560274451,
                      -0.08571161476320285,
                      -0.09766600434222368,
                      -0.1575959988481936,
                      -0.10940538797556908,
                      -0.07879998899957107,
                      -0.09130085207712742,
                      0.03525614503581146,
                      0.1900254435165793,
                      0.038379010283365746,
                      -0.036593907162520756,
                      -0.020206509462957645,
                      -0.09236361371113912,
                      -0.036721677811583926,
                      null
                    ]
                  ],
                  "zmax": 1,
                  "zmin": -1
                }
              ],
              "layout": {
                "template": {
                  "data": {
                    "bar": [
                      {
                        "error_x": {
                          "color": "#2a3f5f"
                        },
                        "error_y": {
                          "color": "#2a3f5f"
                        },
                        "marker": {
                          "line": {
                            "color": "#E5ECF6",
                            "width": 0.5
                          },
                          "pattern": {
                            "fillmode": "overlay",
                            "size": 10,
                            "solidity": 0.2
                          }
                        },
                        "type": "bar"
                      }
                    ],
                    "barpolar": [
                      {
                        "marker": {
                          "line": {
                            "color": "#E5ECF6",
                            "width": 0.5
                          },
                          "pattern": {
                            "fillmode": "overlay",
                            "size": 10,
                            "solidity": 0.2
                          }
                        },
                        "type": "barpolar"
                      }
                    ],
                    "carpet": [
                      {
                        "aaxis": {
                          "endlinecolor": "#2a3f5f",
                          "gridcolor": "white",
                          "linecolor": "white",
                          "minorgridcolor": "white",
                          "startlinecolor": "#2a3f5f"
                        },
                        "baxis": {
                          "endlinecolor": "#2a3f5f",
                          "gridcolor": "white",
                          "linecolor": "white",
                          "minorgridcolor": "white",
                          "startlinecolor": "#2a3f5f"
                        },
                        "type": "carpet"
                      }
                    ],
                    "choropleth": [
                      {
                        "colorbar": {
                          "outlinewidth": 0,
                          "ticks": ""
                        },
                        "type": "choropleth"
                      }
                    ],
                    "contour": [
                      {
                        "colorbar": {
                          "outlinewidth": 0,
                          "ticks": ""
                        },
                        "colorscale": [
                          [
                            0,
                            "#0d0887"
                          ],
                          [
                            0.1111111111111111,
                            "#46039f"
                          ],
                          [
                            0.2222222222222222,
                            "#7201a8"
                          ],
                          [
                            0.3333333333333333,
                            "#9c179e"
                          ],
                          [
                            0.4444444444444444,
                            "#bd3786"
                          ],
                          [
                            0.5555555555555556,
                            "#d8576b"
                          ],
                          [
                            0.6666666666666666,
                            "#ed7953"
                          ],
                          [
                            0.7777777777777778,
                            "#fb9f3a"
                          ],
                          [
                            0.8888888888888888,
                            "#fdca26"
                          ],
                          [
                            1,
                            "#f0f921"
                          ]
                        ],
                        "type": "contour"
                      }
                    ],
                    "contourcarpet": [
                      {
                        "colorbar": {
                          "outlinewidth": 0,
                          "ticks": ""
                        },
                        "type": "contourcarpet"
                      }
                    ],
                    "heatmap": [
                      {
                        "colorbar": {
                          "outlinewidth": 0,
                          "ticks": ""
                        },
                        "colorscale": [
                          [
                            0,
                            "#0d0887"
                          ],
                          [
                            0.1111111111111111,
                            "#46039f"
                          ],
                          [
                            0.2222222222222222,
                            "#7201a8"
                          ],
                          [
                            0.3333333333333333,
                            "#9c179e"
                          ],
                          [
                            0.4444444444444444,
                            "#bd3786"
                          ],
                          [
                            0.5555555555555556,
                            "#d8576b"
                          ],
                          [
                            0.6666666666666666,
                            "#ed7953"
                          ],
                          [
                            0.7777777777777778,
                            "#fb9f3a"
                          ],
                          [
                            0.8888888888888888,
                            "#fdca26"
                          ],
                          [
                            1,
                            "#f0f921"
                          ]
                        ],
                        "type": "heatmap"
                      }
                    ],
                    "heatmapgl": [
                      {
                        "colorbar": {
                          "outlinewidth": 0,
                          "ticks": ""
                        },
                        "colorscale": [
                          [
                            0,
                            "#0d0887"
                          ],
                          [
                            0.1111111111111111,
                            "#46039f"
                          ],
                          [
                            0.2222222222222222,
                            "#7201a8"
                          ],
                          [
                            0.3333333333333333,
                            "#9c179e"
                          ],
                          [
                            0.4444444444444444,
                            "#bd3786"
                          ],
                          [
                            0.5555555555555556,
                            "#d8576b"
                          ],
                          [
                            0.6666666666666666,
                            "#ed7953"
                          ],
                          [
                            0.7777777777777778,
                            "#fb9f3a"
                          ],
                          [
                            0.8888888888888888,
                            "#fdca26"
                          ],
                          [
                            1,
                            "#f0f921"
                          ]
                        ],
                        "type": "heatmapgl"
                      }
                    ],
                    "histogram": [
                      {
                        "marker": {
                          "pattern": {
                            "fillmode": "overlay",
                            "size": 10,
                            "solidity": 0.2
                          }
                        },
                        "type": "histogram"
                      }
                    ],
                    "histogram2d": [
                      {
                        "colorbar": {
                          "outlinewidth": 0,
                          "ticks": ""
                        },
                        "colorscale": [
                          [
                            0,
                            "#0d0887"
                          ],
                          [
                            0.1111111111111111,
                            "#46039f"
                          ],
                          [
                            0.2222222222222222,
                            "#7201a8"
                          ],
                          [
                            0.3333333333333333,
                            "#9c179e"
                          ],
                          [
                            0.4444444444444444,
                            "#bd3786"
                          ],
                          [
                            0.5555555555555556,
                            "#d8576b"
                          ],
                          [
                            0.6666666666666666,
                            "#ed7953"
                          ],
                          [
                            0.7777777777777778,
                            "#fb9f3a"
                          ],
                          [
                            0.8888888888888888,
                            "#fdca26"
                          ],
                          [
                            1,
                            "#f0f921"
                          ]
                        ],
                        "type": "histogram2d"
                      }
                    ],
                    "histogram2dcontour": [
                      {
                        "colorbar": {
                          "outlinewidth": 0,
                          "ticks": ""
                        },
                        "colorscale": [
                          [
                            0,
                            "#0d0887"
                          ],
                          [
                            0.1111111111111111,
                            "#46039f"
                          ],
                          [
                            0.2222222222222222,
                            "#7201a8"
                          ],
                          [
                            0.3333333333333333,
                            "#9c179e"
                          ],
                          [
                            0.4444444444444444,
                            "#bd3786"
                          ],
                          [
                            0.5555555555555556,
                            "#d8576b"
                          ],
                          [
                            0.6666666666666666,
                            "#ed7953"
                          ],
                          [
                            0.7777777777777778,
                            "#fb9f3a"
                          ],
                          [
                            0.8888888888888888,
                            "#fdca26"
                          ],
                          [
                            1,
                            "#f0f921"
                          ]
                        ],
                        "type": "histogram2dcontour"
                      }
                    ],
                    "mesh3d": [
                      {
                        "colorbar": {
                          "outlinewidth": 0,
                          "ticks": ""
                        },
                        "type": "mesh3d"
                      }
                    ],
                    "parcoords": [
                      {
                        "line": {
                          "colorbar": {
                            "outlinewidth": 0,
                            "ticks": ""
                          }
                        },
                        "type": "parcoords"
                      }
                    ],
                    "pie": [
                      {
                        "automargin": true,
                        "type": "pie"
                      }
                    ],
                    "scatter": [
                      {
                        "fillpattern": {
                          "fillmode": "overlay",
                          "size": 10,
                          "solidity": 0.2
                        },
                        "type": "scatter"
                      }
                    ],
                    "scatter3d": [
                      {
                        "line": {
                          "colorbar": {
                            "outlinewidth": 0,
                            "ticks": ""
                          }
                        },
                        "marker": {
                          "colorbar": {
                            "outlinewidth": 0,
                            "ticks": ""
                          }
                        },
                        "type": "scatter3d"
                      }
                    ],
                    "scattercarpet": [
                      {
                        "marker": {
                          "colorbar": {
                            "outlinewidth": 0,
                            "ticks": ""
                          }
                        },
                        "type": "scattercarpet"
                      }
                    ],
                    "scattergeo": [
                      {
                        "marker": {
                          "colorbar": {
                            "outlinewidth": 0,
                            "ticks": ""
                          }
                        },
                        "type": "scattergeo"
                      }
                    ],
                    "scattergl": [
                      {
                        "marker": {
                          "colorbar": {
                            "outlinewidth": 0,
                            "ticks": ""
                          }
                        },
                        "type": "scattergl"
                      }
                    ],
                    "scattermapbox": [
                      {
                        "marker": {
                          "colorbar": {
                            "outlinewidth": 0,
                            "ticks": ""
                          }
                        },
                        "type": "scattermapbox"
                      }
                    ],
                    "scatterpolar": [
                      {
                        "marker": {
                          "colorbar": {
                            "outlinewidth": 0,
                            "ticks": ""
                          }
                        },
                        "type": "scatterpolar"
                      }
                    ],
                    "scatterpolargl": [
                      {
                        "marker": {
                          "colorbar": {
                            "outlinewidth": 0,
                            "ticks": ""
                          }
                        },
                        "type": "scatterpolargl"
                      }
                    ],
                    "scatterternary": [
                      {
                        "marker": {
                          "colorbar": {
                            "outlinewidth": 0,
                            "ticks": ""
                          }
                        },
                        "type": "scatterternary"
                      }
                    ],
                    "surface": [
                      {
                        "colorbar": {
                          "outlinewidth": 0,
                          "ticks": ""
                        },
                        "colorscale": [
                          [
                            0,
                            "#0d0887"
                          ],
                          [
                            0.1111111111111111,
                            "#46039f"
                          ],
                          [
                            0.2222222222222222,
                            "#7201a8"
                          ],
                          [
                            0.3333333333333333,
                            "#9c179e"
                          ],
                          [
                            0.4444444444444444,
                            "#bd3786"
                          ],
                          [
                            0.5555555555555556,
                            "#d8576b"
                          ],
                          [
                            0.6666666666666666,
                            "#ed7953"
                          ],
                          [
                            0.7777777777777778,
                            "#fb9f3a"
                          ],
                          [
                            0.8888888888888888,
                            "#fdca26"
                          ],
                          [
                            1,
                            "#f0f921"
                          ]
                        ],
                        "type": "surface"
                      }
                    ],
                    "table": [
                      {
                        "cells": {
                          "fill": {
                            "color": "#EBF0F8"
                          },
                          "line": {
                            "color": "white"
                          }
                        },
                        "header": {
                          "fill": {
                            "color": "#C8D4E3"
                          },
                          "line": {
                            "color": "white"
                          }
                        },
                        "type": "table"
                      }
                    ]
                  },
                  "layout": {
                    "annotationdefaults": {
                      "arrowcolor": "#2a3f5f",
                      "arrowhead": 0,
                      "arrowwidth": 1
                    },
                    "autotypenumbers": "strict",
                    "coloraxis": {
                      "colorbar": {
                        "outlinewidth": 0,
                        "ticks": ""
                      }
                    },
                    "colorscale": {
                      "diverging": [
                        [
                          0,
                          "#8e0152"
                        ],
                        [
                          0.1,
                          "#c51b7d"
                        ],
                        [
                          0.2,
                          "#de77ae"
                        ],
                        [
                          0.3,
                          "#f1b6da"
                        ],
                        [
                          0.4,
                          "#fde0ef"
                        ],
                        [
                          0.5,
                          "#f7f7f7"
                        ],
                        [
                          0.6,
                          "#e6f5d0"
                        ],
                        [
                          0.7,
                          "#b8e186"
                        ],
                        [
                          0.8,
                          "#7fbc41"
                        ],
                        [
                          0.9,
                          "#4d9221"
                        ],
                        [
                          1,
                          "#276419"
                        ]
                      ],
                      "sequential": [
                        [
                          0,
                          "#0d0887"
                        ],
                        [
                          0.1111111111111111,
                          "#46039f"
                        ],
                        [
                          0.2222222222222222,
                          "#7201a8"
                        ],
                        [
                          0.3333333333333333,
                          "#9c179e"
                        ],
                        [
                          0.4444444444444444,
                          "#bd3786"
                        ],
                        [
                          0.5555555555555556,
                          "#d8576b"
                        ],
                        [
                          0.6666666666666666,
                          "#ed7953"
                        ],
                        [
                          0.7777777777777778,
                          "#fb9f3a"
                        ],
                        [
                          0.8888888888888888,
                          "#fdca26"
                        ],
                        [
                          1,
                          "#f0f921"
                        ]
                      ],
                      "sequentialminus": [
                        [
                          0,
                          "#0d0887"
                        ],
                        [
                          0.1111111111111111,
                          "#46039f"
                        ],
                        [
                          0.2222222222222222,
                          "#7201a8"
                        ],
                        [
                          0.3333333333333333,
                          "#9c179e"
                        ],
                        [
                          0.4444444444444444,
                          "#bd3786"
                        ],
                        [
                          0.5555555555555556,
                          "#d8576b"
                        ],
                        [
                          0.6666666666666666,
                          "#ed7953"
                        ],
                        [
                          0.7777777777777778,
                          "#fb9f3a"
                        ],
                        [
                          0.8888888888888888,
                          "#fdca26"
                        ],
                        [
                          1,
                          "#f0f921"
                        ]
                      ]
                    },
                    "colorway": [
                      "#636efa",
                      "#EF553B",
                      "#00cc96",
                      "#ab63fa",
                      "#FFA15A",
                      "#19d3f3",
                      "#FF6692",
                      "#B6E880",
                      "#FF97FF",
                      "#FECB52"
                    ],
                    "font": {
                      "color": "#2a3f5f"
                    },
                    "geo": {
                      "bgcolor": "white",
                      "lakecolor": "white",
                      "landcolor": "#E5ECF6",
                      "showlakes": true,
                      "showland": true,
                      "subunitcolor": "white"
                    },
                    "hoverlabel": {
                      "align": "left"
                    },
                    "hovermode": "closest",
                    "mapbox": {
                      "style": "light"
                    },
                    "paper_bgcolor": "white",
                    "plot_bgcolor": "#E5ECF6",
                    "polar": {
                      "angularaxis": {
                        "gridcolor": "white",
                        "linecolor": "white",
                        "ticks": ""
                      },
                      "bgcolor": "#E5ECF6",
                      "radialaxis": {
                        "gridcolor": "white",
                        "linecolor": "white",
                        "ticks": ""
                      }
                    },
                    "scene": {
                      "xaxis": {
                        "backgroundcolor": "#E5ECF6",
                        "gridcolor": "white",
                        "gridwidth": 2,
                        "linecolor": "white",
                        "showbackground": true,
                        "ticks": "",
                        "zerolinecolor": "white"
                      },
                      "yaxis": {
                        "backgroundcolor": "#E5ECF6",
                        "gridcolor": "white",
                        "gridwidth": 2,
                        "linecolor": "white",
                        "showbackground": true,
                        "ticks": "",
                        "zerolinecolor": "white"
                      },
                      "zaxis": {
                        "backgroundcolor": "#E5ECF6",
                        "gridcolor": "white",
                        "gridwidth": 2,
                        "linecolor": "white",
                        "showbackground": true,
                        "ticks": "",
                        "zerolinecolor": "white"
                      }
                    },
                    "shapedefaults": {
                      "line": {
                        "color": "#2a3f5f"
                      }
                    },
                    "ternary": {
                      "aaxis": {
                        "gridcolor": "white",
                        "linecolor": "white",
                        "ticks": ""
                      },
                      "baxis": {
                        "gridcolor": "white",
                        "linecolor": "white",
                        "ticks": ""
                      },
                      "bgcolor": "#E5ECF6",
                      "caxis": {
                        "gridcolor": "white",
                        "linecolor": "white",
                        "ticks": ""
                      }
                    },
                    "title": {
                      "x": 0.05
                    },
                    "xaxis": {
                      "automargin": true,
                      "gridcolor": "white",
                      "linecolor": "white",
                      "ticks": "",
                      "title": {
                        "standoff": 15
                      },
                      "zerolinecolor": "white",
                      "zerolinewidth": 2
                    },
                    "yaxis": {
                      "automargin": true,
                      "gridcolor": "white",
                      "linecolor": "white",
                      "ticks": "",
                      "title": {
                        "standoff": 15
                      },
                      "zerolinecolor": "white",
                      "zerolinewidth": 2
                    }
                  }
                }
              }
            }
          },
          "metadata": {},
          "output_type": "display_data"
        }
      ],
      "source": [
        "mask = np.triu(np.ones_like(stream_corr, dtype=bool))\n",
        "\n",
        "stream_corr_heatmap = go.Heatmap(\n",
        "    z=stream_corr.mask(mask),\n",
        "    x=stream_corr.columns,\n",
        "    y=stream_corr.columns,\n",
        "    colorscale=px.colors.diverging.RdBu,\n",
        "    zmin=-1,\n",
        "    zmax=1\n",
        ")\n",
        "\n",
        "corr_matrix = go.Figure(\n",
        "    stream_corr_heatmap\n",
        ")\n",
        "corr_matrix.show()"
      ]
    },
    {
      "cell_type": "markdown",
      "metadata": {},
      "source": [
        "The variables that most correlate with streams are:\n",
        "- In spotify playlists\n",
        "- In apple playlists\n",
        "- In apple charts\n",
        "- In spotify charts\n",
        "- In deezer playlists\n",
        "- In deezer charts\n",
        "\n",
        "(The most near to 1, and -1 of the corr matrix)"
      ]
    },
    {
      "cell_type": "markdown",
      "metadata": {},
      "source": [
        "f) ¿Cuáles son las variables que mejor predicen las canciones que están por encima el percentil 50? **(1 puntos)"
      ]
    },
    {
      "cell_type": "code",
      "execution_count": null,
      "metadata": {},
      "outputs": [
        {
          "name": "stdout",
          "output_type": "stream",
          "text": [
            "240844044.5\n"
          ]
        },
        {
          "data": {
            "text/plain": [
              "8976"
            ]
          },
          "execution_count": 203,
          "metadata": {},
          "output_type": "execute_result"
        }
      ],
      "source": [
        "popular_cutoff = spotify[\"streams\"].quantile(q=0.5)\n",
        "print(popular_cutoff)\n",
        "\n",
        "popular_songs = spotify[spotify[\"streams\"] > popular_cutoff]\n",
        "popular_songs.size"
      ]
    },
    {
      "cell_type": "code",
      "execution_count": null,
      "metadata": {},
      "outputs": [
        {
          "data": {
            "text/plain": [
              "Index(['track_name', 'artist(s)_name', 'artist_count', 'released_year',\n",
              "       'released_month', 'released_day', 'in_spotify_playlists',\n",
              "       'in_spotify_charts', 'streams', 'in_apple_playlists', 'in_apple_charts',\n",
              "       'in_deezer_playlists', 'in_deezer_charts', 'in_shazam_charts', 'bpm',\n",
              "       'key', 'mode', 'danceability_%', 'valence_%', 'energy_%',\n",
              "       'acousticness_%', 'instrumentalness_%', 'liveness_%', 'speechiness_%'],\n",
              "      dtype='object')"
            ]
          },
          "execution_count": 204,
          "metadata": {},
          "output_type": "execute_result"
        }
      ],
      "source": [
        "popular_songs.columns"
      ]
    },
    {
      "cell_type": "code",
      "execution_count": null,
      "metadata": {},
      "outputs": [
        {
          "data": {
            "text/html": [
              "<div>\n",
              "<style scoped>\n",
              "    .dataframe tbody tr th:only-of-type {\n",
              "        vertical-align: middle;\n",
              "    }\n",
              "\n",
              "    .dataframe tbody tr th {\n",
              "        vertical-align: top;\n",
              "    }\n",
              "\n",
              "    .dataframe thead th {\n",
              "        text-align: right;\n",
              "    }\n",
              "</style>\n",
              "<table border=\"1\" class=\"dataframe\">\n",
              "  <thead>\n",
              "    <tr style=\"text-align: right;\">\n",
              "      <th></th>\n",
              "      <th>artist_count</th>\n",
              "      <th>released_year</th>\n",
              "      <th>released_month</th>\n",
              "      <th>released_day</th>\n",
              "      <th>in_spotify_playlists</th>\n",
              "      <th>in_spotify_charts</th>\n",
              "      <th>in_apple_playlists</th>\n",
              "      <th>in_apple_charts</th>\n",
              "      <th>in_deezer_playlists</th>\n",
              "      <th>in_deezer_charts</th>\n",
              "      <th>...</th>\n",
              "      <th>dummy_C#</th>\n",
              "      <th>dummy_D</th>\n",
              "      <th>dummy_D#</th>\n",
              "      <th>dummy_E</th>\n",
              "      <th>dummy_F</th>\n",
              "      <th>dummy_F#</th>\n",
              "      <th>dummy_G</th>\n",
              "      <th>dummy_G#</th>\n",
              "      <th>dummy_Major</th>\n",
              "      <th>dummy_Minor</th>\n",
              "    </tr>\n",
              "  </thead>\n",
              "  <tbody>\n",
              "    <tr>\n",
              "      <th>3</th>\n",
              "      <td>1</td>\n",
              "      <td>2019</td>\n",
              "      <td>8</td>\n",
              "      <td>23</td>\n",
              "      <td>7858</td>\n",
              "      <td>100</td>\n",
              "      <td>116</td>\n",
              "      <td>207</td>\n",
              "      <td>125.0</td>\n",
              "      <td>12</td>\n",
              "      <td>...</td>\n",
              "      <td>False</td>\n",
              "      <td>False</td>\n",
              "      <td>False</td>\n",
              "      <td>False</td>\n",
              "      <td>False</td>\n",
              "      <td>False</td>\n",
              "      <td>False</td>\n",
              "      <td>False</td>\n",
              "      <td>True</td>\n",
              "      <td>False</td>\n",
              "    </tr>\n",
              "    <tr>\n",
              "      <th>4</th>\n",
              "      <td>1</td>\n",
              "      <td>2023</td>\n",
              "      <td>5</td>\n",
              "      <td>18</td>\n",
              "      <td>3133</td>\n",
              "      <td>50</td>\n",
              "      <td>84</td>\n",
              "      <td>133</td>\n",
              "      <td>87.0</td>\n",
              "      <td>15</td>\n",
              "      <td>...</td>\n",
              "      <td>False</td>\n",
              "      <td>False</td>\n",
              "      <td>False</td>\n",
              "      <td>False</td>\n",
              "      <td>False</td>\n",
              "      <td>False</td>\n",
              "      <td>False</td>\n",
              "      <td>False</td>\n",
              "      <td>False</td>\n",
              "      <td>True</td>\n",
              "    </tr>\n",
              "    <tr>\n",
              "      <th>6</th>\n",
              "      <td>2</td>\n",
              "      <td>2023</td>\n",
              "      <td>3</td>\n",
              "      <td>16</td>\n",
              "      <td>3090</td>\n",
              "      <td>50</td>\n",
              "      <td>34</td>\n",
              "      <td>222</td>\n",
              "      <td>43.0</td>\n",
              "      <td>13</td>\n",
              "      <td>...</td>\n",
              "      <td>False</td>\n",
              "      <td>False</td>\n",
              "      <td>False</td>\n",
              "      <td>False</td>\n",
              "      <td>True</td>\n",
              "      <td>False</td>\n",
              "      <td>False</td>\n",
              "      <td>False</td>\n",
              "      <td>False</td>\n",
              "      <td>True</td>\n",
              "    </tr>\n",
              "    <tr>\n",
              "      <th>9</th>\n",
              "      <td>2</td>\n",
              "      <td>2023</td>\n",
              "      <td>3</td>\n",
              "      <td>17</td>\n",
              "      <td>2953</td>\n",
              "      <td>44</td>\n",
              "      <td>49</td>\n",
              "      <td>110</td>\n",
              "      <td>66.0</td>\n",
              "      <td>13</td>\n",
              "      <td>...</td>\n",
              "      <td>False</td>\n",
              "      <td>True</td>\n",
              "      <td>False</td>\n",
              "      <td>False</td>\n",
              "      <td>False</td>\n",
              "      <td>False</td>\n",
              "      <td>False</td>\n",
              "      <td>False</td>\n",
              "      <td>False</td>\n",
              "      <td>True</td>\n",
              "    </tr>\n",
              "    <tr>\n",
              "      <th>10</th>\n",
              "      <td>2</td>\n",
              "      <td>2023</td>\n",
              "      <td>4</td>\n",
              "      <td>17</td>\n",
              "      <td>2876</td>\n",
              "      <td>40</td>\n",
              "      <td>41</td>\n",
              "      <td>205</td>\n",
              "      <td>54.0</td>\n",
              "      <td>12</td>\n",
              "      <td>...</td>\n",
              "      <td>False</td>\n",
              "      <td>False</td>\n",
              "      <td>False</td>\n",
              "      <td>False</td>\n",
              "      <td>False</td>\n",
              "      <td>True</td>\n",
              "      <td>False</td>\n",
              "      <td>False</td>\n",
              "      <td>False</td>\n",
              "      <td>True</td>\n",
              "    </tr>\n",
              "  </tbody>\n",
              "</table>\n",
              "<p>5 rows × 32 columns</p>\n",
              "</div>"
            ],
            "text/plain": [
              "    artist_count  released_year  released_month  released_day  \\\n",
              "3              1           2019               8            23   \n",
              "4              1           2023               5            18   \n",
              "6              2           2023               3            16   \n",
              "9              2           2023               3            17   \n",
              "10             2           2023               4            17   \n",
              "\n",
              "    in_spotify_playlists  in_spotify_charts  in_apple_playlists  \\\n",
              "3                   7858                100                 116   \n",
              "4                   3133                 50                  84   \n",
              "6                   3090                 50                  34   \n",
              "9                   2953                 44                  49   \n",
              "10                  2876                 40                  41   \n",
              "\n",
              "    in_apple_charts  in_deezer_playlists  in_deezer_charts  ...  dummy_C#  \\\n",
              "3               207                125.0                12  ...     False   \n",
              "4               133                 87.0                15  ...     False   \n",
              "6               222                 43.0                13  ...     False   \n",
              "9               110                 66.0                13  ...     False   \n",
              "10              205                 54.0                12  ...     False   \n",
              "\n",
              "    dummy_D  dummy_D#  dummy_E  dummy_F  dummy_F#  dummy_G  dummy_G#  \\\n",
              "3     False     False    False    False     False    False     False   \n",
              "4     False     False    False    False     False    False     False   \n",
              "6     False     False    False     True     False    False     False   \n",
              "9      True     False    False    False     False    False     False   \n",
              "10    False     False    False    False      True    False     False   \n",
              "\n",
              "    dummy_Major  dummy_Minor  \n",
              "3          True        False  \n",
              "4         False         True  \n",
              "6         False         True  \n",
              "9         False         True  \n",
              "10        False         True  \n",
              "\n",
              "[5 rows x 32 columns]"
            ]
          },
          "execution_count": 205,
          "metadata": {},
          "output_type": "execute_result"
        }
      ],
      "source": [
        "# Remove un-dummiable variables\n",
        "popular_songs_dataset = popular_songs.drop([\"track_name\", \"artist(s)_name\"], axis=1)\n",
        "popular_songs_dataset.columns\n",
        "\n",
        "dummies = pd.get_dummies(popular_songs_dataset[[\"key\", \"mode\"]], prefix=\"dummy\")\n",
        "popular_songs_dataset = popular_songs_dataset.drop([\"key\", \"mode\"], axis=1)\n",
        "popular_songs_dataset = pd.concat([\n",
        "    popular_songs_dataset,\n",
        "    dummies\n",
        "], axis=1)\n",
        "\n",
        "x_variables = list(popular_songs_dataset.columns)\n",
        "x_variables.remove(\"streams\")\n",
        "\n",
        "# Divide data in X,Y\n",
        "X_popular_songs = popular_songs_dataset[x_variables]\n",
        "y_popular_songs = popular_songs_dataset[\"streams\"]\n",
        "\n",
        "X_popular_songs.head()"
      ]
    },
    {
      "cell_type": "code",
      "execution_count": null,
      "metadata": {},
      "outputs": [
        {
          "data": {
            "text/html": [
              "<style>#sk-container-id-8 {color: black;}#sk-container-id-8 pre{padding: 0;}#sk-container-id-8 div.sk-toggleable {background-color: white;}#sk-container-id-8 label.sk-toggleable__label {cursor: pointer;display: block;width: 100%;margin-bottom: 0;padding: 0.3em;box-sizing: border-box;text-align: center;}#sk-container-id-8 label.sk-toggleable__label-arrow:before {content: \"▸\";float: left;margin-right: 0.25em;color: #696969;}#sk-container-id-8 label.sk-toggleable__label-arrow:hover:before {color: black;}#sk-container-id-8 div.sk-estimator:hover label.sk-toggleable__label-arrow:before {color: black;}#sk-container-id-8 div.sk-toggleable__content {max-height: 0;max-width: 0;overflow: hidden;text-align: left;background-color: #f0f8ff;}#sk-container-id-8 div.sk-toggleable__content pre {margin: 0.2em;color: black;border-radius: 0.25em;background-color: #f0f8ff;}#sk-container-id-8 input.sk-toggleable__control:checked~div.sk-toggleable__content {max-height: 200px;max-width: 100%;overflow: auto;}#sk-container-id-8 input.sk-toggleable__control:checked~label.sk-toggleable__label-arrow:before {content: \"▾\";}#sk-container-id-8 div.sk-estimator input.sk-toggleable__control:checked~label.sk-toggleable__label {background-color: #d4ebff;}#sk-container-id-8 div.sk-label input.sk-toggleable__control:checked~label.sk-toggleable__label {background-color: #d4ebff;}#sk-container-id-8 input.sk-hidden--visually {border: 0;clip: rect(1px 1px 1px 1px);clip: rect(1px, 1px, 1px, 1px);height: 1px;margin: -1px;overflow: hidden;padding: 0;position: absolute;width: 1px;}#sk-container-id-8 div.sk-estimator {font-family: monospace;background-color: #f0f8ff;border: 1px dotted black;border-radius: 0.25em;box-sizing: border-box;margin-bottom: 0.5em;}#sk-container-id-8 div.sk-estimator:hover {background-color: #d4ebff;}#sk-container-id-8 div.sk-parallel-item::after {content: \"\";width: 100%;border-bottom: 1px solid gray;flex-grow: 1;}#sk-container-id-8 div.sk-label:hover label.sk-toggleable__label {background-color: #d4ebff;}#sk-container-id-8 div.sk-serial::before {content: \"\";position: absolute;border-left: 1px solid gray;box-sizing: border-box;top: 0;bottom: 0;left: 50%;z-index: 0;}#sk-container-id-8 div.sk-serial {display: flex;flex-direction: column;align-items: center;background-color: white;padding-right: 0.2em;padding-left: 0.2em;position: relative;}#sk-container-id-8 div.sk-item {position: relative;z-index: 1;}#sk-container-id-8 div.sk-parallel {display: flex;align-items: stretch;justify-content: center;background-color: white;position: relative;}#sk-container-id-8 div.sk-item::before, #sk-container-id-8 div.sk-parallel-item::before {content: \"\";position: absolute;border-left: 1px solid gray;box-sizing: border-box;top: 0;bottom: 0;left: 50%;z-index: -1;}#sk-container-id-8 div.sk-parallel-item {display: flex;flex-direction: column;z-index: 1;position: relative;background-color: white;}#sk-container-id-8 div.sk-parallel-item:first-child::after {align-self: flex-end;width: 50%;}#sk-container-id-8 div.sk-parallel-item:last-child::after {align-self: flex-start;width: 50%;}#sk-container-id-8 div.sk-parallel-item:only-child::after {width: 0;}#sk-container-id-8 div.sk-dashed-wrapped {border: 1px dashed gray;margin: 0 0.4em 0.5em 0.4em;box-sizing: border-box;padding-bottom: 0.4em;background-color: white;}#sk-container-id-8 div.sk-label label {font-family: monospace;font-weight: bold;display: inline-block;line-height: 1.2em;}#sk-container-id-8 div.sk-label-container {text-align: center;}#sk-container-id-8 div.sk-container {/* jupyter's `normalize.less` sets `[hidden] { display: none; }` but bootstrap.min.css set `[hidden] { display: none !important; }` so we also need the `!important` here to be able to override the default hidden behavior on the sphinx rendered scikit-learn.org. See: https://github.com/scikit-learn/scikit-learn/issues/21755 */display: inline-block !important;position: relative;}#sk-container-id-8 div.sk-text-repr-fallback {display: none;}</style><div id=\"sk-container-id-8\" class=\"sk-top-container\"><div class=\"sk-text-repr-fallback\"><pre>RandomForestRegressor(n_estimators=500)</pre><b>In a Jupyter environment, please rerun this cell to show the HTML representation or trust the notebook. <br />On GitHub, the HTML representation is unable to render, please try loading this page with nbviewer.org.</b></div><div class=\"sk-container\" hidden><div class=\"sk-item\"><div class=\"sk-estimator sk-toggleable\"><input class=\"sk-toggleable__control sk-hidden--visually\" id=\"sk-estimator-id-8\" type=\"checkbox\" checked><label for=\"sk-estimator-id-8\" class=\"sk-toggleable__label sk-toggleable__label-arrow\">RandomForestRegressor</label><div class=\"sk-toggleable__content\"><pre>RandomForestRegressor(n_estimators=500)</pre></div></div></div></div></div>"
            ],
            "text/plain": [
              "RandomForestRegressor(n_estimators=500)"
            ]
          },
          "execution_count": 206,
          "metadata": {},
          "output_type": "execute_result"
        }
      ],
      "source": [
        "spotify_model = RandomForestRegressor(500)\n",
        "spotify_model.fit(X_popular_songs, y_popular_songs)"
      ]
    },
    {
      "cell_type": "code",
      "execution_count": null,
      "metadata": {},
      "outputs": [
        {
          "data": {
            "text/html": [
              "<div>\n",
              "<style scoped>\n",
              "    .dataframe tbody tr th:only-of-type {\n",
              "        vertical-align: middle;\n",
              "    }\n",
              "\n",
              "    .dataframe tbody tr th {\n",
              "        vertical-align: top;\n",
              "    }\n",
              "\n",
              "    .dataframe thead th {\n",
              "        text-align: right;\n",
              "    }\n",
              "</style>\n",
              "<table border=\"1\" class=\"dataframe\">\n",
              "  <thead>\n",
              "    <tr style=\"text-align: right;\">\n",
              "      <th></th>\n",
              "      <th>variable</th>\n",
              "      <th>weight</th>\n",
              "    </tr>\n",
              "  </thead>\n",
              "  <tbody>\n",
              "    <tr>\n",
              "      <th>8</th>\n",
              "      <td>in_deezer_playlists</td>\n",
              "      <td>0.295710</td>\n",
              "    </tr>\n",
              "    <tr>\n",
              "      <th>4</th>\n",
              "      <td>in_spotify_playlists</td>\n",
              "      <td>0.278016</td>\n",
              "    </tr>\n",
              "    <tr>\n",
              "      <th>6</th>\n",
              "      <td>in_apple_playlists</td>\n",
              "      <td>0.076075</td>\n",
              "    </tr>\n",
              "    <tr>\n",
              "      <th>5</th>\n",
              "      <td>in_spotify_charts</td>\n",
              "      <td>0.065750</td>\n",
              "    </tr>\n",
              "    <tr>\n",
              "      <th>1</th>\n",
              "      <td>released_year</td>\n",
              "      <td>0.046265</td>\n",
              "    </tr>\n",
              "  </tbody>\n",
              "</table>\n",
              "</div>"
            ],
            "text/plain": [
              "               variable    weight\n",
              "8   in_deezer_playlists  0.295710\n",
              "4  in_spotify_playlists  0.278016\n",
              "6    in_apple_playlists  0.076075\n",
              "5     in_spotify_charts  0.065750\n",
              "1         released_year  0.046265"
            ]
          },
          "execution_count": 207,
          "metadata": {},
          "output_type": "execute_result"
        }
      ],
      "source": [
        "popular_songs_coeff_importance = pd.DataFrame()\n",
        "popular_songs_coeff_importance[\"variable\"] = X_popular_songs.columns\n",
        "popular_songs_coeff_importance[\"weight\"] = spotify_model.feature_importances_\n",
        "popular_songs_coeff_importance = popular_songs_coeff_importance.sort_values(by=\"weight\", ascending=False)\n",
        "popular_songs_coeff_importance.head()"
      ]
    },
    {
      "cell_type": "code",
      "execution_count": null,
      "metadata": {},
      "outputs": [
        {
          "data": {
            "application/vnd.plotly.v1+json": {
              "config": {
                "plotlyServerURL": "https://plot.ly"
              },
              "data": [
                {
                  "marker": {
                    "color": "blue"
                  },
                  "type": "bar",
                  "width": [
                    0.65,
                    0.65,
                    0.65,
                    0.65,
                    0.65,
                    0.65,
                    0.65,
                    0.65,
                    0.65,
                    0.65,
                    0.65,
                    0.65,
                    0.65,
                    0.65,
                    0.65,
                    0.65,
                    0.65,
                    0.65,
                    0.65,
                    0.65,
                    0.65,
                    0.65,
                    0.65,
                    0.65,
                    0.65,
                    0.65,
                    0.65,
                    0.65,
                    0.65,
                    0.65,
                    0.65,
                    0.65
                  ],
                  "x": [
                    "in_deezer_playlists",
                    "in_spotify_playlists",
                    "in_apple_playlists",
                    "in_spotify_charts",
                    "released_year",
                    "bpm",
                    "acousticness_%",
                    "in_shazam_charts",
                    "liveness_%",
                    "valence_%",
                    "speechiness_%",
                    "released_month",
                    "in_apple_charts",
                    "energy_%",
                    "danceability_%",
                    "released_day",
                    "in_deezer_charts",
                    "artist_count",
                    "dummy_C#",
                    "dummy_B",
                    "dummy_G",
                    "instrumentalness_%",
                    "dummy_Major",
                    "dummy_F#",
                    "dummy_Minor",
                    "dummy_A#",
                    "dummy_D#",
                    "dummy_A",
                    "dummy_G#",
                    "dummy_F",
                    "dummy_E",
                    "dummy_D"
                  ],
                  "y": [
                    0.29570999436665535,
                    0.2780158081437964,
                    0.07607539198345069,
                    0.06575015929612053,
                    0.046264944604299044,
                    0.03647465466621164,
                    0.020400132956137174,
                    0.019869342099259987,
                    0.019348316396846556,
                    0.01825760625129771,
                    0.017744406522644838,
                    0.01689240503716064,
                    0.016138209181241987,
                    0.015666223376634352,
                    0.013700626337234656,
                    0.013419032681267373,
                    0.009019372210364793,
                    0.003222138117944649,
                    0.0020106071023221405,
                    0.0018593887485610604,
                    0.0017022435245818333,
                    0.001667311157926213,
                    0.0014469833369414676,
                    0.001295214954100239,
                    0.001212032514142537,
                    0.0011638861244534955,
                    0.001087674408843776,
                    0.0010344613194814816,
                    0.0010257263784449436,
                    0.0010017206942935341,
                    0.0008118534708019845,
                    0.0007121320365370494
                  ]
                }
              ],
              "layout": {
                "template": {
                  "data": {
                    "bar": [
                      {
                        "error_x": {
                          "color": "#2a3f5f"
                        },
                        "error_y": {
                          "color": "#2a3f5f"
                        },
                        "marker": {
                          "line": {
                            "color": "#E5ECF6",
                            "width": 0.5
                          },
                          "pattern": {
                            "fillmode": "overlay",
                            "size": 10,
                            "solidity": 0.2
                          }
                        },
                        "type": "bar"
                      }
                    ],
                    "barpolar": [
                      {
                        "marker": {
                          "line": {
                            "color": "#E5ECF6",
                            "width": 0.5
                          },
                          "pattern": {
                            "fillmode": "overlay",
                            "size": 10,
                            "solidity": 0.2
                          }
                        },
                        "type": "barpolar"
                      }
                    ],
                    "carpet": [
                      {
                        "aaxis": {
                          "endlinecolor": "#2a3f5f",
                          "gridcolor": "white",
                          "linecolor": "white",
                          "minorgridcolor": "white",
                          "startlinecolor": "#2a3f5f"
                        },
                        "baxis": {
                          "endlinecolor": "#2a3f5f",
                          "gridcolor": "white",
                          "linecolor": "white",
                          "minorgridcolor": "white",
                          "startlinecolor": "#2a3f5f"
                        },
                        "type": "carpet"
                      }
                    ],
                    "choropleth": [
                      {
                        "colorbar": {
                          "outlinewidth": 0,
                          "ticks": ""
                        },
                        "type": "choropleth"
                      }
                    ],
                    "contour": [
                      {
                        "colorbar": {
                          "outlinewidth": 0,
                          "ticks": ""
                        },
                        "colorscale": [
                          [
                            0,
                            "#0d0887"
                          ],
                          [
                            0.1111111111111111,
                            "#46039f"
                          ],
                          [
                            0.2222222222222222,
                            "#7201a8"
                          ],
                          [
                            0.3333333333333333,
                            "#9c179e"
                          ],
                          [
                            0.4444444444444444,
                            "#bd3786"
                          ],
                          [
                            0.5555555555555556,
                            "#d8576b"
                          ],
                          [
                            0.6666666666666666,
                            "#ed7953"
                          ],
                          [
                            0.7777777777777778,
                            "#fb9f3a"
                          ],
                          [
                            0.8888888888888888,
                            "#fdca26"
                          ],
                          [
                            1,
                            "#f0f921"
                          ]
                        ],
                        "type": "contour"
                      }
                    ],
                    "contourcarpet": [
                      {
                        "colorbar": {
                          "outlinewidth": 0,
                          "ticks": ""
                        },
                        "type": "contourcarpet"
                      }
                    ],
                    "heatmap": [
                      {
                        "colorbar": {
                          "outlinewidth": 0,
                          "ticks": ""
                        },
                        "colorscale": [
                          [
                            0,
                            "#0d0887"
                          ],
                          [
                            0.1111111111111111,
                            "#46039f"
                          ],
                          [
                            0.2222222222222222,
                            "#7201a8"
                          ],
                          [
                            0.3333333333333333,
                            "#9c179e"
                          ],
                          [
                            0.4444444444444444,
                            "#bd3786"
                          ],
                          [
                            0.5555555555555556,
                            "#d8576b"
                          ],
                          [
                            0.6666666666666666,
                            "#ed7953"
                          ],
                          [
                            0.7777777777777778,
                            "#fb9f3a"
                          ],
                          [
                            0.8888888888888888,
                            "#fdca26"
                          ],
                          [
                            1,
                            "#f0f921"
                          ]
                        ],
                        "type": "heatmap"
                      }
                    ],
                    "heatmapgl": [
                      {
                        "colorbar": {
                          "outlinewidth": 0,
                          "ticks": ""
                        },
                        "colorscale": [
                          [
                            0,
                            "#0d0887"
                          ],
                          [
                            0.1111111111111111,
                            "#46039f"
                          ],
                          [
                            0.2222222222222222,
                            "#7201a8"
                          ],
                          [
                            0.3333333333333333,
                            "#9c179e"
                          ],
                          [
                            0.4444444444444444,
                            "#bd3786"
                          ],
                          [
                            0.5555555555555556,
                            "#d8576b"
                          ],
                          [
                            0.6666666666666666,
                            "#ed7953"
                          ],
                          [
                            0.7777777777777778,
                            "#fb9f3a"
                          ],
                          [
                            0.8888888888888888,
                            "#fdca26"
                          ],
                          [
                            1,
                            "#f0f921"
                          ]
                        ],
                        "type": "heatmapgl"
                      }
                    ],
                    "histogram": [
                      {
                        "marker": {
                          "pattern": {
                            "fillmode": "overlay",
                            "size": 10,
                            "solidity": 0.2
                          }
                        },
                        "type": "histogram"
                      }
                    ],
                    "histogram2d": [
                      {
                        "colorbar": {
                          "outlinewidth": 0,
                          "ticks": ""
                        },
                        "colorscale": [
                          [
                            0,
                            "#0d0887"
                          ],
                          [
                            0.1111111111111111,
                            "#46039f"
                          ],
                          [
                            0.2222222222222222,
                            "#7201a8"
                          ],
                          [
                            0.3333333333333333,
                            "#9c179e"
                          ],
                          [
                            0.4444444444444444,
                            "#bd3786"
                          ],
                          [
                            0.5555555555555556,
                            "#d8576b"
                          ],
                          [
                            0.6666666666666666,
                            "#ed7953"
                          ],
                          [
                            0.7777777777777778,
                            "#fb9f3a"
                          ],
                          [
                            0.8888888888888888,
                            "#fdca26"
                          ],
                          [
                            1,
                            "#f0f921"
                          ]
                        ],
                        "type": "histogram2d"
                      }
                    ],
                    "histogram2dcontour": [
                      {
                        "colorbar": {
                          "outlinewidth": 0,
                          "ticks": ""
                        },
                        "colorscale": [
                          [
                            0,
                            "#0d0887"
                          ],
                          [
                            0.1111111111111111,
                            "#46039f"
                          ],
                          [
                            0.2222222222222222,
                            "#7201a8"
                          ],
                          [
                            0.3333333333333333,
                            "#9c179e"
                          ],
                          [
                            0.4444444444444444,
                            "#bd3786"
                          ],
                          [
                            0.5555555555555556,
                            "#d8576b"
                          ],
                          [
                            0.6666666666666666,
                            "#ed7953"
                          ],
                          [
                            0.7777777777777778,
                            "#fb9f3a"
                          ],
                          [
                            0.8888888888888888,
                            "#fdca26"
                          ],
                          [
                            1,
                            "#f0f921"
                          ]
                        ],
                        "type": "histogram2dcontour"
                      }
                    ],
                    "mesh3d": [
                      {
                        "colorbar": {
                          "outlinewidth": 0,
                          "ticks": ""
                        },
                        "type": "mesh3d"
                      }
                    ],
                    "parcoords": [
                      {
                        "line": {
                          "colorbar": {
                            "outlinewidth": 0,
                            "ticks": ""
                          }
                        },
                        "type": "parcoords"
                      }
                    ],
                    "pie": [
                      {
                        "automargin": true,
                        "type": "pie"
                      }
                    ],
                    "scatter": [
                      {
                        "fillpattern": {
                          "fillmode": "overlay",
                          "size": 10,
                          "solidity": 0.2
                        },
                        "type": "scatter"
                      }
                    ],
                    "scatter3d": [
                      {
                        "line": {
                          "colorbar": {
                            "outlinewidth": 0,
                            "ticks": ""
                          }
                        },
                        "marker": {
                          "colorbar": {
                            "outlinewidth": 0,
                            "ticks": ""
                          }
                        },
                        "type": "scatter3d"
                      }
                    ],
                    "scattercarpet": [
                      {
                        "marker": {
                          "colorbar": {
                            "outlinewidth": 0,
                            "ticks": ""
                          }
                        },
                        "type": "scattercarpet"
                      }
                    ],
                    "scattergeo": [
                      {
                        "marker": {
                          "colorbar": {
                            "outlinewidth": 0,
                            "ticks": ""
                          }
                        },
                        "type": "scattergeo"
                      }
                    ],
                    "scattergl": [
                      {
                        "marker": {
                          "colorbar": {
                            "outlinewidth": 0,
                            "ticks": ""
                          }
                        },
                        "type": "scattergl"
                      }
                    ],
                    "scattermapbox": [
                      {
                        "marker": {
                          "colorbar": {
                            "outlinewidth": 0,
                            "ticks": ""
                          }
                        },
                        "type": "scattermapbox"
                      }
                    ],
                    "scatterpolar": [
                      {
                        "marker": {
                          "colorbar": {
                            "outlinewidth": 0,
                            "ticks": ""
                          }
                        },
                        "type": "scatterpolar"
                      }
                    ],
                    "scatterpolargl": [
                      {
                        "marker": {
                          "colorbar": {
                            "outlinewidth": 0,
                            "ticks": ""
                          }
                        },
                        "type": "scatterpolargl"
                      }
                    ],
                    "scatterternary": [
                      {
                        "marker": {
                          "colorbar": {
                            "outlinewidth": 0,
                            "ticks": ""
                          }
                        },
                        "type": "scatterternary"
                      }
                    ],
                    "surface": [
                      {
                        "colorbar": {
                          "outlinewidth": 0,
                          "ticks": ""
                        },
                        "colorscale": [
                          [
                            0,
                            "#0d0887"
                          ],
                          [
                            0.1111111111111111,
                            "#46039f"
                          ],
                          [
                            0.2222222222222222,
                            "#7201a8"
                          ],
                          [
                            0.3333333333333333,
                            "#9c179e"
                          ],
                          [
                            0.4444444444444444,
                            "#bd3786"
                          ],
                          [
                            0.5555555555555556,
                            "#d8576b"
                          ],
                          [
                            0.6666666666666666,
                            "#ed7953"
                          ],
                          [
                            0.7777777777777778,
                            "#fb9f3a"
                          ],
                          [
                            0.8888888888888888,
                            "#fdca26"
                          ],
                          [
                            1,
                            "#f0f921"
                          ]
                        ],
                        "type": "surface"
                      }
                    ],
                    "table": [
                      {
                        "cells": {
                          "fill": {
                            "color": "#EBF0F8"
                          },
                          "line": {
                            "color": "white"
                          }
                        },
                        "header": {
                          "fill": {
                            "color": "#C8D4E3"
                          },
                          "line": {
                            "color": "white"
                          }
                        },
                        "type": "table"
                      }
                    ]
                  },
                  "layout": {
                    "annotationdefaults": {
                      "arrowcolor": "#2a3f5f",
                      "arrowhead": 0,
                      "arrowwidth": 1
                    },
                    "autotypenumbers": "strict",
                    "coloraxis": {
                      "colorbar": {
                        "outlinewidth": 0,
                        "ticks": ""
                      }
                    },
                    "colorscale": {
                      "diverging": [
                        [
                          0,
                          "#8e0152"
                        ],
                        [
                          0.1,
                          "#c51b7d"
                        ],
                        [
                          0.2,
                          "#de77ae"
                        ],
                        [
                          0.3,
                          "#f1b6da"
                        ],
                        [
                          0.4,
                          "#fde0ef"
                        ],
                        [
                          0.5,
                          "#f7f7f7"
                        ],
                        [
                          0.6,
                          "#e6f5d0"
                        ],
                        [
                          0.7,
                          "#b8e186"
                        ],
                        [
                          0.8,
                          "#7fbc41"
                        ],
                        [
                          0.9,
                          "#4d9221"
                        ],
                        [
                          1,
                          "#276419"
                        ]
                      ],
                      "sequential": [
                        [
                          0,
                          "#0d0887"
                        ],
                        [
                          0.1111111111111111,
                          "#46039f"
                        ],
                        [
                          0.2222222222222222,
                          "#7201a8"
                        ],
                        [
                          0.3333333333333333,
                          "#9c179e"
                        ],
                        [
                          0.4444444444444444,
                          "#bd3786"
                        ],
                        [
                          0.5555555555555556,
                          "#d8576b"
                        ],
                        [
                          0.6666666666666666,
                          "#ed7953"
                        ],
                        [
                          0.7777777777777778,
                          "#fb9f3a"
                        ],
                        [
                          0.8888888888888888,
                          "#fdca26"
                        ],
                        [
                          1,
                          "#f0f921"
                        ]
                      ],
                      "sequentialminus": [
                        [
                          0,
                          "#0d0887"
                        ],
                        [
                          0.1111111111111111,
                          "#46039f"
                        ],
                        [
                          0.2222222222222222,
                          "#7201a8"
                        ],
                        [
                          0.3333333333333333,
                          "#9c179e"
                        ],
                        [
                          0.4444444444444444,
                          "#bd3786"
                        ],
                        [
                          0.5555555555555556,
                          "#d8576b"
                        ],
                        [
                          0.6666666666666666,
                          "#ed7953"
                        ],
                        [
                          0.7777777777777778,
                          "#fb9f3a"
                        ],
                        [
                          0.8888888888888888,
                          "#fdca26"
                        ],
                        [
                          1,
                          "#f0f921"
                        ]
                      ]
                    },
                    "colorway": [
                      "#636efa",
                      "#EF553B",
                      "#00cc96",
                      "#ab63fa",
                      "#FFA15A",
                      "#19d3f3",
                      "#FF6692",
                      "#B6E880",
                      "#FF97FF",
                      "#FECB52"
                    ],
                    "font": {
                      "color": "#2a3f5f"
                    },
                    "geo": {
                      "bgcolor": "white",
                      "lakecolor": "white",
                      "landcolor": "#E5ECF6",
                      "showlakes": true,
                      "showland": true,
                      "subunitcolor": "white"
                    },
                    "hoverlabel": {
                      "align": "left"
                    },
                    "hovermode": "closest",
                    "mapbox": {
                      "style": "light"
                    },
                    "paper_bgcolor": "white",
                    "plot_bgcolor": "#E5ECF6",
                    "polar": {
                      "angularaxis": {
                        "gridcolor": "white",
                        "linecolor": "white",
                        "ticks": ""
                      },
                      "bgcolor": "#E5ECF6",
                      "radialaxis": {
                        "gridcolor": "white",
                        "linecolor": "white",
                        "ticks": ""
                      }
                    },
                    "scene": {
                      "xaxis": {
                        "backgroundcolor": "#E5ECF6",
                        "gridcolor": "white",
                        "gridwidth": 2,
                        "linecolor": "white",
                        "showbackground": true,
                        "ticks": "",
                        "zerolinecolor": "white"
                      },
                      "yaxis": {
                        "backgroundcolor": "#E5ECF6",
                        "gridcolor": "white",
                        "gridwidth": 2,
                        "linecolor": "white",
                        "showbackground": true,
                        "ticks": "",
                        "zerolinecolor": "white"
                      },
                      "zaxis": {
                        "backgroundcolor": "#E5ECF6",
                        "gridcolor": "white",
                        "gridwidth": 2,
                        "linecolor": "white",
                        "showbackground": true,
                        "ticks": "",
                        "zerolinecolor": "white"
                      }
                    },
                    "shapedefaults": {
                      "line": {
                        "color": "#2a3f5f"
                      }
                    },
                    "ternary": {
                      "aaxis": {
                        "gridcolor": "white",
                        "linecolor": "white",
                        "ticks": ""
                      },
                      "baxis": {
                        "gridcolor": "white",
                        "linecolor": "white",
                        "ticks": ""
                      },
                      "bgcolor": "#E5ECF6",
                      "caxis": {
                        "gridcolor": "white",
                        "linecolor": "white",
                        "ticks": ""
                      }
                    },
                    "title": {
                      "x": 0.05
                    },
                    "xaxis": {
                      "automargin": true,
                      "gridcolor": "white",
                      "linecolor": "white",
                      "ticks": "",
                      "title": {
                        "standoff": 15
                      },
                      "zerolinecolor": "white",
                      "zerolinewidth": 2
                    },
                    "yaxis": {
                      "automargin": true,
                      "gridcolor": "white",
                      "linecolor": "white",
                      "ticks": "",
                      "title": {
                        "standoff": 15
                      },
                      "zerolinecolor": "white",
                      "zerolinewidth": 2
                    }
                  }
                },
                "title": {
                  "text": "Variable importance for songs with streams in the 50% percentile"
                },
                "xaxis": {
                  "title": {
                    "text": "Variable"
                  }
                },
                "yaxis": {
                  "title": {
                    "text": "Coeff. Weight"
                  }
                }
              }
            }
          },
          "metadata": {},
          "output_type": "display_data"
        }
      ],
      "source": [
        "plot_coeff_importance(popular_songs_coeff_importance, \"Variable importance for songs with streams in the 50% percentile\")"
      ]
    },
    {
      "cell_type": "markdown",
      "metadata": {},
      "source": [
        "g) Agrupa los 4 gráficos realizados en uno solo y haz una recomendación a un sello discográfico para producir un nuevo hit. **(1 puntos)**"
      ]
    },
    {
      "cell_type": "code",
      "execution_count": null,
      "metadata": {},
      "outputs": [
        {
          "data": {
            "application/vnd.plotly.v1+json": {
              "config": {
                "plotlyServerURL": "https://plot.ly"
              },
              "data": [
                {
                  "type": "box",
                  "xaxis": "x",
                  "y": [
                    141381703,
                    133716286,
                    140003974,
                    800840817,
                    303236322,
                    183706234,
                    725980112,
                    58149378,
                    95217315,
                    553634067,
                    505671438,
                    58255150,
                    1163093654,
                    496795686,
                    335222234,
                    363369738,
                    86444842,
                    52135248,
                    200647221,
                    78300654,
                    899183384,
                    61245289,
                    429829812,
                    127408954,
                    22581161,
                    52294266,
                    843957510,
                    999748277,
                    618990393,
                    188933502,
                    1355959075,
                    786181836,
                    176553476,
                    354495408,
                    2808096550,
                    1109433169,
                    1047101291,
                    570515054,
                    1647990401,
                    518745108,
                    107753850,
                    177740666,
                    153372011,
                    57876440,
                    256483385,
                    1214083358,
                    111947664,
                    156338624,
                    720434240,
                    357925728,
                    674072710,
                    404562836,
                    373199958,
                    14780425,
                    39578178,
                    54266102,
                    751134527,
                    1356565093,
                    635412045,
                    1230675890,
                    585695368,
                    43857627,
                    600976848,
                    39709092,
                    39228929,
                    2665343922,
                    223633238,
                    1440757818,
                    157058870,
                    95131998,
                    250305248,
                    685032533,
                    38411956,
                    144565150,
                    127567540,
                    399686758,
                    118482347,
                    882831184,
                    286400165,
                    172825906,
                    29562220,
                    77309611,
                    1116995633,
                    838079900,
                    1093605526,
                    179659294,
                    39058561,
                    36912123,
                    1791000570,
                    201660859,
                    248088961,
                    90839753,
                    607123776,
                    55842345,
                    211050784,
                    342897938,
                    2762,
                    601863821,
                    66902503,
                    96273746,
                    430977451,
                    284819874,
                    721975598,
                    276259178,
                    54225632,
                    681583126,
                    81102253,
                    11956641,
                    611700552,
                    1133865788,
                    411747614,
                    255932395,
                    31873544,
                    233801632,
                    1481349984,
                    142095275,
                    436027885,
                    621660989,
                    950906471,
                    1593270737,
                    1410088830,
                    1374581173,
                    94186466,
                    143573775,
                    684675814,
                    265882712,
                    841749534,
                    47956378,
                    806397070,
                    367316268,
                    350381515,
                    1264310836,
                    30343206,
                    405136812,
                    540654286,
                    57312735,
                    397582059,
                    86773632,
                    133753727,
                    123124076,
                    463564958,
                    64533040,
                    65496046,
                    68616963,
                    161460990,
                    70106975,
                    113509496,
                    89933133,
                    71007139,
                    43522589,
                    232896922,
                    37126685,
                    195576623,
                    532336353,
                    538115192,
                    46142772,
                    401036314,
                    127026613,
                    345031710,
                    288101651,
                    60350538,
                    335074782,
                    76767396,
                    46065667,
                    459276435,
                    39666245,
                    138517666,
                    822633917,
                    595900742,
                    51985779,
                    57945987,
                    115010040,
                    175097833,
                    57089066,
                    488386797,
                    32761689,
                    1047480053,
                    153454328,
                    217672943,
                    457184829,
                    726434358,
                    573633020,
                    1406111294,
                    71573339,
                    24975653,
                    145458418,
                    231332117,
                    415932686,
                    988515741,
                    50847624,
                    39893489,
                    92035115,
                    118810253,
                    77233241,
                    117747907,
                    266624541,
                    293186992,
                    139681964,
                    123132751,
                    103762518,
                    162887075,
                    91221625,
                    190490915,
                    96180277,
                    185240616,
                    885093467,
                    104992946,
                    147290338,
                    158950978,
                    76910644,
                    137123880,
                    782369383,
                    502574952,
                    207033255,
                    381161027,
                    466231982,
                    357580552,
                    61105704,
                    198275403,
                    705469769,
                    34502215,
                    304118600,
                    1449799467,
                    173627354,
                    90025258,
                    652704649,
                    146409671,
                    95816024,
                    117206995,
                    100409613,
                    80758350,
                    325592432,
                    58473276,
                    52722996,
                    191945597,
                    77377503,
                    743693613,
                    267789608,
                    449701773,
                    67070410,
                    116334601,
                    165584767,
                    367814306,
                    477033549,
                    156214700,
                    448843705,
                    294352144,
                    972164968,
                    920045682,
                    244658767,
                    68216992,
                    223582566,
                    471819764,
                    116599790,
                    148469433,
                    497225336,
                    88791109,
                    125917280,
                    105062254,
                    95623148,
                    144584800,
                    298063749,
                    166570053,
                    83021468,
                    139836056,
                    303216294,
                    221409663,
                    58890931,
                    81419389,
                    156777415,
                    284908316,
                    93438910,
                    363472647,
                    372476382,
                    56533272,
                    175399345,
                    203221468,
                    134294498,
                    70069745,
                    609293408,
                    671365962,
                    93587665,
                    1223481149,
                    1022258230,
                    263453310,
                    1435127549,
                    236857112,
                    147538971,
                    698086140,
                    723894473,
                    403097450,
                    309483971,
                    319566866,
                    909001996,
                    1061966512,
                    124988687,
                    134255790,
                    301051721,
                    156338624,
                    309653982,
                    297328960,
                    332506354,
                    480507035,
                    1065580332,
                    122763672,
                    1365184,
                    184308753,
                    606361689,
                    120972253,
                    338564981,
                    1301799902,
                    140187018,
                    107642809,
                    556585270,
                    646886885,
                    872137015,
                    571386359,
                    174006928,
                    284785823,
                    163284000,
                    246390068,
                    482257456,
                    168684524,
                    78489819,
                    195516622,
                    1260594497,
                    428685680,
                    1024858327,
                    838586769,
                    199386237,
                    972509632,
                    213438580,
                    210038833,
                    227918678,
                    826623384,
                    1802514301,
                    181831132,
                    462791599,
                    348647203,
                    90598517,
                    807561936,
                    663832097,
                    446390129,
                    485285717,
                    520034544,
                    476244795,
                    629173063,
                    404664135,
                    98709329,
                    110849052,
                    460492795,
                    94005786,
                    389771964,
                    403939487,
                    110073250,
                    351636786,
                    473248298,
                    73981293,
                    155653938,
                    395591396,
                    429504768,
                    242767149,
                    65362788,
                    67540165,
                    62019074,
                    295998468,
                    136689549,
                    135611421,
                    356709897,
                    110649992,
                    301869854,
                    127027715,
                    57144458,
                    56870689,
                    323437194,
                    317726339,
                    116144341,
                    328207708,
                    608228647,
                    180577478,
                    809306935,
                    49262961,
                    614555082,
                    245350949,
                    178660459,
                    51641685,
                    78139948,
                    322336177,
                    391251368,
                    349585590,
                    674772936,
                    119238316,
                    116903579,
                    888046992,
                    130655803,
                    88103848,
                    101114984,
                    1575467011,
                    91656026,
                    53933526,
                    267758538,
                    74601456,
                    920797189,
                    539595276,
                    1367810478,
                    578207856,
                    775542072,
                    656013912,
                    240684449,
                    63803529,
                    466214729,
                    236940480,
                    41924466,
                    225259194,
                    393230256,
                    287201015,
                    599770206,
                    342779426,
                    673801126,
                    1168642797,
                    383550148,
                    530511203,
                    510876816,
                    1763363713,
                    374191487,
                    108809090,
                    436695353,
                    354065229,
                    1143647827,
                    311395144,
                    672656250,
                    1256880657,
                    245095641,
                    686734357,
                    261414174,
                    610045621,
                    1115880852,
                    594482982,
                    566954746,
                    184937148,
                    31959571,
                    824420218,
                    363467642,
                    1127468248,
                    60680939,
                    247737946,
                    154797871,
                    124407432,
                    850608354,
                    376333030,
                    516784627,
                    1608045237,
                    506778838,
                    513643924,
                    261286503,
                    783706581,
                    422691058,
                    1062345656,
                    851070493,
                    263894529,
                    345903614,
                    427486004,
                    156658366,
                    624515457,
                    777765388,
                    1138474110,
                    355219175,
                    290228626,
                    1062956628,
                    1180094974,
                    432702334,
                    489945871,
                    465959382,
                    1223481149,
                    2288695111,
                    720825549,
                    593917618,
                    200972675,
                    71014967,
                    560222750,
                    77337771,
                    528544703,
                    865640097,
                    211372494,
                    651732901,
                    608334048,
                    863756573,
                    797402345,
                    223319934,
                    54937991,
                    258316038,
                    596152090,
                    177129919,
                    716591492,
                    246376690,
                    496311364,
                    500340342,
                    107255472,
                    135079152,
                    822239726,
                    343197054,
                    240769997,
                    426204830,
                    421135627,
                    554875730,
                    327498031,
                    185408548,
                    245400167,
                    252871192,
                    231996128,
                    1180896317,
                    498960285,
                    258714692,
                    143139338,
                    209768491,
                    64714573,
                    50746620,
                    154119539,
                    181328253,
                    370068639,
                    563902868,
                    317622165,
                    203680270,
                    81350745,
                    282883169,
                    64787943,
                    461437791,
                    1439191367,
                    759208783,
                    299634472,
                    756907987,
                    682475162,
                    546191065,
                    229473310,
                    202677468,
                    208166039,
                    527033089,
                    94616487,
                    394030335,
                    193443895,
                    299648208,
                    319757142,
                    153240879,
                    346127840,
                    312622938,
                    1200808494,
                    797196073,
                    665765558,
                    263779030,
                    339473453,
                    135444283,
                    236872197,
                    694525298,
                    421365166,
                    349746291,
                    255120451,
                    190981339,
                    924193303,
                    305771063,
                    273005485,
                    89566512,
                    677389855,
                    75476209,
                    408843328,
                    187772591,
                    178512385,
                    101780047,
                    146363130,
                    126443991,
                    157990698,
                    176290831,
                    1023187129,
                    106933107,
                    139193812,
                    212234990,
                    197643795,
                    807015863,
                    499710590,
                    120847157,
                    53909146,
                    301242089,
                    723894473,
                    237351106,
                    461558540,
                    156898322,
                    127309180,
                    173702135,
                    305650299,
                    123216717,
                    479655659,
                    126191104,
                    344055883,
                    338422004,
                    68895644,
                    86176890,
                    403231558,
                    319546754,
                    61739839,
                    283359161,
                    76831876,
                    283332261,
                    307752576,
                    279737940,
                    212351890,
                    1304313953,
                    150500965,
                    246127838,
                    582863434,
                    58687425,
                    212109195,
                    382199619,
                    41210087,
                    231657891,
                    53729194,
                    244741137,
                    42485571,
                    37778188,
                    254218729,
                    53603447,
                    160035717,
                    37091576,
                    284249832,
                    33381454,
                    184622518,
                    300983101,
                    121077868,
                    106919680,
                    136996305,
                    65719930,
                    229497852,
                    185550869,
                    54682594,
                    240580042,
                    1284942608,
                    71423324,
                    244891912,
                    132171975,
                    184706613,
                    184826429,
                    302006641,
                    330881149,
                    334733572,
                    366214458,
                    114546317,
                    448500832,
                    136676504,
                    190625045,
                    79095270,
                    273194684,
                    333146475,
                    194902696,
                    195918494,
                    248511839,
                    233671263,
                    199587884,
                    91781263,
                    383835984,
                    236060709,
                    189236868,
                    160845341,
                    588955257,
                    238350348,
                    187703102,
                    138334433,
                    445590495,
                    286739476,
                    1122364376,
                    157136970,
                    183273246,
                    164856284,
                    704171068,
                    354614964,
                    279717388,
                    195628667,
                    221752937,
                    263280370,
                    213505179,
                    130419412,
                    155795783,
                    293466523,
                    191448892,
                    85924992,
                    176103902,
                    121189256,
                    131746175,
                    244790012,
                    129314708,
                    331511413,
                    170732845,
                    179061440,
                    185236961,
                    171788484,
                    387080183,
                    264717480,
                    244928911,
                    97610446,
                    287278853,
                    123473120,
                    323455692,
                    240918092,
                    191873381,
                    239411309,
                    703301727,
                    189476119,
                    277132266,
                    278920007,
                    222410722,
                    185392587,
                    202452860,
                    624101957,
                    148461629,
                    47093942,
                    380319238,
                    209106362,
                    53987404,
                    115331792,
                    225093344,
                    84697729,
                    159240673,
                    170709584,
                    154356956,
                    723043854,
                    247689123,
                    176474912,
                    235549288,
                    85559365,
                    146223492,
                    187701588,
                    154863153,
                    191333656,
                    253650850,
                    223064273,
                    170413877,
                    218320587,
                    141720999,
                    198365537,
                    177503916,
                    71095708,
                    112436403,
                    203436468,
                    93367537,
                    106249219,
                    181382590,
                    91473363,
                    121871870,
                    73513683,
                    133895612,
                    96007391
                  ],
                  "yaxis": "y"
                },
                {
                  "colorscale": [
                    [
                      0,
                      "rgb(103,0,31)"
                    ],
                    [
                      0.1,
                      "rgb(178,24,43)"
                    ],
                    [
                      0.2,
                      "rgb(214,96,77)"
                    ],
                    [
                      0.3,
                      "rgb(244,165,130)"
                    ],
                    [
                      0.4,
                      "rgb(253,219,199)"
                    ],
                    [
                      0.5,
                      "rgb(247,247,247)"
                    ],
                    [
                      0.6,
                      "rgb(209,229,240)"
                    ],
                    [
                      0.7,
                      "rgb(146,197,222)"
                    ],
                    [
                      0.8,
                      "rgb(67,147,195)"
                    ],
                    [
                      0.9,
                      "rgb(33,102,172)"
                    ],
                    [
                      1,
                      "rgb(5,48,97)"
                    ]
                  ],
                  "type": "heatmap",
                  "x": [
                    "artist_count",
                    "released_year",
                    "released_month",
                    "released_day",
                    "in_spotify_playlists",
                    "in_spotify_charts",
                    "streams",
                    "in_apple_playlists",
                    "in_apple_charts",
                    "in_deezer_playlists",
                    "in_deezer_charts",
                    "in_shazam_charts",
                    "bpm",
                    "danceability_%",
                    "valence_%",
                    "energy_%",
                    "acousticness_%",
                    "instrumentalness_%",
                    "liveness_%",
                    "speechiness_%"
                  ],
                  "xaxis": "x2",
                  "y": [
                    "artist_count",
                    "released_year",
                    "released_month",
                    "released_day",
                    "in_spotify_playlists",
                    "in_spotify_charts",
                    "streams",
                    "in_apple_playlists",
                    "in_apple_charts",
                    "in_deezer_playlists",
                    "in_deezer_charts",
                    "in_shazam_charts",
                    "bpm",
                    "danceability_%",
                    "valence_%",
                    "energy_%",
                    "acousticness_%",
                    "instrumentalness_%",
                    "liveness_%",
                    "speechiness_%"
                  ],
                  "yaxis": "y2",
                  "z": [
                    [
                      null,
                      null,
                      null,
                      null,
                      null,
                      null,
                      null,
                      null,
                      null,
                      null,
                      null,
                      null,
                      null,
                      null,
                      null,
                      null,
                      null,
                      null,
                      null,
                      null
                    ],
                    [
                      0.04927330132590414,
                      null,
                      null,
                      null,
                      null,
                      null,
                      null,
                      null,
                      null,
                      null,
                      null,
                      null,
                      null,
                      null,
                      null,
                      null,
                      null,
                      null,
                      null,
                      null
                    ],
                    [
                      0.010587457482149723,
                      0.03586897011822529,
                      null,
                      null,
                      null,
                      null,
                      null,
                      null,
                      null,
                      null,
                      null,
                      null,
                      null,
                      null,
                      null,
                      null,
                      null,
                      null,
                      null,
                      null
                    ],
                    [
                      -0.03393258734811065,
                      0.15150853952147902,
                      -0.025010094698227146,
                      null,
                      null,
                      null,
                      null,
                      null,
                      null,
                      null,
                      null,
                      null,
                      null,
                      null,
                      null,
                      null,
                      null,
                      null,
                      null,
                      null
                    ],
                    [
                      -0.06219780774954578,
                      -0.3034243886005868,
                      -0.018559241072928626,
                      -0.036490092334225344,
                      null,
                      null,
                      null,
                      null,
                      null,
                      null,
                      null,
                      null,
                      null,
                      null,
                      null,
                      null,
                      null,
                      null,
                      null,
                      null
                    ],
                    [
                      -0.007251861126875962,
                      0.11283450767508821,
                      -0.018389781723823276,
                      0.06286060290062824,
                      0.15477455469517742,
                      null,
                      null,
                      null,
                      null,
                      null,
                      null,
                      null,
                      null,
                      null,
                      null,
                      null,
                      null,
                      null,
                      null,
                      null
                    ],
                    [
                      -0.09241030972193223,
                      -0.13415398574444404,
                      0.04877051169493186,
                      0.0354508696549114,
                      0.7598291067974515,
                      0.2312271926144386,
                      null,
                      null,
                      null,
                      null,
                      null,
                      null,
                      null,
                      null,
                      null,
                      null,
                      null,
                      null,
                      null,
                      null
                    ],
                    [
                      -0.004404744126791882,
                      -0.14391280786324884,
                      -0.0029445756136009405,
                      0.008840893068736987,
                      0.7073001176991558,
                      0.2243267411586285,
                      0.6680790861339868,
                      null,
                      null,
                      null,
                      null,
                      null,
                      null,
                      null,
                      null,
                      null,
                      null,
                      null,
                      null,
                      null
                    ],
                    [
                      -0.07799550128032726,
                      0.022575905407705488,
                      -0.005455169400152868,
                      0.012936737893709424,
                      0.1998311330647551,
                      0.5771884895410746,
                      0.24112080995693724,
                      0.3227586068901916,
                      null,
                      null,
                      null,
                      null,
                      null,
                      null,
                      null,
                      null,
                      null,
                      null,
                      null,
                      null
                    ],
                    [
                      -0.0676355188265989,
                      -0.2406273512225325,
                      -0.044833483297026994,
                      -0.02790345965146843,
                      0.7884516749137768,
                      0.12054168369459194,
                      0.7131194631249653,
                      0.6681673939726611,
                      0.1943661045870029,
                      null,
                      null,
                      null,
                      null,
                      null,
                      null,
                      null,
                      null,
                      null,
                      null,
                      null
                    ],
                    [
                      0.016567600777165903,
                      0.10244153439138168,
                      0.0036241234518512282,
                      0.06662371111843347,
                      0.20676023430528834,
                      0.5687384241735521,
                      0.27271599647990563,
                      0.41517392782715784,
                      0.3675133361351976,
                      0.22560671698302026,
                      null,
                      null,
                      null,
                      null,
                      null,
                      null,
                      null,
                      null,
                      null,
                      null
                    ],
                    [
                      -0.046388239334160676,
                      0.07157343619469841,
                      -0.0859751960654631,
                      0.0589315551325305,
                      0.08699190641247644,
                      0.6086949290722791,
                      0.034056615606229884,
                      0.1857194609559955,
                      0.4595669754514973,
                      0.10541968921773259,
                      0.38805931471874755,
                      null,
                      null,
                      null,
                      null,
                      null,
                      null,
                      null,
                      null,
                      null
                    ],
                    [
                      -0.06605729382931702,
                      -0.04170113799542078,
                      -0.05590751121885043,
                      -0.04524121058580666,
                      0.015421034926179626,
                      0.02407070473844378,
                      0.0188674040858074,
                      0.035253613824552596,
                      0.04338187284786724,
                      0.03315480645055639,
                      0.02174311726608373,
                      0.08702896129433778,
                      null,
                      null,
                      null,
                      null,
                      null,
                      null,
                      null,
                      null
                    ],
                    [
                      0.20526874103597448,
                      0.21355431460544597,
                      -0.05812593286623915,
                      0.08164465473927977,
                      -0.10906362853093574,
                      0.07732142907009905,
                      -0.07976166564027487,
                      0.0011876011244758965,
                      -0.02340686403037293,
                      -0.10698364308428703,
                      0.08513958923296229,
                      -0.016690798613944742,
                      -0.14030297359583768,
                      null,
                      null,
                      null,
                      null,
                      null,
                      null,
                      null
                    ],
                    [
                      0.1167333583795344,
                      -0.05665697650607287,
                      -0.11954288359956639,
                      0.07579993058792887,
                      -0.07546167781444904,
                      0.05379767856217997,
                      -0.0779795674035139,
                      0.03241933311444209,
                      0.04725926230054969,
                      -0.05171730978002559,
                      0.0637444560770262,
                      -0.01983310802220615,
                      0.046311442198768205,
                      0.38083058829731276,
                      null,
                      null,
                      null,
                      null,
                      null,
                      null
                    ],
                    [
                      0.1373454036053918,
                      0.13816158193750636,
                      -0.07957749321296284,
                      0.055483936508630614,
                      -0.07426901767324698,
                      0.11236552040340725,
                      -0.06313417469133051,
                      0.05263316748994974,
                      0.1503059658754129,
                      -0.040265256179873615,
                      0.11136854209797327,
                      0.08761907017331357,
                      0.0011068353418498683,
                      0.15810118027163025,
                      0.3427929067822419,
                      null,
                      null,
                      null,
                      null,
                      null
                    ],
                    [
                      -0.09195007430742558,
                      -0.19632767784518368,
                      0.02399519519945034,
                      -0.011116168897395065,
                      0.031512462046702515,
                      -0.07545442228712342,
                      0.016240317569408223,
                      -0.0725291500826974,
                      -0.1051485474148398,
                      0.04192121980980569,
                      -0.03623939133073688,
                      -0.06415725865847562,
                      -0.0014216146128300203,
                      -0.24269512387380665,
                      -0.04911503735231236,
                      -0.5382625556436526,
                      null,
                      null,
                      null,
                      null
                    ],
                    [
                      -0.05918627001082179,
                      -0.02058554757714588,
                      0.028779122537547247,
                      0.00747461736276578,
                      0.010579918041114699,
                      -0.01277077481329308,
                      0.00628695469171519,
                      -0.05372091343402297,
                      -0.00660949533827521,
                      0.028701623441587568,
                      -0.01826747533437727,
                      -0.010862535253449868,
                      -0.0024641172880645002,
                      -0.10869338135762842,
                      -0.14631821682315307,
                      -0.04101017482879475,
                      0.03131791701851305,
                      null,
                      null,
                      null
                    ],
                    [
                      0.027180241399187618,
                      -0.0007945143101329903,
                      -0.006054615541745565,
                      -0.020411567195803337,
                      -0.023879128631461684,
                      -0.02421908002386251,
                      -0.035098843308234956,
                      -0.05510905795122231,
                      0.00035445111034150133,
                      0.014455146046564267,
                      0.004842242101590784,
                      -0.04193057820878333,
                      -0.008703032718461122,
                      -0.11286369982167246,
                      0.0048367063577689365,
                      0.109478090916373,
                      -0.031166686694612717,
                      -0.04832864375175978,
                      null,
                      null
                    ],
                    [
                      0.13118854446286557,
                      0.12778624349342443,
                      0.035777923416387455,
                      -0.015718807349087233,
                      -0.06963921576714292,
                      -0.09901109560274451,
                      -0.08571161476320285,
                      -0.09766600434222368,
                      -0.1575959988481936,
                      -0.10940538797556908,
                      -0.07879998899957107,
                      -0.09130085207712742,
                      0.03525614503581146,
                      0.1900254435165793,
                      0.038379010283365746,
                      -0.036593907162520756,
                      -0.020206509462957645,
                      -0.09236361371113912,
                      -0.036721677811583926,
                      null
                    ]
                  ],
                  "zmax": 1,
                  "zmin": -1
                },
                {
                  "name": "One song",
                  "type": "histogram",
                  "x": [
                    133716286,
                    140003974,
                    800840817,
                    303236322,
                    58149378,
                    95217315,
                    58255150,
                    1163093654,
                    496795686,
                    363369738,
                    52135248,
                    78300654,
                    429829812,
                    127408954,
                    22581161,
                    999748277,
                    1355959075,
                    786181836,
                    176553476,
                    570515054,
                    1647990401,
                    153372011,
                    57876440,
                    256483385,
                    1214083358,
                    404562836,
                    373199958,
                    14780425,
                    39578178,
                    751134527,
                    635412045,
                    43857627,
                    39228929,
                    157058870,
                    95131998,
                    685032533,
                    38411956,
                    127567540,
                    399686758,
                    118482347,
                    882831184,
                    172825906,
                    29562220,
                    77309611,
                    1116995633,
                    838079900,
                    179659294,
                    36912123,
                    1791000570,
                    201660859,
                    607123776,
                    342897938,
                    601863821,
                    96273746,
                    430977451,
                    284819874,
                    681583126,
                    411747614,
                    255932395,
                    31873544,
                    1481349984,
                    621660989,
                    950906471,
                    1593270737,
                    1410088830,
                    1374581173,
                    143573775,
                    684675814,
                    265882712,
                    841749534,
                    47956378,
                    806397070,
                    350381515,
                    1264310836,
                    30343206,
                    405136812,
                    540654286,
                    397582059,
                    123124076,
                    65496046,
                    68616963,
                    232896922,
                    195576623,
                    345031710,
                    335074782,
                    76767396,
                    459276435,
                    822633917,
                    595900742,
                    175097833,
                    488386797,
                    1047480053,
                    153454328,
                    217672943,
                    457184829,
                    726434358,
                    1406111294,
                    145458418,
                    415932686,
                    988515741,
                    39893489,
                    118810253,
                    117747907,
                    293186992,
                    139681964,
                    123132751,
                    103762518,
                    91221625,
                    190490915,
                    185240616,
                    885093467,
                    137123880,
                    782369383,
                    502574952,
                    381161027,
                    466231982,
                    357580552,
                    1449799467,
                    173627354,
                    117206995,
                    52722996,
                    191945597,
                    743693613,
                    267789608,
                    449701773,
                    67070410,
                    165584767,
                    367814306,
                    156214700,
                    448843705,
                    972164968,
                    920045682,
                    244658767,
                    68216992,
                    148469433,
                    88791109,
                    125917280,
                    95623148,
                    144584800,
                    298063749,
                    166570053,
                    83021468,
                    303216294,
                    81419389,
                    156777415,
                    284908316,
                    363472647,
                    372476382,
                    56533272,
                    175399345,
                    203221468,
                    134294498,
                    70069745,
                    671365962,
                    1022258230,
                    147538971,
                    698086140,
                    723894473,
                    403097450,
                    319566866,
                    909001996,
                    124988687,
                    134255790,
                    301051721,
                    156338624,
                    309653982,
                    297328960,
                    332506354,
                    480507035,
                    122763672,
                    338564981,
                    1301799902,
                    107642809,
                    646886885,
                    872137015,
                    571386359,
                    284785823,
                    163284000,
                    246390068,
                    482257456,
                    168684524,
                    1260594497,
                    428685680,
                    1024858327,
                    838586769,
                    199386237,
                    210038833,
                    227918678,
                    826623384,
                    181831132,
                    348647203,
                    807561936,
                    663832097,
                    446390129,
                    485285717,
                    520034544,
                    476244795,
                    629173063,
                    404664135,
                    98709329,
                    110849052,
                    389771964,
                    403939487,
                    351636786,
                    73981293,
                    429504768,
                    242767149,
                    65362788,
                    67540165,
                    62019074,
                    135611421,
                    356709897,
                    301869854,
                    127027715,
                    57144458,
                    56870689,
                    317726339,
                    328207708,
                    49262961,
                    245350949,
                    178660459,
                    51641685,
                    391251368,
                    119238316,
                    116903579,
                    888046992,
                    130655803,
                    101114984,
                    53933526,
                    267758538,
                    74601456,
                    920797189,
                    1367810478,
                    63803529,
                    466214729,
                    41924466,
                    225259194,
                    287201015,
                    599770206,
                    342779426,
                    1168642797,
                    510876816,
                    108809090,
                    1143647827,
                    1256880657,
                    245095641,
                    31959571,
                    824420218,
                    363467642,
                    1127468248,
                    247737946,
                    124407432,
                    850608354,
                    376333030,
                    516784627,
                    1608045237,
                    506778838,
                    513643924,
                    783706581,
                    1062345656,
                    851070493,
                    345903614,
                    156658366,
                    624515457,
                    777765388,
                    1138474110,
                    290228626,
                    1062956628,
                    1180094974,
                    432702334,
                    465959382,
                    2288695111,
                    71014967,
                    77337771,
                    865640097,
                    211372494,
                    608334048,
                    797402345,
                    246376690,
                    496311364,
                    500340342,
                    822239726,
                    343197054,
                    240769997,
                    421135627,
                    554875730,
                    185408548,
                    231996128,
                    498960285,
                    258714692,
                    50746620,
                    154119539,
                    181328253,
                    370068639,
                    563902868,
                    317622165,
                    203680270,
                    282883169,
                    1439191367,
                    682475162,
                    546191065,
                    229473310,
                    202677468,
                    527033089,
                    394030335,
                    193443895,
                    299648208,
                    319757142,
                    346127840,
                    312622938,
                    1200808494,
                    797196073,
                    665765558,
                    263779030,
                    339473453,
                    135444283,
                    694525298,
                    421365166,
                    255120451,
                    190981339,
                    924193303,
                    305771063,
                    89566512,
                    677389855,
                    408843328,
                    101780047,
                    146363130,
                    126443991,
                    157990698,
                    1023187129,
                    139193812,
                    212234990,
                    807015863,
                    499710590,
                    53909146,
                    301242089,
                    723894473,
                    461558540,
                    156898322,
                    173702135,
                    305650299,
                    126191104,
                    338422004,
                    403231558,
                    61739839,
                    283359161,
                    283332261,
                    279737940,
                    212351890,
                    150500965,
                    246127838,
                    582863434,
                    382199619,
                    41210087,
                    231657891,
                    53729194,
                    244741137,
                    42485571,
                    37778188,
                    254218729,
                    53603447,
                    160035717,
                    37091576,
                    136996305,
                    65719930,
                    229497852,
                    185550869,
                    54682594,
                    1284942608,
                    71423324,
                    244891912,
                    132171975,
                    184706613,
                    184826429,
                    302006641,
                    330881149,
                    334733572,
                    366214458,
                    114546317,
                    448500832,
                    79095270,
                    273194684,
                    195918494,
                    233671263,
                    199587884,
                    91781263,
                    236060709,
                    189236868,
                    588955257,
                    238350348,
                    187703102,
                    445590495,
                    1122364376,
                    157136970,
                    183273246,
                    164856284,
                    704171068,
                    354614964,
                    195628667,
                    221752937,
                    263280370,
                    213505179,
                    155795783,
                    293466523,
                    191448892,
                    131746175,
                    244790012,
                    331511413,
                    179061440,
                    185236961,
                    171788484,
                    387080183,
                    264717480,
                    244928911,
                    97610446,
                    239411309,
                    703301727,
                    189476119,
                    277132266,
                    278920007,
                    222410722,
                    185392587,
                    202452860,
                    624101957,
                    148461629,
                    380319238,
                    53987404,
                    115331792,
                    225093344,
                    170709584,
                    154356956,
                    723043854,
                    247689123,
                    176474912,
                    235549288,
                    85559365,
                    253650850,
                    223064273,
                    218320587,
                    177503916,
                    203436468,
                    93367537,
                    181382590,
                    91473363,
                    121871870,
                    96007391
                  ],
                  "xaxis": "x3",
                  "yaxis": "y3"
                },
                {
                  "name": "Multiple songs",
                  "type": "histogram",
                  "x": [
                    133716286,
                    140003974,
                    800840817,
                    303236322,
                    58149378,
                    95217315,
                    58255150,
                    1163093654,
                    496795686,
                    363369738,
                    52135248,
                    78300654,
                    429829812,
                    127408954,
                    22581161,
                    999748277,
                    1355959075,
                    786181836,
                    176553476,
                    570515054,
                    1647990401,
                    153372011,
                    57876440,
                    256483385,
                    1214083358,
                    404562836,
                    373199958,
                    14780425,
                    39578178,
                    751134527,
                    635412045,
                    43857627,
                    39228929,
                    157058870,
                    95131998,
                    685032533,
                    38411956,
                    127567540,
                    399686758,
                    118482347,
                    882831184,
                    172825906,
                    29562220,
                    77309611,
                    1116995633,
                    838079900,
                    179659294,
                    36912123,
                    1791000570,
                    201660859,
                    607123776,
                    342897938,
                    601863821,
                    96273746,
                    430977451,
                    284819874,
                    681583126,
                    411747614,
                    255932395,
                    31873544,
                    1481349984,
                    621660989,
                    950906471,
                    1593270737,
                    1410088830,
                    1374581173,
                    143573775,
                    684675814,
                    265882712,
                    841749534,
                    47956378,
                    806397070,
                    350381515,
                    1264310836,
                    30343206,
                    405136812,
                    540654286,
                    397582059,
                    123124076,
                    65496046,
                    68616963,
                    232896922,
                    195576623,
                    345031710,
                    335074782,
                    76767396,
                    459276435,
                    822633917,
                    595900742,
                    175097833,
                    488386797,
                    1047480053,
                    153454328,
                    217672943,
                    457184829,
                    726434358,
                    1406111294,
                    145458418,
                    415932686,
                    988515741,
                    39893489,
                    118810253,
                    117747907,
                    293186992,
                    139681964,
                    123132751,
                    103762518,
                    91221625,
                    190490915,
                    185240616,
                    885093467,
                    137123880,
                    782369383,
                    502574952,
                    381161027,
                    466231982,
                    357580552,
                    1449799467,
                    173627354,
                    117206995,
                    52722996,
                    191945597,
                    743693613,
                    267789608,
                    449701773,
                    67070410,
                    165584767,
                    367814306,
                    156214700,
                    448843705,
                    972164968,
                    920045682,
                    244658767,
                    68216992,
                    148469433,
                    88791109,
                    125917280,
                    95623148,
                    144584800,
                    298063749,
                    166570053,
                    83021468,
                    303216294,
                    81419389,
                    156777415,
                    284908316,
                    363472647,
                    372476382,
                    56533272,
                    175399345,
                    203221468,
                    134294498,
                    70069745,
                    671365962,
                    1022258230,
                    147538971,
                    698086140,
                    723894473,
                    403097450,
                    319566866,
                    909001996,
                    124988687,
                    134255790,
                    301051721,
                    156338624,
                    309653982,
                    297328960,
                    332506354,
                    480507035,
                    122763672,
                    338564981,
                    1301799902,
                    107642809,
                    646886885,
                    872137015,
                    571386359,
                    284785823,
                    163284000,
                    246390068,
                    482257456,
                    168684524,
                    1260594497,
                    428685680,
                    1024858327,
                    838586769,
                    199386237,
                    210038833,
                    227918678,
                    826623384,
                    181831132,
                    348647203,
                    807561936,
                    663832097,
                    446390129,
                    485285717,
                    520034544,
                    476244795,
                    629173063,
                    404664135,
                    98709329,
                    110849052,
                    389771964,
                    403939487,
                    351636786,
                    73981293,
                    429504768,
                    242767149,
                    65362788,
                    67540165,
                    62019074,
                    135611421,
                    356709897,
                    301869854,
                    127027715,
                    57144458,
                    56870689,
                    317726339,
                    328207708,
                    49262961,
                    245350949,
                    178660459,
                    51641685,
                    391251368,
                    119238316,
                    116903579,
                    888046992,
                    130655803,
                    101114984,
                    53933526,
                    267758538,
                    74601456,
                    920797189,
                    1367810478,
                    63803529,
                    466214729,
                    41924466,
                    225259194,
                    287201015,
                    599770206,
                    342779426,
                    1168642797,
                    510876816,
                    108809090,
                    1143647827,
                    1256880657,
                    245095641,
                    31959571,
                    824420218,
                    363467642,
                    1127468248,
                    247737946,
                    124407432,
                    850608354,
                    376333030,
                    516784627,
                    1608045237,
                    506778838,
                    513643924,
                    783706581,
                    1062345656,
                    851070493,
                    345903614,
                    156658366,
                    624515457,
                    777765388,
                    1138474110,
                    290228626,
                    1062956628,
                    1180094974,
                    432702334,
                    465959382,
                    2288695111,
                    71014967,
                    77337771,
                    865640097,
                    211372494,
                    608334048,
                    797402345,
                    246376690,
                    496311364,
                    500340342,
                    822239726,
                    343197054,
                    240769997,
                    421135627,
                    554875730,
                    185408548,
                    231996128,
                    498960285,
                    258714692,
                    50746620,
                    154119539,
                    181328253,
                    370068639,
                    563902868,
                    317622165,
                    203680270,
                    282883169,
                    1439191367,
                    682475162,
                    546191065,
                    229473310,
                    202677468,
                    527033089,
                    394030335,
                    193443895,
                    299648208,
                    319757142,
                    346127840,
                    312622938,
                    1200808494,
                    797196073,
                    665765558,
                    263779030,
                    339473453,
                    135444283,
                    694525298,
                    421365166,
                    255120451,
                    190981339,
                    924193303,
                    305771063,
                    89566512,
                    677389855,
                    408843328,
                    101780047,
                    146363130,
                    126443991,
                    157990698,
                    1023187129,
                    139193812,
                    212234990,
                    807015863,
                    499710590,
                    53909146,
                    301242089,
                    723894473,
                    461558540,
                    156898322,
                    173702135,
                    305650299,
                    126191104,
                    338422004,
                    403231558,
                    61739839,
                    283359161,
                    283332261,
                    279737940,
                    212351890,
                    150500965,
                    246127838,
                    582863434,
                    382199619,
                    41210087,
                    231657891,
                    53729194,
                    244741137,
                    42485571,
                    37778188,
                    254218729,
                    53603447,
                    160035717,
                    37091576,
                    136996305,
                    65719930,
                    229497852,
                    185550869,
                    54682594,
                    1284942608,
                    71423324,
                    244891912,
                    132171975,
                    184706613,
                    184826429,
                    302006641,
                    330881149,
                    334733572,
                    366214458,
                    114546317,
                    448500832,
                    79095270,
                    273194684,
                    195918494,
                    233671263,
                    199587884,
                    91781263,
                    236060709,
                    189236868,
                    588955257,
                    238350348,
                    187703102,
                    445590495,
                    1122364376,
                    157136970,
                    183273246,
                    164856284,
                    704171068,
                    354614964,
                    195628667,
                    221752937,
                    263280370,
                    213505179,
                    155795783,
                    293466523,
                    191448892,
                    131746175,
                    244790012,
                    331511413,
                    179061440,
                    185236961,
                    171788484,
                    387080183,
                    264717480,
                    244928911,
                    97610446,
                    239411309,
                    703301727,
                    189476119,
                    277132266,
                    278920007,
                    222410722,
                    185392587,
                    202452860,
                    624101957,
                    148461629,
                    380319238,
                    53987404,
                    115331792,
                    225093344,
                    170709584,
                    154356956,
                    723043854,
                    247689123,
                    176474912,
                    235549288,
                    85559365,
                    253650850,
                    223064273,
                    218320587,
                    177503916,
                    203436468,
                    93367537,
                    181382590,
                    91473363,
                    121871870,
                    96007391
                  ],
                  "xaxis": "x3",
                  "yaxis": "y3"
                },
                {
                  "marker": {
                    "color": "blue"
                  },
                  "type": "bar",
                  "width": [
                    0.65,
                    0.65,
                    0.65,
                    0.65,
                    0.65,
                    0.65,
                    0.65,
                    0.65,
                    0.65,
                    0.65,
                    0.65,
                    0.65,
                    0.65,
                    0.65,
                    0.65,
                    0.65,
                    0.65,
                    0.65,
                    0.65,
                    0.65,
                    0.65,
                    0.65,
                    0.65,
                    0.65,
                    0.65,
                    0.65,
                    0.65,
                    0.65,
                    0.65,
                    0.65,
                    0.65,
                    0.65
                  ],
                  "x": [
                    "in_deezer_playlists",
                    "in_spotify_playlists",
                    "in_apple_playlists",
                    "in_spotify_charts",
                    "released_year",
                    "bpm",
                    "acousticness_%",
                    "in_shazam_charts",
                    "liveness_%",
                    "valence_%",
                    "speechiness_%",
                    "released_month",
                    "in_apple_charts",
                    "energy_%",
                    "danceability_%",
                    "released_day",
                    "in_deezer_charts",
                    "artist_count",
                    "dummy_C#",
                    "dummy_B",
                    "dummy_G",
                    "instrumentalness_%",
                    "dummy_Major",
                    "dummy_F#",
                    "dummy_Minor",
                    "dummy_A#",
                    "dummy_D#",
                    "dummy_A",
                    "dummy_G#",
                    "dummy_F",
                    "dummy_E",
                    "dummy_D"
                  ],
                  "xaxis": "x4",
                  "y": [
                    0.29570999436665535,
                    0.2780158081437964,
                    0.07607539198345069,
                    0.06575015929612053,
                    0.046264944604299044,
                    0.03647465466621164,
                    0.020400132956137174,
                    0.019869342099259987,
                    0.019348316396846556,
                    0.01825760625129771,
                    0.017744406522644838,
                    0.01689240503716064,
                    0.016138209181241987,
                    0.015666223376634352,
                    0.013700626337234656,
                    0.013419032681267373,
                    0.009019372210364793,
                    0.003222138117944649,
                    0.0020106071023221405,
                    0.0018593887485610604,
                    0.0017022435245818333,
                    0.001667311157926213,
                    0.0014469833369414676,
                    0.001295214954100239,
                    0.001212032514142537,
                    0.0011638861244534955,
                    0.001087674408843776,
                    0.0010344613194814816,
                    0.0010257263784449436,
                    0.0010017206942935341,
                    0.0008118534708019845,
                    0.0007121320365370494
                  ],
                  "yaxis": "y4"
                }
              ],
              "layout": {
                "bargap": 0.1,
                "height": 1000,
                "template": {
                  "data": {
                    "bar": [
                      {
                        "error_x": {
                          "color": "#2a3f5f"
                        },
                        "error_y": {
                          "color": "#2a3f5f"
                        },
                        "marker": {
                          "line": {
                            "color": "#E5ECF6",
                            "width": 0.5
                          },
                          "pattern": {
                            "fillmode": "overlay",
                            "size": 10,
                            "solidity": 0.2
                          }
                        },
                        "type": "bar"
                      }
                    ],
                    "barpolar": [
                      {
                        "marker": {
                          "line": {
                            "color": "#E5ECF6",
                            "width": 0.5
                          },
                          "pattern": {
                            "fillmode": "overlay",
                            "size": 10,
                            "solidity": 0.2
                          }
                        },
                        "type": "barpolar"
                      }
                    ],
                    "carpet": [
                      {
                        "aaxis": {
                          "endlinecolor": "#2a3f5f",
                          "gridcolor": "white",
                          "linecolor": "white",
                          "minorgridcolor": "white",
                          "startlinecolor": "#2a3f5f"
                        },
                        "baxis": {
                          "endlinecolor": "#2a3f5f",
                          "gridcolor": "white",
                          "linecolor": "white",
                          "minorgridcolor": "white",
                          "startlinecolor": "#2a3f5f"
                        },
                        "type": "carpet"
                      }
                    ],
                    "choropleth": [
                      {
                        "colorbar": {
                          "outlinewidth": 0,
                          "ticks": ""
                        },
                        "type": "choropleth"
                      }
                    ],
                    "contour": [
                      {
                        "colorbar": {
                          "outlinewidth": 0,
                          "ticks": ""
                        },
                        "colorscale": [
                          [
                            0,
                            "#0d0887"
                          ],
                          [
                            0.1111111111111111,
                            "#46039f"
                          ],
                          [
                            0.2222222222222222,
                            "#7201a8"
                          ],
                          [
                            0.3333333333333333,
                            "#9c179e"
                          ],
                          [
                            0.4444444444444444,
                            "#bd3786"
                          ],
                          [
                            0.5555555555555556,
                            "#d8576b"
                          ],
                          [
                            0.6666666666666666,
                            "#ed7953"
                          ],
                          [
                            0.7777777777777778,
                            "#fb9f3a"
                          ],
                          [
                            0.8888888888888888,
                            "#fdca26"
                          ],
                          [
                            1,
                            "#f0f921"
                          ]
                        ],
                        "type": "contour"
                      }
                    ],
                    "contourcarpet": [
                      {
                        "colorbar": {
                          "outlinewidth": 0,
                          "ticks": ""
                        },
                        "type": "contourcarpet"
                      }
                    ],
                    "heatmap": [
                      {
                        "colorbar": {
                          "outlinewidth": 0,
                          "ticks": ""
                        },
                        "colorscale": [
                          [
                            0,
                            "#0d0887"
                          ],
                          [
                            0.1111111111111111,
                            "#46039f"
                          ],
                          [
                            0.2222222222222222,
                            "#7201a8"
                          ],
                          [
                            0.3333333333333333,
                            "#9c179e"
                          ],
                          [
                            0.4444444444444444,
                            "#bd3786"
                          ],
                          [
                            0.5555555555555556,
                            "#d8576b"
                          ],
                          [
                            0.6666666666666666,
                            "#ed7953"
                          ],
                          [
                            0.7777777777777778,
                            "#fb9f3a"
                          ],
                          [
                            0.8888888888888888,
                            "#fdca26"
                          ],
                          [
                            1,
                            "#f0f921"
                          ]
                        ],
                        "type": "heatmap"
                      }
                    ],
                    "heatmapgl": [
                      {
                        "colorbar": {
                          "outlinewidth": 0,
                          "ticks": ""
                        },
                        "colorscale": [
                          [
                            0,
                            "#0d0887"
                          ],
                          [
                            0.1111111111111111,
                            "#46039f"
                          ],
                          [
                            0.2222222222222222,
                            "#7201a8"
                          ],
                          [
                            0.3333333333333333,
                            "#9c179e"
                          ],
                          [
                            0.4444444444444444,
                            "#bd3786"
                          ],
                          [
                            0.5555555555555556,
                            "#d8576b"
                          ],
                          [
                            0.6666666666666666,
                            "#ed7953"
                          ],
                          [
                            0.7777777777777778,
                            "#fb9f3a"
                          ],
                          [
                            0.8888888888888888,
                            "#fdca26"
                          ],
                          [
                            1,
                            "#f0f921"
                          ]
                        ],
                        "type": "heatmapgl"
                      }
                    ],
                    "histogram": [
                      {
                        "marker": {
                          "pattern": {
                            "fillmode": "overlay",
                            "size": 10,
                            "solidity": 0.2
                          }
                        },
                        "type": "histogram"
                      }
                    ],
                    "histogram2d": [
                      {
                        "colorbar": {
                          "outlinewidth": 0,
                          "ticks": ""
                        },
                        "colorscale": [
                          [
                            0,
                            "#0d0887"
                          ],
                          [
                            0.1111111111111111,
                            "#46039f"
                          ],
                          [
                            0.2222222222222222,
                            "#7201a8"
                          ],
                          [
                            0.3333333333333333,
                            "#9c179e"
                          ],
                          [
                            0.4444444444444444,
                            "#bd3786"
                          ],
                          [
                            0.5555555555555556,
                            "#d8576b"
                          ],
                          [
                            0.6666666666666666,
                            "#ed7953"
                          ],
                          [
                            0.7777777777777778,
                            "#fb9f3a"
                          ],
                          [
                            0.8888888888888888,
                            "#fdca26"
                          ],
                          [
                            1,
                            "#f0f921"
                          ]
                        ],
                        "type": "histogram2d"
                      }
                    ],
                    "histogram2dcontour": [
                      {
                        "colorbar": {
                          "outlinewidth": 0,
                          "ticks": ""
                        },
                        "colorscale": [
                          [
                            0,
                            "#0d0887"
                          ],
                          [
                            0.1111111111111111,
                            "#46039f"
                          ],
                          [
                            0.2222222222222222,
                            "#7201a8"
                          ],
                          [
                            0.3333333333333333,
                            "#9c179e"
                          ],
                          [
                            0.4444444444444444,
                            "#bd3786"
                          ],
                          [
                            0.5555555555555556,
                            "#d8576b"
                          ],
                          [
                            0.6666666666666666,
                            "#ed7953"
                          ],
                          [
                            0.7777777777777778,
                            "#fb9f3a"
                          ],
                          [
                            0.8888888888888888,
                            "#fdca26"
                          ],
                          [
                            1,
                            "#f0f921"
                          ]
                        ],
                        "type": "histogram2dcontour"
                      }
                    ],
                    "mesh3d": [
                      {
                        "colorbar": {
                          "outlinewidth": 0,
                          "ticks": ""
                        },
                        "type": "mesh3d"
                      }
                    ],
                    "parcoords": [
                      {
                        "line": {
                          "colorbar": {
                            "outlinewidth": 0,
                            "ticks": ""
                          }
                        },
                        "type": "parcoords"
                      }
                    ],
                    "pie": [
                      {
                        "automargin": true,
                        "type": "pie"
                      }
                    ],
                    "scatter": [
                      {
                        "fillpattern": {
                          "fillmode": "overlay",
                          "size": 10,
                          "solidity": 0.2
                        },
                        "type": "scatter"
                      }
                    ],
                    "scatter3d": [
                      {
                        "line": {
                          "colorbar": {
                            "outlinewidth": 0,
                            "ticks": ""
                          }
                        },
                        "marker": {
                          "colorbar": {
                            "outlinewidth": 0,
                            "ticks": ""
                          }
                        },
                        "type": "scatter3d"
                      }
                    ],
                    "scattercarpet": [
                      {
                        "marker": {
                          "colorbar": {
                            "outlinewidth": 0,
                            "ticks": ""
                          }
                        },
                        "type": "scattercarpet"
                      }
                    ],
                    "scattergeo": [
                      {
                        "marker": {
                          "colorbar": {
                            "outlinewidth": 0,
                            "ticks": ""
                          }
                        },
                        "type": "scattergeo"
                      }
                    ],
                    "scattergl": [
                      {
                        "marker": {
                          "colorbar": {
                            "outlinewidth": 0,
                            "ticks": ""
                          }
                        },
                        "type": "scattergl"
                      }
                    ],
                    "scattermapbox": [
                      {
                        "marker": {
                          "colorbar": {
                            "outlinewidth": 0,
                            "ticks": ""
                          }
                        },
                        "type": "scattermapbox"
                      }
                    ],
                    "scatterpolar": [
                      {
                        "marker": {
                          "colorbar": {
                            "outlinewidth": 0,
                            "ticks": ""
                          }
                        },
                        "type": "scatterpolar"
                      }
                    ],
                    "scatterpolargl": [
                      {
                        "marker": {
                          "colorbar": {
                            "outlinewidth": 0,
                            "ticks": ""
                          }
                        },
                        "type": "scatterpolargl"
                      }
                    ],
                    "scatterternary": [
                      {
                        "marker": {
                          "colorbar": {
                            "outlinewidth": 0,
                            "ticks": ""
                          }
                        },
                        "type": "scatterternary"
                      }
                    ],
                    "surface": [
                      {
                        "colorbar": {
                          "outlinewidth": 0,
                          "ticks": ""
                        },
                        "colorscale": [
                          [
                            0,
                            "#0d0887"
                          ],
                          [
                            0.1111111111111111,
                            "#46039f"
                          ],
                          [
                            0.2222222222222222,
                            "#7201a8"
                          ],
                          [
                            0.3333333333333333,
                            "#9c179e"
                          ],
                          [
                            0.4444444444444444,
                            "#bd3786"
                          ],
                          [
                            0.5555555555555556,
                            "#d8576b"
                          ],
                          [
                            0.6666666666666666,
                            "#ed7953"
                          ],
                          [
                            0.7777777777777778,
                            "#fb9f3a"
                          ],
                          [
                            0.8888888888888888,
                            "#fdca26"
                          ],
                          [
                            1,
                            "#f0f921"
                          ]
                        ],
                        "type": "surface"
                      }
                    ],
                    "table": [
                      {
                        "cells": {
                          "fill": {
                            "color": "#EBF0F8"
                          },
                          "line": {
                            "color": "white"
                          }
                        },
                        "header": {
                          "fill": {
                            "color": "#C8D4E3"
                          },
                          "line": {
                            "color": "white"
                          }
                        },
                        "type": "table"
                      }
                    ]
                  },
                  "layout": {
                    "annotationdefaults": {
                      "arrowcolor": "#2a3f5f",
                      "arrowhead": 0,
                      "arrowwidth": 1
                    },
                    "autotypenumbers": "strict",
                    "coloraxis": {
                      "colorbar": {
                        "outlinewidth": 0,
                        "ticks": ""
                      }
                    },
                    "colorscale": {
                      "diverging": [
                        [
                          0,
                          "#8e0152"
                        ],
                        [
                          0.1,
                          "#c51b7d"
                        ],
                        [
                          0.2,
                          "#de77ae"
                        ],
                        [
                          0.3,
                          "#f1b6da"
                        ],
                        [
                          0.4,
                          "#fde0ef"
                        ],
                        [
                          0.5,
                          "#f7f7f7"
                        ],
                        [
                          0.6,
                          "#e6f5d0"
                        ],
                        [
                          0.7,
                          "#b8e186"
                        ],
                        [
                          0.8,
                          "#7fbc41"
                        ],
                        [
                          0.9,
                          "#4d9221"
                        ],
                        [
                          1,
                          "#276419"
                        ]
                      ],
                      "sequential": [
                        [
                          0,
                          "#0d0887"
                        ],
                        [
                          0.1111111111111111,
                          "#46039f"
                        ],
                        [
                          0.2222222222222222,
                          "#7201a8"
                        ],
                        [
                          0.3333333333333333,
                          "#9c179e"
                        ],
                        [
                          0.4444444444444444,
                          "#bd3786"
                        ],
                        [
                          0.5555555555555556,
                          "#d8576b"
                        ],
                        [
                          0.6666666666666666,
                          "#ed7953"
                        ],
                        [
                          0.7777777777777778,
                          "#fb9f3a"
                        ],
                        [
                          0.8888888888888888,
                          "#fdca26"
                        ],
                        [
                          1,
                          "#f0f921"
                        ]
                      ],
                      "sequentialminus": [
                        [
                          0,
                          "#0d0887"
                        ],
                        [
                          0.1111111111111111,
                          "#46039f"
                        ],
                        [
                          0.2222222222222222,
                          "#7201a8"
                        ],
                        [
                          0.3333333333333333,
                          "#9c179e"
                        ],
                        [
                          0.4444444444444444,
                          "#bd3786"
                        ],
                        [
                          0.5555555555555556,
                          "#d8576b"
                        ],
                        [
                          0.6666666666666666,
                          "#ed7953"
                        ],
                        [
                          0.7777777777777778,
                          "#fb9f3a"
                        ],
                        [
                          0.8888888888888888,
                          "#fdca26"
                        ],
                        [
                          1,
                          "#f0f921"
                        ]
                      ]
                    },
                    "colorway": [
                      "#636efa",
                      "#EF553B",
                      "#00cc96",
                      "#ab63fa",
                      "#FFA15A",
                      "#19d3f3",
                      "#FF6692",
                      "#B6E880",
                      "#FF97FF",
                      "#FECB52"
                    ],
                    "font": {
                      "color": "#2a3f5f"
                    },
                    "geo": {
                      "bgcolor": "white",
                      "lakecolor": "white",
                      "landcolor": "#E5ECF6",
                      "showlakes": true,
                      "showland": true,
                      "subunitcolor": "white"
                    },
                    "hoverlabel": {
                      "align": "left"
                    },
                    "hovermode": "closest",
                    "mapbox": {
                      "style": "light"
                    },
                    "paper_bgcolor": "white",
                    "plot_bgcolor": "#E5ECF6",
                    "polar": {
                      "angularaxis": {
                        "gridcolor": "white",
                        "linecolor": "white",
                        "ticks": ""
                      },
                      "bgcolor": "#E5ECF6",
                      "radialaxis": {
                        "gridcolor": "white",
                        "linecolor": "white",
                        "ticks": ""
                      }
                    },
                    "scene": {
                      "xaxis": {
                        "backgroundcolor": "#E5ECF6",
                        "gridcolor": "white",
                        "gridwidth": 2,
                        "linecolor": "white",
                        "showbackground": true,
                        "ticks": "",
                        "zerolinecolor": "white"
                      },
                      "yaxis": {
                        "backgroundcolor": "#E5ECF6",
                        "gridcolor": "white",
                        "gridwidth": 2,
                        "linecolor": "white",
                        "showbackground": true,
                        "ticks": "",
                        "zerolinecolor": "white"
                      },
                      "zaxis": {
                        "backgroundcolor": "#E5ECF6",
                        "gridcolor": "white",
                        "gridwidth": 2,
                        "linecolor": "white",
                        "showbackground": true,
                        "ticks": "",
                        "zerolinecolor": "white"
                      }
                    },
                    "shapedefaults": {
                      "line": {
                        "color": "#2a3f5f"
                      }
                    },
                    "ternary": {
                      "aaxis": {
                        "gridcolor": "white",
                        "linecolor": "white",
                        "ticks": ""
                      },
                      "baxis": {
                        "gridcolor": "white",
                        "linecolor": "white",
                        "ticks": ""
                      },
                      "bgcolor": "#E5ECF6",
                      "caxis": {
                        "gridcolor": "white",
                        "linecolor": "white",
                        "ticks": ""
                      }
                    },
                    "title": {
                      "x": 0.05
                    },
                    "xaxis": {
                      "automargin": true,
                      "gridcolor": "white",
                      "linecolor": "white",
                      "ticks": "",
                      "title": {
                        "standoff": 15
                      },
                      "zerolinecolor": "white",
                      "zerolinewidth": 2
                    },
                    "yaxis": {
                      "automargin": true,
                      "gridcolor": "white",
                      "linecolor": "white",
                      "ticks": "",
                      "title": {
                        "standoff": 15
                      },
                      "zerolinecolor": "white",
                      "zerolinewidth": 2
                    }
                  }
                },
                "title": {
                  "text": "Dash"
                },
                "width": 1000,
                "xaxis": {
                  "anchor": "y",
                  "domain": [
                    0,
                    0.45
                  ]
                },
                "xaxis2": {
                  "anchor": "y2",
                  "domain": [
                    0.55,
                    1
                  ]
                },
                "xaxis3": {
                  "anchor": "y3",
                  "domain": [
                    0,
                    0.45
                  ]
                },
                "xaxis4": {
                  "anchor": "y4",
                  "domain": [
                    0.55,
                    1
                  ]
                },
                "yaxis": {
                  "anchor": "x",
                  "domain": [
                    0.575,
                    1
                  ]
                },
                "yaxis2": {
                  "anchor": "x2",
                  "domain": [
                    0.575,
                    1
                  ]
                },
                "yaxis3": {
                  "anchor": "x3",
                  "domain": [
                    0,
                    0.425
                  ]
                },
                "yaxis4": {
                  "anchor": "x4",
                  "domain": [
                    0,
                    0.425
                  ]
                }
              }
            }
          },
          "metadata": {},
          "output_type": "display_data"
        }
      ],
      "source": [
        "fig = make_subplots(rows=2, cols=2)\n",
        "\n",
        "feature_importance_trace = go.Bar(\n",
        "    x=popular_songs_coeff_importance[\"variable\"], \n",
        "    y=popular_songs_coeff_importance[\"weight\"], \n",
        "    marker_color=\"blue\", \n",
        "    width=np.repeat(0.65, len(popular_songs_coeff_importance[:]))\n",
        ")\n",
        "\n",
        "fig.add_trace(reproduction_distribution_trace, row=1, col=1)\n",
        "fig.add_trace(stream_corr_heatmap, row=1, col=2)\n",
        "fig.add_traces(song_count_traces, rows=2, cols=1)\n",
        "fig.add_trace(feature_importance_trace, row=2, col=2)\n",
        "fig.update_layout(width=1000, height=1000, bargap=0.1, title=\"Dash\")\n",
        "fig.show()"
      ]
    },
    {
      "cell_type": "markdown",
      "metadata": {},
      "source": [
        "El éxito de la canción está muy correlado con el hecho de que se publique en las principales plataformas (Deezer, Spotify, Apple). \n",
        "\n",
        "También es importante que sea algo acústica, enérgica y que se pueda bailar.\n",
        "\n",
        "Y no hay una diferencia significativa entre sacar una canción o sacar múltiples (en cuanto al número de reproducciones)."
      ]
    }
  ],
  "metadata": {
    "colab": {
      "provenance": []
    },
    "kernelspec": {
      "display_name": "Python 3",
      "name": "python3"
    },
    "language_info": {
      "codemirror_mode": {
        "name": "ipython",
        "version": 3
      },
      "file_extension": ".py",
      "mimetype": "text/x-python",
      "name": "python",
      "nbconvert_exporter": "python",
      "pygments_lexer": "ipython3",
      "version": "3.10.11"
    }
  },
  "nbformat": 4,
  "nbformat_minor": 0
}
